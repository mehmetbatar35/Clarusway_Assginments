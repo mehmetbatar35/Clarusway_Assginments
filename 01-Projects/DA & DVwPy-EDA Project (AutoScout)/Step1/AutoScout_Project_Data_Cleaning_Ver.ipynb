{
 "cells": [
  {
   "cell_type": "code",
   "execution_count": 6,
   "metadata": {},
   "outputs": [],
   "source": [
    "import numpy as np\n",
    "import pandas as pd\n",
    "import matplotlib as mpl\n",
    "import matplotlib.pyplot as plt\n",
    "import seaborn as sns\n",
    "import scipy.stats as stats\n",
    "import re\n",
    "from skimpy import clean_columns\n",
    "from datetime import datetime"
   ]
  },
  {
   "cell_type": "code",
   "execution_count": 7,
   "metadata": {},
   "outputs": [],
   "source": [
    "as24_cars_df = pd.read_json(\"as24_cars.json\")\n",
    "df = as24_cars_df.copy() # copy to avoid changing original data"
   ]
  },
  {
   "cell_type": "code",
   "execution_count": 8,
   "metadata": {},
   "outputs": [
    {
     "data": {
      "text/html": [
       "<div>\n",
       "<style scoped>\n",
       "    .dataframe tbody tr th:only-of-type {\n",
       "        vertical-align: middle;\n",
       "    }\n",
       "\n",
       "    .dataframe tbody tr th {\n",
       "        vertical-align: top;\n",
       "    }\n",
       "\n",
       "    .dataframe thead th {\n",
       "        text-align: right;\n",
       "    }\n",
       "</style>\n",
       "<table border=\"1\" class=\"dataframe\">\n",
       "  <thead>\n",
       "    <tr style=\"text-align: right;\">\n",
       "      <th></th>\n",
       "      <th>0</th>\n",
       "      <th>1</th>\n",
       "      <th>2</th>\n",
       "      <th>3</th>\n",
       "      <th>4</th>\n",
       "    </tr>\n",
       "  </thead>\n",
       "  <tbody>\n",
       "    <tr>\n",
       "      <th>make_model</th>\n",
       "      <td>Mercedes-Benz A 160</td>\n",
       "      <td>Mercedes-Benz EQE 350</td>\n",
       "      <td>Mercedes-Benz A 45 AMG</td>\n",
       "      <td>Mercedes-Benz A 35 AMG</td>\n",
       "      <td>Mercedes-Benz A 45 AMG</td>\n",
       "    </tr>\n",
       "    <tr>\n",
       "      <th>short_description</th>\n",
       "      <td>CDi</td>\n",
       "      <td>350+</td>\n",
       "      <td>S 4Matic+ 8G-DCT</td>\n",
       "      <td>4Matic+ 7G-DCT</td>\n",
       "      <td>200CDI BE Line 4M 7G-DCT</td>\n",
       "    </tr>\n",
       "    <tr>\n",
       "      <th>make</th>\n",
       "      <td>\\nMercedes-Benz\\n</td>\n",
       "      <td>\\nMercedes-Benz\\n</td>\n",
       "      <td>\\nMercedes-Benz\\n</td>\n",
       "      <td>\\nMercedes-Benz\\n</td>\n",
       "      <td>\\nMercedes-Benz\\n</td>\n",
       "    </tr>\n",
       "    <tr>\n",
       "      <th>model</th>\n",
       "      <td>[\\n, A 160 ,\\n]</td>\n",
       "      <td>[\\n, EQE 350 ,\\n]</td>\n",
       "      <td>[\\n, A 45 AMG ,\\n]</td>\n",
       "      <td>[\\n, A 35 AMG ,\\n]</td>\n",
       "      <td>[\\n, A 45 AMG ,\\n]</td>\n",
       "    </tr>\n",
       "    <tr>\n",
       "      <th>location</th>\n",
       "      <td>P.I. EL PALMAR C/FORJA 6,  11500 PUERTO DE SAN...</td>\n",
       "      <td>APARTADO DE CORREOS 1032,  26140 LOGROÑO, ES</td>\n",
       "      <td>PORT. TARRACO, MOLL DE LLEVANT, Nº 5, LOC. 6-8...</td>\n",
       "      <td>Carrer de Provença, 31 Local,  8029 BARCELONA, ES</td>\n",
       "      <td>CARRIL ARAGONES 4,  30007 CASILLAS, ES</td>\n",
       "    </tr>\n",
       "    <tr>\n",
       "      <th>price</th>\n",
       "      <td>€ 16,950.-</td>\n",
       "      <td>€ 80,900.-</td>\n",
       "      <td>€ 69,900.-</td>\n",
       "      <td>€ 46,990.-</td>\n",
       "      <td>€ 16,800.-</td>\n",
       "    </tr>\n",
       "    <tr>\n",
       "      <th>Body type</th>\n",
       "      <td>[\\n, Compact, \\n]</td>\n",
       "      <td>[\\n, Compact, \\n]</td>\n",
       "      <td>[\\n, Compact, \\n]</td>\n",
       "      <td>[\\n, Compact, \\n]</td>\n",
       "      <td>[\\n, Compact, \\n]</td>\n",
       "    </tr>\n",
       "    <tr>\n",
       "      <th>Type</th>\n",
       "      <td>[\\n, Used, \\n]</td>\n",
       "      <td>[\\n, Pre-registered, \\n]</td>\n",
       "      <td>[\\n, Used, \\n]</td>\n",
       "      <td>[\\n, Used, \\n]</td>\n",
       "      <td>[\\n, Used, \\n]</td>\n",
       "    </tr>\n",
       "    <tr>\n",
       "      <th>Doors</th>\n",
       "      <td>[\\n, 5, \\n]</td>\n",
       "      <td>[\\n, 4, \\n]</td>\n",
       "      <td>[\\n, 5, \\n]</td>\n",
       "      <td>[\\n, 5, \\n]</td>\n",
       "      <td>[\\n, 5, \\n]</td>\n",
       "    </tr>\n",
       "    <tr>\n",
       "      <th>Country version</th>\n",
       "      <td>[\\n, Spain, \\n]</td>\n",
       "      <td>[\\n, Spain, \\n]</td>\n",
       "      <td>[\\n, Spain, \\n]</td>\n",
       "      <td>[\\n, Spain, \\n]</td>\n",
       "      <td>[\\n, Spain, \\n]</td>\n",
       "    </tr>\n",
       "    <tr>\n",
       "      <th>Offer number</th>\n",
       "      <td>[\\n, 7468157, \\n]</td>\n",
       "      <td>[\\n, 7054863, \\n]</td>\n",
       "      <td>[\\n, 7410454, \\n]</td>\n",
       "      <td>[\\n, 7464503, \\n]</td>\n",
       "      <td>[\\n, 7127931, \\n]</td>\n",
       "    </tr>\n",
       "    <tr>\n",
       "      <th>Warranty</th>\n",
       "      <td>[\\n, 24 months, \\n]</td>\n",
       "      <td>[\\n, 24 months, \\n]</td>\n",
       "      <td>[\\n, 12 months, \\n]</td>\n",
       "      <td>[\\n, 12 months, \\n]</td>\n",
       "      <td>[\\n, 12 months, \\n]</td>\n",
       "    </tr>\n",
       "    <tr>\n",
       "      <th>Mileage</th>\n",
       "      <td>120,200 km</td>\n",
       "      <td>5,000 km</td>\n",
       "      <td>18,900 km</td>\n",
       "      <td>18,995 km</td>\n",
       "      <td>197,000 km</td>\n",
       "    </tr>\n",
       "    <tr>\n",
       "      <th>First registration</th>\n",
       "      <td>06/2016</td>\n",
       "      <td>06/2022</td>\n",
       "      <td>07/2020</td>\n",
       "      <td>01/2020</td>\n",
       "      <td>09/2015</td>\n",
       "    </tr>\n",
       "    <tr>\n",
       "      <th>Gearbox</th>\n",
       "      <td>[\\nManual\\n]</td>\n",
       "      <td>[\\nAutomatic\\n]</td>\n",
       "      <td>[\\nAutomatic\\n]</td>\n",
       "      <td>[\\nAutomatic\\n]</td>\n",
       "      <td>[\\nAutomatic\\n]</td>\n",
       "    </tr>\n",
       "    <tr>\n",
       "      <th>Fuel type</th>\n",
       "      <td>Diesel</td>\n",
       "      <td>Electric</td>\n",
       "      <td>Gasoline</td>\n",
       "      <td>Gasoline</td>\n",
       "      <td>Diesel</td>\n",
       "    </tr>\n",
       "    <tr>\n",
       "      <th>Colour</th>\n",
       "      <td>Black</td>\n",
       "      <td>NaN</td>\n",
       "      <td>Grey</td>\n",
       "      <td>Yellow</td>\n",
       "      <td>White</td>\n",
       "    </tr>\n",
       "    <tr>\n",
       "      <th>Paint</th>\n",
       "      <td>Metallic</td>\n",
       "      <td>NaN</td>\n",
       "      <td>NaN</td>\n",
       "      <td>NaN</td>\n",
       "      <td>Metallic</td>\n",
       "    </tr>\n",
       "    <tr>\n",
       "      <th>desc</th>\n",
       "      <td>[ , Precio al contado: 16950 euros,  ,  , Vehí...</td>\n",
       "      <td>[ , Precio al contado: 88900 euros,  , AUTO OJ...</td>\n",
       "      <td>[Gris MANUFAKTUR mountaingrau magno,  , Linea/...</td>\n",
       "      <td>[ , Precio al contado: 48990 euros,  ,  , BONI...</td>\n",
       "      <td>[ , Precio al contado: 17400 euros,  , Vehícul...</td>\n",
       "    </tr>\n",
       "    <tr>\n",
       "      <th>seller</th>\n",
       "      <td>Dealer</td>\n",
       "      <td>Dealer</td>\n",
       "      <td>Dealer</td>\n",
       "      <td>Dealer</td>\n",
       "      <td>Dealer</td>\n",
       "    </tr>\n",
       "    <tr>\n",
       "      <th>Seats</th>\n",
       "      <td>NaN</td>\n",
       "      <td>[\\n, 5, \\n]</td>\n",
       "      <td>[\\n, 5, \\n]</td>\n",
       "      <td>[\\n, 5, \\n]</td>\n",
       "      <td>[\\n, 5, \\n]</td>\n",
       "    </tr>\n",
       "    <tr>\n",
       "      <th>Power</th>\n",
       "      <td>NaN</td>\n",
       "      <td>[\\n215 kW (292 hp)\\n]</td>\n",
       "      <td>[\\n310 kW (421 hp)\\n]</td>\n",
       "      <td>[\\n225 kW (306 hp)\\n]</td>\n",
       "      <td>[\\n100 kW (136 hp)\\n]</td>\n",
       "    </tr>\n",
       "    <tr>\n",
       "      <th>Engine size</th>\n",
       "      <td>NaN</td>\n",
       "      <td>[\\n1 cc\\n]</td>\n",
       "      <td>[\\n1,991 cc\\n]</td>\n",
       "      <td>[\\n1,991 cc\\n]</td>\n",
       "      <td>[\\n2,143 cc\\n]</td>\n",
       "    </tr>\n",
       "    <tr>\n",
       "      <th>Gears</th>\n",
       "      <td>NaN</td>\n",
       "      <td>[\\n9\\n]</td>\n",
       "      <td>[\\n8\\n]</td>\n",
       "      <td>[\\n7\\n]</td>\n",
       "      <td>[\\n7\\n]</td>\n",
       "    </tr>\n",
       "    <tr>\n",
       "      <th>CO₂-emissions</th>\n",
       "      <td>NaN</td>\n",
       "      <td>0 g/km (comb.)</td>\n",
       "      <td>NaN</td>\n",
       "      <td>NaN</td>\n",
       "      <td>NaN</td>\n",
       "    </tr>\n",
       "    <tr>\n",
       "      <th>Manufacturer colour</th>\n",
       "      <td>NaN</td>\n",
       "      <td>Negro Obsidiana</td>\n",
       "      <td>Mountaingrau magno</td>\n",
       "      <td>Amarillo Sol</td>\n",
       "      <td>NaN</td>\n",
       "    </tr>\n",
       "    <tr>\n",
       "      <th>Drivetrain</th>\n",
       "      <td>NaN</td>\n",
       "      <td>NaN</td>\n",
       "      <td>[\\n, 4WD, \\n]</td>\n",
       "      <td>[\\n, 4WD, \\n]</td>\n",
       "      <td>[\\n, 4WD, \\n]</td>\n",
       "    </tr>\n",
       "    <tr>\n",
       "      <th>Cylinders</th>\n",
       "      <td>NaN</td>\n",
       "      <td>NaN</td>\n",
       "      <td>[\\n4\\n]</td>\n",
       "      <td>[\\n4\\n]</td>\n",
       "      <td>[\\n4\\n]</td>\n",
       "    </tr>\n",
       "    <tr>\n",
       "      <th>Fuel consumption</th>\n",
       "      <td>NaN</td>\n",
       "      <td>NaN</td>\n",
       "      <td>[[8.4 l/100 km (comb.)], [10.9 l/100 km (city)...</td>\n",
       "      <td>[[7.3 l/100 km (comb.)], [9.3 l/100 km (city)]...</td>\n",
       "      <td>[[4.9 l/100 km (comb.)], [5.7 l/100 km (city)]...</td>\n",
       "    </tr>\n",
       "    <tr>\n",
       "      <th>\\nComfort &amp; Convenience\\n</th>\n",
       "      <td>NaN</td>\n",
       "      <td>NaN</td>\n",
       "      <td>NaN</td>\n",
       "      <td>[Air conditioning, Automatic climate control, ...</td>\n",
       "      <td>[Air conditioning, Electrical side mirrors, Mu...</td>\n",
       "    </tr>\n",
       "    <tr>\n",
       "      <th>\\nEntertainment &amp; Media\\n</th>\n",
       "      <td>NaN</td>\n",
       "      <td>NaN</td>\n",
       "      <td>NaN</td>\n",
       "      <td>[USB]</td>\n",
       "      <td>[Bluetooth, CD player, MP3, USB]</td>\n",
       "    </tr>\n",
       "    <tr>\n",
       "      <th>\\nSafety &amp; Security\\n</th>\n",
       "      <td>NaN</td>\n",
       "      <td>NaN</td>\n",
       "      <td>NaN</td>\n",
       "      <td>[ABS, Central door lock, Driver-side airbag, E...</td>\n",
       "      <td>[ABS, Central door lock, Driver-side airbag, E...</td>\n",
       "    </tr>\n",
       "    <tr>\n",
       "      <th>\\nExtras\\n</th>\n",
       "      <td>NaN</td>\n",
       "      <td>NaN</td>\n",
       "      <td>NaN</td>\n",
       "      <td>[Sport seats]</td>\n",
       "      <td>NaN</td>\n",
       "    </tr>\n",
       "    <tr>\n",
       "      <th>Empty weight</th>\n",
       "      <td>NaN</td>\n",
       "      <td>NaN</td>\n",
       "      <td>NaN</td>\n",
       "      <td>NaN</td>\n",
       "      <td>[\\n1,545 kg\\n]</td>\n",
       "    </tr>\n",
       "    <tr>\n",
       "      <th>Model code</th>\n",
       "      <td>NaN</td>\n",
       "      <td>NaN</td>\n",
       "      <td>NaN</td>\n",
       "      <td>NaN</td>\n",
       "      <td>NaN</td>\n",
       "    </tr>\n",
       "    <tr>\n",
       "      <th>General inspection</th>\n",
       "      <td>NaN</td>\n",
       "      <td>NaN</td>\n",
       "      <td>NaN</td>\n",
       "      <td>NaN</td>\n",
       "      <td>NaN</td>\n",
       "    </tr>\n",
       "    <tr>\n",
       "      <th>Last service</th>\n",
       "      <td>NaN</td>\n",
       "      <td>NaN</td>\n",
       "      <td>NaN</td>\n",
       "      <td>NaN</td>\n",
       "      <td>NaN</td>\n",
       "    </tr>\n",
       "    <tr>\n",
       "      <th>Full service history</th>\n",
       "      <td>NaN</td>\n",
       "      <td>NaN</td>\n",
       "      <td>NaN</td>\n",
       "      <td>NaN</td>\n",
       "      <td>NaN</td>\n",
       "    </tr>\n",
       "    <tr>\n",
       "      <th>Non-smoker vehicle</th>\n",
       "      <td>NaN</td>\n",
       "      <td>NaN</td>\n",
       "      <td>NaN</td>\n",
       "      <td>NaN</td>\n",
       "      <td>NaN</td>\n",
       "    </tr>\n",
       "    <tr>\n",
       "      <th>Emission class</th>\n",
       "      <td>NaN</td>\n",
       "      <td>NaN</td>\n",
       "      <td>NaN</td>\n",
       "      <td>NaN</td>\n",
       "      <td>NaN</td>\n",
       "    </tr>\n",
       "    <tr>\n",
       "      <th>Emissions sticker</th>\n",
       "      <td>NaN</td>\n",
       "      <td>NaN</td>\n",
       "      <td>NaN</td>\n",
       "      <td>NaN</td>\n",
       "      <td>NaN</td>\n",
       "    </tr>\n",
       "    <tr>\n",
       "      <th>Upholstery colour</th>\n",
       "      <td>NaN</td>\n",
       "      <td>NaN</td>\n",
       "      <td>NaN</td>\n",
       "      <td>NaN</td>\n",
       "      <td>NaN</td>\n",
       "    </tr>\n",
       "    <tr>\n",
       "      <th>Upholstery</th>\n",
       "      <td>NaN</td>\n",
       "      <td>NaN</td>\n",
       "      <td>NaN</td>\n",
       "      <td>NaN</td>\n",
       "      <td>NaN</td>\n",
       "    </tr>\n",
       "    <tr>\n",
       "      <th>Production date</th>\n",
       "      <td>NaN</td>\n",
       "      <td>NaN</td>\n",
       "      <td>NaN</td>\n",
       "      <td>NaN</td>\n",
       "      <td>NaN</td>\n",
       "    </tr>\n",
       "    <tr>\n",
       "      <th>Previous owner</th>\n",
       "      <td>NaN</td>\n",
       "      <td>NaN</td>\n",
       "      <td>NaN</td>\n",
       "      <td>NaN</td>\n",
       "      <td>NaN</td>\n",
       "    </tr>\n",
       "    <tr>\n",
       "      <th>Other fuel types</th>\n",
       "      <td>NaN</td>\n",
       "      <td>NaN</td>\n",
       "      <td>NaN</td>\n",
       "      <td>NaN</td>\n",
       "      <td>NaN</td>\n",
       "    </tr>\n",
       "    <tr>\n",
       "      <th>Power consumption</th>\n",
       "      <td>NaN</td>\n",
       "      <td>NaN</td>\n",
       "      <td>NaN</td>\n",
       "      <td>NaN</td>\n",
       "      <td>NaN</td>\n",
       "    </tr>\n",
       "    <tr>\n",
       "      <th>Energy efficiency class</th>\n",
       "      <td>NaN</td>\n",
       "      <td>NaN</td>\n",
       "      <td>NaN</td>\n",
       "      <td>NaN</td>\n",
       "      <td>NaN</td>\n",
       "    </tr>\n",
       "    <tr>\n",
       "      <th>CO₂-efficiency</th>\n",
       "      <td>NaN</td>\n",
       "      <td>NaN</td>\n",
       "      <td>NaN</td>\n",
       "      <td>NaN</td>\n",
       "      <td>NaN</td>\n",
       "    </tr>\n",
       "    <tr>\n",
       "      <th>Fuel consumption (WLTP)</th>\n",
       "      <td>NaN</td>\n",
       "      <td>NaN</td>\n",
       "      <td>NaN</td>\n",
       "      <td>NaN</td>\n",
       "      <td>NaN</td>\n",
       "    </tr>\n",
       "    <tr>\n",
       "      <th>CO₂-emissions (WLTP)</th>\n",
       "      <td>NaN</td>\n",
       "      <td>NaN</td>\n",
       "      <td>NaN</td>\n",
       "      <td>NaN</td>\n",
       "      <td>NaN</td>\n",
       "    </tr>\n",
       "    <tr>\n",
       "      <th>Available from</th>\n",
       "      <td>NaN</td>\n",
       "      <td>NaN</td>\n",
       "      <td>NaN</td>\n",
       "      <td>NaN</td>\n",
       "      <td>NaN</td>\n",
       "    </tr>\n",
       "    <tr>\n",
       "      <th>Taxi or rental car</th>\n",
       "      <td>NaN</td>\n",
       "      <td>NaN</td>\n",
       "      <td>NaN</td>\n",
       "      <td>NaN</td>\n",
       "      <td>NaN</td>\n",
       "    </tr>\n",
       "    <tr>\n",
       "      <th>Availability</th>\n",
       "      <td>NaN</td>\n",
       "      <td>NaN</td>\n",
       "      <td>NaN</td>\n",
       "      <td>NaN</td>\n",
       "      <td>NaN</td>\n",
       "    </tr>\n",
       "    <tr>\n",
       "      <th>Last timing belt change</th>\n",
       "      <td>NaN</td>\n",
       "      <td>NaN</td>\n",
       "      <td>NaN</td>\n",
       "      <td>NaN</td>\n",
       "      <td>NaN</td>\n",
       "    </tr>\n",
       "    <tr>\n",
       "      <th>Electric Range (WLTP)</th>\n",
       "      <td>NaN</td>\n",
       "      <td>NaN</td>\n",
       "      <td>NaN</td>\n",
       "      <td>NaN</td>\n",
       "      <td>NaN</td>\n",
       "    </tr>\n",
       "    <tr>\n",
       "      <th>Power consumption (WLTP)</th>\n",
       "      <td>NaN</td>\n",
       "      <td>NaN</td>\n",
       "      <td>NaN</td>\n",
       "      <td>NaN</td>\n",
       "      <td>NaN</td>\n",
       "    </tr>\n",
       "    <tr>\n",
       "      <th>Battery Ownership</th>\n",
       "      <td>NaN</td>\n",
       "      <td>NaN</td>\n",
       "      <td>NaN</td>\n",
       "      <td>NaN</td>\n",
       "      <td>NaN</td>\n",
       "    </tr>\n",
       "  </tbody>\n",
       "</table>\n",
       "</div>"
      ],
      "text/plain": [
       "                                                                           0  \\\n",
       "make_model                                               Mercedes-Benz A 160   \n",
       "short_description                                                        CDi   \n",
       "make                                                       \\nMercedes-Benz\\n   \n",
       "model                                                        [\\n, A 160 ,\\n]   \n",
       "location                   P.I. EL PALMAR C/FORJA 6,  11500 PUERTO DE SAN...   \n",
       "price                                                             € 16,950.-   \n",
       "Body type                                                  [\\n, Compact, \\n]   \n",
       "Type                                                          [\\n, Used, \\n]   \n",
       "Doors                                                            [\\n, 5, \\n]   \n",
       "Country version                                              [\\n, Spain, \\n]   \n",
       "Offer number                                               [\\n, 7468157, \\n]   \n",
       "Warranty                                                 [\\n, 24 months, \\n]   \n",
       "Mileage                                                           120,200 km   \n",
       "First registration                                                   06/2016   \n",
       "Gearbox                                                         [\\nManual\\n]   \n",
       "Fuel type                                                             Diesel   \n",
       "Colour                                                                 Black   \n",
       "Paint                                                               Metallic   \n",
       "desc                       [ , Precio al contado: 16950 euros,  ,  , Vehí...   \n",
       "seller                                                                Dealer   \n",
       "Seats                                                                    NaN   \n",
       "Power                                                                    NaN   \n",
       "Engine size                                                              NaN   \n",
       "Gears                                                                    NaN   \n",
       "CO₂-emissions                                                            NaN   \n",
       "Manufacturer colour                                                      NaN   \n",
       "Drivetrain                                                               NaN   \n",
       "Cylinders                                                                NaN   \n",
       "Fuel consumption                                                         NaN   \n",
       "\\nComfort & Convenience\\n                                                NaN   \n",
       "\\nEntertainment & Media\\n                                                NaN   \n",
       "\\nSafety & Security\\n                                                    NaN   \n",
       "\\nExtras\\n                                                               NaN   \n",
       "Empty weight                                                             NaN   \n",
       "Model code                                                               NaN   \n",
       "General inspection                                                       NaN   \n",
       "Last service                                                             NaN   \n",
       "Full service history                                                     NaN   \n",
       "Non-smoker vehicle                                                       NaN   \n",
       "Emission class                                                           NaN   \n",
       "Emissions sticker                                                        NaN   \n",
       "Upholstery colour                                                        NaN   \n",
       "Upholstery                                                               NaN   \n",
       "Production date                                                          NaN   \n",
       "Previous owner                                                           NaN   \n",
       "Other fuel types                                                         NaN   \n",
       "Power consumption                                                        NaN   \n",
       "Energy efficiency class                                                  NaN   \n",
       "CO₂-efficiency                                                           NaN   \n",
       "Fuel consumption (WLTP)                                                  NaN   \n",
       "CO₂-emissions (WLTP)                                                     NaN   \n",
       "Available from                                                           NaN   \n",
       "Taxi or rental car                                                       NaN   \n",
       "Availability                                                             NaN   \n",
       "Last timing belt change                                                  NaN   \n",
       "Electric Range (WLTP)                                                    NaN   \n",
       "Power consumption (WLTP)                                                 NaN   \n",
       "Battery Ownership                                                        NaN   \n",
       "\n",
       "                                                                           1  \\\n",
       "make_model                                             Mercedes-Benz EQE 350   \n",
       "short_description                                                       350+   \n",
       "make                                                       \\nMercedes-Benz\\n   \n",
       "model                                                      [\\n, EQE 350 ,\\n]   \n",
       "location                        APARTADO DE CORREOS 1032,  26140 LOGROÑO, ES   \n",
       "price                                                             € 80,900.-   \n",
       "Body type                                                  [\\n, Compact, \\n]   \n",
       "Type                                                [\\n, Pre-registered, \\n]   \n",
       "Doors                                                            [\\n, 4, \\n]   \n",
       "Country version                                              [\\n, Spain, \\n]   \n",
       "Offer number                                               [\\n, 7054863, \\n]   \n",
       "Warranty                                                 [\\n, 24 months, \\n]   \n",
       "Mileage                                                             5,000 km   \n",
       "First registration                                                   06/2022   \n",
       "Gearbox                                                      [\\nAutomatic\\n]   \n",
       "Fuel type                                                           Electric   \n",
       "Colour                                                                   NaN   \n",
       "Paint                                                                    NaN   \n",
       "desc                       [ , Precio al contado: 88900 euros,  , AUTO OJ...   \n",
       "seller                                                                Dealer   \n",
       "Seats                                                            [\\n, 5, \\n]   \n",
       "Power                                                  [\\n215 kW (292 hp)\\n]   \n",
       "Engine size                                                       [\\n1 cc\\n]   \n",
       "Gears                                                                [\\n9\\n]   \n",
       "CO₂-emissions                                                 0 g/km (comb.)   \n",
       "Manufacturer colour                                          Negro Obsidiana   \n",
       "Drivetrain                                                               NaN   \n",
       "Cylinders                                                                NaN   \n",
       "Fuel consumption                                                         NaN   \n",
       "\\nComfort & Convenience\\n                                                NaN   \n",
       "\\nEntertainment & Media\\n                                                NaN   \n",
       "\\nSafety & Security\\n                                                    NaN   \n",
       "\\nExtras\\n                                                               NaN   \n",
       "Empty weight                                                             NaN   \n",
       "Model code                                                               NaN   \n",
       "General inspection                                                       NaN   \n",
       "Last service                                                             NaN   \n",
       "Full service history                                                     NaN   \n",
       "Non-smoker vehicle                                                       NaN   \n",
       "Emission class                                                           NaN   \n",
       "Emissions sticker                                                        NaN   \n",
       "Upholstery colour                                                        NaN   \n",
       "Upholstery                                                               NaN   \n",
       "Production date                                                          NaN   \n",
       "Previous owner                                                           NaN   \n",
       "Other fuel types                                                         NaN   \n",
       "Power consumption                                                        NaN   \n",
       "Energy efficiency class                                                  NaN   \n",
       "CO₂-efficiency                                                           NaN   \n",
       "Fuel consumption (WLTP)                                                  NaN   \n",
       "CO₂-emissions (WLTP)                                                     NaN   \n",
       "Available from                                                           NaN   \n",
       "Taxi or rental car                                                       NaN   \n",
       "Availability                                                             NaN   \n",
       "Last timing belt change                                                  NaN   \n",
       "Electric Range (WLTP)                                                    NaN   \n",
       "Power consumption (WLTP)                                                 NaN   \n",
       "Battery Ownership                                                        NaN   \n",
       "\n",
       "                                                                           2  \\\n",
       "make_model                                            Mercedes-Benz A 45 AMG   \n",
       "short_description                                           S 4Matic+ 8G-DCT   \n",
       "make                                                       \\nMercedes-Benz\\n   \n",
       "model                                                     [\\n, A 45 AMG ,\\n]   \n",
       "location                   PORT. TARRACO, MOLL DE LLEVANT, Nº 5, LOC. 6-8...   \n",
       "price                                                             € 69,900.-   \n",
       "Body type                                                  [\\n, Compact, \\n]   \n",
       "Type                                                          [\\n, Used, \\n]   \n",
       "Doors                                                            [\\n, 5, \\n]   \n",
       "Country version                                              [\\n, Spain, \\n]   \n",
       "Offer number                                               [\\n, 7410454, \\n]   \n",
       "Warranty                                                 [\\n, 12 months, \\n]   \n",
       "Mileage                                                            18,900 km   \n",
       "First registration                                                   07/2020   \n",
       "Gearbox                                                      [\\nAutomatic\\n]   \n",
       "Fuel type                                                           Gasoline   \n",
       "Colour                                                                  Grey   \n",
       "Paint                                                                    NaN   \n",
       "desc                       [Gris MANUFAKTUR mountaingrau magno,  , Linea/...   \n",
       "seller                                                                Dealer   \n",
       "Seats                                                            [\\n, 5, \\n]   \n",
       "Power                                                  [\\n310 kW (421 hp)\\n]   \n",
       "Engine size                                                   [\\n1,991 cc\\n]   \n",
       "Gears                                                                [\\n8\\n]   \n",
       "CO₂-emissions                                                            NaN   \n",
       "Manufacturer colour                                       Mountaingrau magno   \n",
       "Drivetrain                                                     [\\n, 4WD, \\n]   \n",
       "Cylinders                                                            [\\n4\\n]   \n",
       "Fuel consumption           [[8.4 l/100 km (comb.)], [10.9 l/100 km (city)...   \n",
       "\\nComfort & Convenience\\n                                                NaN   \n",
       "\\nEntertainment & Media\\n                                                NaN   \n",
       "\\nSafety & Security\\n                                                    NaN   \n",
       "\\nExtras\\n                                                               NaN   \n",
       "Empty weight                                                             NaN   \n",
       "Model code                                                               NaN   \n",
       "General inspection                                                       NaN   \n",
       "Last service                                                             NaN   \n",
       "Full service history                                                     NaN   \n",
       "Non-smoker vehicle                                                       NaN   \n",
       "Emission class                                                           NaN   \n",
       "Emissions sticker                                                        NaN   \n",
       "Upholstery colour                                                        NaN   \n",
       "Upholstery                                                               NaN   \n",
       "Production date                                                          NaN   \n",
       "Previous owner                                                           NaN   \n",
       "Other fuel types                                                         NaN   \n",
       "Power consumption                                                        NaN   \n",
       "Energy efficiency class                                                  NaN   \n",
       "CO₂-efficiency                                                           NaN   \n",
       "Fuel consumption (WLTP)                                                  NaN   \n",
       "CO₂-emissions (WLTP)                                                     NaN   \n",
       "Available from                                                           NaN   \n",
       "Taxi or rental car                                                       NaN   \n",
       "Availability                                                             NaN   \n",
       "Last timing belt change                                                  NaN   \n",
       "Electric Range (WLTP)                                                    NaN   \n",
       "Power consumption (WLTP)                                                 NaN   \n",
       "Battery Ownership                                                        NaN   \n",
       "\n",
       "                                                                           3  \\\n",
       "make_model                                            Mercedes-Benz A 35 AMG   \n",
       "short_description                                             4Matic+ 7G-DCT   \n",
       "make                                                       \\nMercedes-Benz\\n   \n",
       "model                                                     [\\n, A 35 AMG ,\\n]   \n",
       "location                   Carrer de Provença, 31 Local,  8029 BARCELONA, ES   \n",
       "price                                                             € 46,990.-   \n",
       "Body type                                                  [\\n, Compact, \\n]   \n",
       "Type                                                          [\\n, Used, \\n]   \n",
       "Doors                                                            [\\n, 5, \\n]   \n",
       "Country version                                              [\\n, Spain, \\n]   \n",
       "Offer number                                               [\\n, 7464503, \\n]   \n",
       "Warranty                                                 [\\n, 12 months, \\n]   \n",
       "Mileage                                                            18,995 km   \n",
       "First registration                                                   01/2020   \n",
       "Gearbox                                                      [\\nAutomatic\\n]   \n",
       "Fuel type                                                           Gasoline   \n",
       "Colour                                                                Yellow   \n",
       "Paint                                                                    NaN   \n",
       "desc                       [ , Precio al contado: 48990 euros,  ,  , BONI...   \n",
       "seller                                                                Dealer   \n",
       "Seats                                                            [\\n, 5, \\n]   \n",
       "Power                                                  [\\n225 kW (306 hp)\\n]   \n",
       "Engine size                                                   [\\n1,991 cc\\n]   \n",
       "Gears                                                                [\\n7\\n]   \n",
       "CO₂-emissions                                                            NaN   \n",
       "Manufacturer colour                                             Amarillo Sol   \n",
       "Drivetrain                                                     [\\n, 4WD, \\n]   \n",
       "Cylinders                                                            [\\n4\\n]   \n",
       "Fuel consumption           [[7.3 l/100 km (comb.)], [9.3 l/100 km (city)]...   \n",
       "\\nComfort & Convenience\\n  [Air conditioning, Automatic climate control, ...   \n",
       "\\nEntertainment & Media\\n                                              [USB]   \n",
       "\\nSafety & Security\\n      [ABS, Central door lock, Driver-side airbag, E...   \n",
       "\\nExtras\\n                                                     [Sport seats]   \n",
       "Empty weight                                                             NaN   \n",
       "Model code                                                               NaN   \n",
       "General inspection                                                       NaN   \n",
       "Last service                                                             NaN   \n",
       "Full service history                                                     NaN   \n",
       "Non-smoker vehicle                                                       NaN   \n",
       "Emission class                                                           NaN   \n",
       "Emissions sticker                                                        NaN   \n",
       "Upholstery colour                                                        NaN   \n",
       "Upholstery                                                               NaN   \n",
       "Production date                                                          NaN   \n",
       "Previous owner                                                           NaN   \n",
       "Other fuel types                                                         NaN   \n",
       "Power consumption                                                        NaN   \n",
       "Energy efficiency class                                                  NaN   \n",
       "CO₂-efficiency                                                           NaN   \n",
       "Fuel consumption (WLTP)                                                  NaN   \n",
       "CO₂-emissions (WLTP)                                                     NaN   \n",
       "Available from                                                           NaN   \n",
       "Taxi or rental car                                                       NaN   \n",
       "Availability                                                             NaN   \n",
       "Last timing belt change                                                  NaN   \n",
       "Electric Range (WLTP)                                                    NaN   \n",
       "Power consumption (WLTP)                                                 NaN   \n",
       "Battery Ownership                                                        NaN   \n",
       "\n",
       "                                                                           4  \n",
       "make_model                                            Mercedes-Benz A 45 AMG  \n",
       "short_description                                   200CDI BE Line 4M 7G-DCT  \n",
       "make                                                       \\nMercedes-Benz\\n  \n",
       "model                                                     [\\n, A 45 AMG ,\\n]  \n",
       "location                              CARRIL ARAGONES 4,  30007 CASILLAS, ES  \n",
       "price                                                             € 16,800.-  \n",
       "Body type                                                  [\\n, Compact, \\n]  \n",
       "Type                                                          [\\n, Used, \\n]  \n",
       "Doors                                                            [\\n, 5, \\n]  \n",
       "Country version                                              [\\n, Spain, \\n]  \n",
       "Offer number                                               [\\n, 7127931, \\n]  \n",
       "Warranty                                                 [\\n, 12 months, \\n]  \n",
       "Mileage                                                           197,000 km  \n",
       "First registration                                                   09/2015  \n",
       "Gearbox                                                      [\\nAutomatic\\n]  \n",
       "Fuel type                                                             Diesel  \n",
       "Colour                                                                 White  \n",
       "Paint                                                               Metallic  \n",
       "desc                       [ , Precio al contado: 17400 euros,  , Vehícul...  \n",
       "seller                                                                Dealer  \n",
       "Seats                                                            [\\n, 5, \\n]  \n",
       "Power                                                  [\\n100 kW (136 hp)\\n]  \n",
       "Engine size                                                   [\\n2,143 cc\\n]  \n",
       "Gears                                                                [\\n7\\n]  \n",
       "CO₂-emissions                                                            NaN  \n",
       "Manufacturer colour                                                      NaN  \n",
       "Drivetrain                                                     [\\n, 4WD, \\n]  \n",
       "Cylinders                                                            [\\n4\\n]  \n",
       "Fuel consumption           [[4.9 l/100 km (comb.)], [5.7 l/100 km (city)]...  \n",
       "\\nComfort & Convenience\\n  [Air conditioning, Electrical side mirrors, Mu...  \n",
       "\\nEntertainment & Media\\n                   [Bluetooth, CD player, MP3, USB]  \n",
       "\\nSafety & Security\\n      [ABS, Central door lock, Driver-side airbag, E...  \n",
       "\\nExtras\\n                                                               NaN  \n",
       "Empty weight                                                  [\\n1,545 kg\\n]  \n",
       "Model code                                                               NaN  \n",
       "General inspection                                                       NaN  \n",
       "Last service                                                             NaN  \n",
       "Full service history                                                     NaN  \n",
       "Non-smoker vehicle                                                       NaN  \n",
       "Emission class                                                           NaN  \n",
       "Emissions sticker                                                        NaN  \n",
       "Upholstery colour                                                        NaN  \n",
       "Upholstery                                                               NaN  \n",
       "Production date                                                          NaN  \n",
       "Previous owner                                                           NaN  \n",
       "Other fuel types                                                         NaN  \n",
       "Power consumption                                                        NaN  \n",
       "Energy efficiency class                                                  NaN  \n",
       "CO₂-efficiency                                                           NaN  \n",
       "Fuel consumption (WLTP)                                                  NaN  \n",
       "CO₂-emissions (WLTP)                                                     NaN  \n",
       "Available from                                                           NaN  \n",
       "Taxi or rental car                                                       NaN  \n",
       "Availability                                                             NaN  \n",
       "Last timing belt change                                                  NaN  \n",
       "Electric Range (WLTP)                                                    NaN  \n",
       "Power consumption (WLTP)                                                 NaN  \n",
       "Battery Ownership                                                        NaN  "
      ]
     },
     "execution_count": 8,
     "metadata": {},
     "output_type": "execute_result"
    }
   ],
   "source": [
    "df.head().T"
   ]
  },
  {
   "cell_type": "code",
   "execution_count": 12,
   "metadata": {},
   "outputs": [
    {
     "data": {
      "text/plain": [
       "(29480, 58)"
      ]
     },
     "execution_count": 12,
     "metadata": {},
     "output_type": "execute_result"
    }
   ],
   "source": [
    "df.shape"
   ]
  },
  {
   "cell_type": "code",
   "execution_count": 13,
   "metadata": {},
   "outputs": [
    {
     "name": "stdout",
     "output_type": "stream",
     "text": [
      "<class 'pandas.core.frame.DataFrame'>\n",
      "RangeIndex: 29480 entries, 0 to 29479\n",
      "Data columns (total 58 columns):\n",
      " #   Column                    Non-Null Count  Dtype  \n",
      "---  ------                    --------------  -----  \n",
      " 0   make_model                28630 non-null  object \n",
      " 1   short_description         28630 non-null  object \n",
      " 2   make                      28630 non-null  object \n",
      " 3   model                     28630 non-null  object \n",
      " 4   location                  28630 non-null  object \n",
      " 5   price                     28630 non-null  object \n",
      " 6   Body type                 28630 non-null  object \n",
      " 7   Type                      28630 non-null  object \n",
      " 8   Doors                     28271 non-null  object \n",
      " 9   Country version           16889 non-null  object \n",
      " 10  Offer number              23100 non-null  object \n",
      " 11  Warranty                  15784 non-null  object \n",
      " 12  Mileage                   28629 non-null  object \n",
      " 13  First registration        28628 non-null  object \n",
      " 14  Gearbox                   28382 non-null  object \n",
      " 15  Fuel type                 26843 non-null  object \n",
      " 16  Colour                    26906 non-null  object \n",
      " 17  Paint                     14495 non-null  object \n",
      " 18  desc                      28047 non-null  object \n",
      " 19  seller                    28630 non-null  object \n",
      " 20  Seats                     25505 non-null  object \n",
      " 21  Power                     28058 non-null  object \n",
      " 22  Engine size               27227 non-null  object \n",
      " 23  Gears                     18954 non-null  object \n",
      " 24  CO₂-emissions             18594 non-null  object \n",
      " 25  Manufacturer colour       21787 non-null  object \n",
      " 26  Drivetrain                16893 non-null  object \n",
      " 27  Cylinders                 18852 non-null  object \n",
      " 28  Fuel consumption          23385 non-null  object \n",
      " 29  \n",
      "Comfort & Convenience\n",
      "   25433 non-null  object \n",
      " 30  \n",
      "Entertainment & Media\n",
      "   23644 non-null  object \n",
      " 31  \n",
      "Safety & Security\n",
      "       25415 non-null  object \n",
      " 32  \n",
      "Extras\n",
      "                  23480 non-null  object \n",
      " 33  Empty weight              17758 non-null  object \n",
      " 34  Model code                8367 non-null   object \n",
      " 35  General inspection        12254 non-null  object \n",
      " 36  Last service              2003 non-null   object \n",
      " 37  Full service history      12565 non-null  object \n",
      " 38  Non-smoker vehicle        11594 non-null  object \n",
      " 39  Emission class            17859 non-null  object \n",
      " 40  Emissions sticker         9414 non-null   object \n",
      " 41  Upholstery colour         14569 non-null  object \n",
      " 42  Upholstery                18610 non-null  object \n",
      " 43  Production date           5908 non-null   float64\n",
      " 44  Previous owner            14015 non-null  object \n",
      " 45  Other fuel types          2313 non-null   object \n",
      " 46  Power consumption         515 non-null    object \n",
      " 47  Energy efficiency class   7804 non-null   object \n",
      " 48  CO₂-efficiency            7804 non-null   object \n",
      " 49  Fuel consumption (WLTP)   100 non-null    object \n",
      " 50  CO₂-emissions (WLTP)      116 non-null    object \n",
      " 51  Available from            393 non-null    object \n",
      " 52  Taxi or rental car        422 non-null    object \n",
      " 53  Availability              301 non-null    object \n",
      " 54  Last timing belt change   572 non-null    object \n",
      " 55  Electric Range (WLTP)     16 non-null     object \n",
      " 56  Power consumption (WLTP)  16 non-null     object \n",
      " 57  Battery Ownership         7 non-null      object \n",
      "dtypes: float64(1), object(57)\n",
      "memory usage: 13.0+ MB\n"
     ]
    }
   ],
   "source": [
    "df.info()"
   ]
  },
  {
   "cell_type": "markdown",
   "metadata": {},
   "source": [
    "### Standardize column names using Skimpy"
   ]
  },
  {
   "cell_type": "code",
   "execution_count": 14,
   "metadata": {},
   "outputs": [
    {
     "data": {
      "text/html": [
       "<pre style=\"white-space:pre;overflow-x:auto;line-height:normal;font-family:Menlo,'DejaVu Sans Mono',consolas,'Courier New',monospace\"><span style=\"color: #008080; text-decoration-color: #008080; font-weight: bold\">50</span> column names have been cleaned\n",
       "</pre>\n"
      ],
      "text/plain": [
       "\u001b[1;36m50\u001b[0m column names have been cleaned\n"
      ]
     },
     "metadata": {},
     "output_type": "display_data"
    },
    {
     "data": {
      "text/plain": [
       "Index(['make_model', 'short_description', 'make', 'model', 'location', 'price',\n",
       "       'body_type', 'type', 'doors', 'country_version', 'offer_number',\n",
       "       'warranty', 'mileage', 'first_registration', 'gearbox', 'fuel_type',\n",
       "       'colour', 'paint', 'desc', 'seller', 'seats', 'power', 'engine_size',\n",
       "       'gears', 'co_emissions', 'manufacturer_colour', 'drivetrain',\n",
       "       'cylinders', 'fuel_consumption', 'comfort_convenience',\n",
       "       'entertainment_media', 'safety_security', 'extras', 'empty_weight',\n",
       "       'model_code', 'general_inspection', 'last_service',\n",
       "       'full_service_history', 'non_smoker_vehicle', 'emission_class',\n",
       "       'emissions_sticker', 'upholstery_colour', 'upholstery',\n",
       "       'production_date', 'previous_owner', 'other_fuel_types',\n",
       "       'power_consumption', 'energy_efficiency_class', 'co_efficiency',\n",
       "       'fuel_consumption_wltp', 'co_emissions_wltp', 'available_from',\n",
       "       'taxi_or_rental_car', 'availability', 'last_timing_belt_change',\n",
       "       'electric_range_wltp', 'power_consumption_wltp', 'battery_ownership'],\n",
       "      dtype='object')"
      ]
     },
     "execution_count": 14,
     "metadata": {},
     "output_type": "execute_result"
    }
   ],
   "source": [
    "# standardize column names\n",
    "\n",
    "#remove \"&\" karakterini kaldırdık\n",
    "\n",
    "df.columns = df.columns.str.replace(\"\\&\", \" \", regex = True) \n",
    "\n",
    "clean_df = clean_columns(df)\n",
    "df.columns = clean_df.columns.tolist()\n",
    "df.columns"
   ]
  },
  {
   "cell_type": "code",
   "execution_count": 15,
   "metadata": {},
   "outputs": [
    {
     "data": {
      "text/html": [
       "<div>\n",
       "<style scoped>\n",
       "    .dataframe tbody tr th:only-of-type {\n",
       "        vertical-align: middle;\n",
       "    }\n",
       "\n",
       "    .dataframe tbody tr th {\n",
       "        vertical-align: top;\n",
       "    }\n",
       "\n",
       "    .dataframe thead th {\n",
       "        text-align: right;\n",
       "    }\n",
       "</style>\n",
       "<table border=\"1\" class=\"dataframe\">\n",
       "  <thead>\n",
       "    <tr style=\"text-align: right;\">\n",
       "      <th></th>\n",
       "      <th>make_model</th>\n",
       "      <th>short_description</th>\n",
       "      <th>make</th>\n",
       "      <th>model</th>\n",
       "      <th>location</th>\n",
       "      <th>price</th>\n",
       "      <th>body_type</th>\n",
       "      <th>type</th>\n",
       "      <th>doors</th>\n",
       "      <th>country_version</th>\n",
       "      <th>...</th>\n",
       "      <th>co_efficiency</th>\n",
       "      <th>fuel_consumption_wltp</th>\n",
       "      <th>co_emissions_wltp</th>\n",
       "      <th>available_from</th>\n",
       "      <th>taxi_or_rental_car</th>\n",
       "      <th>availability</th>\n",
       "      <th>last_timing_belt_change</th>\n",
       "      <th>electric_range_wltp</th>\n",
       "      <th>power_consumption_wltp</th>\n",
       "      <th>battery_ownership</th>\n",
       "    </tr>\n",
       "  </thead>\n",
       "  <tbody>\n",
       "    <tr>\n",
       "      <th>0</th>\n",
       "      <td>Mercedes-Benz A 160</td>\n",
       "      <td>CDi</td>\n",
       "      <td>\\nMercedes-Benz\\n</td>\n",
       "      <td>[\\n, A 160 ,\\n]</td>\n",
       "      <td>P.I. EL PALMAR C/FORJA 6,  11500 PUERTO DE SAN...</td>\n",
       "      <td>€ 16,950.-</td>\n",
       "      <td>[\\n, Compact, \\n]</td>\n",
       "      <td>[\\n, Used, \\n]</td>\n",
       "      <td>[\\n, 5, \\n]</td>\n",
       "      <td>[\\n, Spain, \\n]</td>\n",
       "      <td>...</td>\n",
       "      <td>NaN</td>\n",
       "      <td>NaN</td>\n",
       "      <td>NaN</td>\n",
       "      <td>NaN</td>\n",
       "      <td>NaN</td>\n",
       "      <td>NaN</td>\n",
       "      <td>NaN</td>\n",
       "      <td>NaN</td>\n",
       "      <td>NaN</td>\n",
       "      <td>NaN</td>\n",
       "    </tr>\n",
       "    <tr>\n",
       "      <th>1</th>\n",
       "      <td>Mercedes-Benz EQE 350</td>\n",
       "      <td>350+</td>\n",
       "      <td>\\nMercedes-Benz\\n</td>\n",
       "      <td>[\\n, EQE 350 ,\\n]</td>\n",
       "      <td>APARTADO DE CORREOS 1032,  26140 LOGROÑO, ES</td>\n",
       "      <td>€ 80,900.-</td>\n",
       "      <td>[\\n, Compact, \\n]</td>\n",
       "      <td>[\\n, Pre-registered, \\n]</td>\n",
       "      <td>[\\n, 4, \\n]</td>\n",
       "      <td>[\\n, Spain, \\n]</td>\n",
       "      <td>...</td>\n",
       "      <td>NaN</td>\n",
       "      <td>NaN</td>\n",
       "      <td>NaN</td>\n",
       "      <td>NaN</td>\n",
       "      <td>NaN</td>\n",
       "      <td>NaN</td>\n",
       "      <td>NaN</td>\n",
       "      <td>NaN</td>\n",
       "      <td>NaN</td>\n",
       "      <td>NaN</td>\n",
       "    </tr>\n",
       "    <tr>\n",
       "      <th>2</th>\n",
       "      <td>Mercedes-Benz A 45 AMG</td>\n",
       "      <td>S 4Matic+ 8G-DCT</td>\n",
       "      <td>\\nMercedes-Benz\\n</td>\n",
       "      <td>[\\n, A 45 AMG ,\\n]</td>\n",
       "      <td>PORT. TARRACO, MOLL DE LLEVANT, Nº 5, LOC. 6-8...</td>\n",
       "      <td>€ 69,900.-</td>\n",
       "      <td>[\\n, Compact, \\n]</td>\n",
       "      <td>[\\n, Used, \\n]</td>\n",
       "      <td>[\\n, 5, \\n]</td>\n",
       "      <td>[\\n, Spain, \\n]</td>\n",
       "      <td>...</td>\n",
       "      <td>NaN</td>\n",
       "      <td>NaN</td>\n",
       "      <td>NaN</td>\n",
       "      <td>NaN</td>\n",
       "      <td>NaN</td>\n",
       "      <td>NaN</td>\n",
       "      <td>NaN</td>\n",
       "      <td>NaN</td>\n",
       "      <td>NaN</td>\n",
       "      <td>NaN</td>\n",
       "    </tr>\n",
       "    <tr>\n",
       "      <th>3</th>\n",
       "      <td>Mercedes-Benz A 35 AMG</td>\n",
       "      <td>4Matic+ 7G-DCT</td>\n",
       "      <td>\\nMercedes-Benz\\n</td>\n",
       "      <td>[\\n, A 35 AMG ,\\n]</td>\n",
       "      <td>Carrer de Provença, 31 Local,  8029 BARCELONA, ES</td>\n",
       "      <td>€ 46,990.-</td>\n",
       "      <td>[\\n, Compact, \\n]</td>\n",
       "      <td>[\\n, Used, \\n]</td>\n",
       "      <td>[\\n, 5, \\n]</td>\n",
       "      <td>[\\n, Spain, \\n]</td>\n",
       "      <td>...</td>\n",
       "      <td>NaN</td>\n",
       "      <td>NaN</td>\n",
       "      <td>NaN</td>\n",
       "      <td>NaN</td>\n",
       "      <td>NaN</td>\n",
       "      <td>NaN</td>\n",
       "      <td>NaN</td>\n",
       "      <td>NaN</td>\n",
       "      <td>NaN</td>\n",
       "      <td>NaN</td>\n",
       "    </tr>\n",
       "    <tr>\n",
       "      <th>4</th>\n",
       "      <td>Mercedes-Benz A 45 AMG</td>\n",
       "      <td>200CDI BE Line 4M 7G-DCT</td>\n",
       "      <td>\\nMercedes-Benz\\n</td>\n",
       "      <td>[\\n, A 45 AMG ,\\n]</td>\n",
       "      <td>CARRIL ARAGONES 4,  30007 CASILLAS, ES</td>\n",
       "      <td>€ 16,800.-</td>\n",
       "      <td>[\\n, Compact, \\n]</td>\n",
       "      <td>[\\n, Used, \\n]</td>\n",
       "      <td>[\\n, 5, \\n]</td>\n",
       "      <td>[\\n, Spain, \\n]</td>\n",
       "      <td>...</td>\n",
       "      <td>NaN</td>\n",
       "      <td>NaN</td>\n",
       "      <td>NaN</td>\n",
       "      <td>NaN</td>\n",
       "      <td>NaN</td>\n",
       "      <td>NaN</td>\n",
       "      <td>NaN</td>\n",
       "      <td>NaN</td>\n",
       "      <td>NaN</td>\n",
       "      <td>NaN</td>\n",
       "    </tr>\n",
       "  </tbody>\n",
       "</table>\n",
       "<p>5 rows × 58 columns</p>\n",
       "</div>"
      ],
      "text/plain": [
       "               make_model         short_description               make  \\\n",
       "0     Mercedes-Benz A 160                       CDi  \\nMercedes-Benz\\n   \n",
       "1   Mercedes-Benz EQE 350                      350+  \\nMercedes-Benz\\n   \n",
       "2  Mercedes-Benz A 45 AMG          S 4Matic+ 8G-DCT  \\nMercedes-Benz\\n   \n",
       "3  Mercedes-Benz A 35 AMG            4Matic+ 7G-DCT  \\nMercedes-Benz\\n   \n",
       "4  Mercedes-Benz A 45 AMG  200CDI BE Line 4M 7G-DCT  \\nMercedes-Benz\\n   \n",
       "\n",
       "                model                                           location  \\\n",
       "0     [\\n, A 160 ,\\n]  P.I. EL PALMAR C/FORJA 6,  11500 PUERTO DE SAN...   \n",
       "1   [\\n, EQE 350 ,\\n]       APARTADO DE CORREOS 1032,  26140 LOGROÑO, ES   \n",
       "2  [\\n, A 45 AMG ,\\n]  PORT. TARRACO, MOLL DE LLEVANT, Nº 5, LOC. 6-8...   \n",
       "3  [\\n, A 35 AMG ,\\n]  Carrer de Provença, 31 Local,  8029 BARCELONA, ES   \n",
       "4  [\\n, A 45 AMG ,\\n]             CARRIL ARAGONES 4,  30007 CASILLAS, ES   \n",
       "\n",
       "        price          body_type                      type        doors  \\\n",
       "0  € 16,950.-  [\\n, Compact, \\n]            [\\n, Used, \\n]  [\\n, 5, \\n]   \n",
       "1  € 80,900.-  [\\n, Compact, \\n]  [\\n, Pre-registered, \\n]  [\\n, 4, \\n]   \n",
       "2  € 69,900.-  [\\n, Compact, \\n]            [\\n, Used, \\n]  [\\n, 5, \\n]   \n",
       "3  € 46,990.-  [\\n, Compact, \\n]            [\\n, Used, \\n]  [\\n, 5, \\n]   \n",
       "4  € 16,800.-  [\\n, Compact, \\n]            [\\n, Used, \\n]  [\\n, 5, \\n]   \n",
       "\n",
       "   country_version  ... co_efficiency fuel_consumption_wltp co_emissions_wltp  \\\n",
       "0  [\\n, Spain, \\n]  ...           NaN                   NaN               NaN   \n",
       "1  [\\n, Spain, \\n]  ...           NaN                   NaN               NaN   \n",
       "2  [\\n, Spain, \\n]  ...           NaN                   NaN               NaN   \n",
       "3  [\\n, Spain, \\n]  ...           NaN                   NaN               NaN   \n",
       "4  [\\n, Spain, \\n]  ...           NaN                   NaN               NaN   \n",
       "\n",
       "  available_from taxi_or_rental_car availability last_timing_belt_change  \\\n",
       "0            NaN                NaN          NaN                     NaN   \n",
       "1            NaN                NaN          NaN                     NaN   \n",
       "2            NaN                NaN          NaN                     NaN   \n",
       "3            NaN                NaN          NaN                     NaN   \n",
       "4            NaN                NaN          NaN                     NaN   \n",
       "\n",
       "  electric_range_wltp power_consumption_wltp battery_ownership  \n",
       "0                 NaN                    NaN               NaN  \n",
       "1                 NaN                    NaN               NaN  \n",
       "2                 NaN                    NaN               NaN  \n",
       "3                 NaN                    NaN               NaN  \n",
       "4                 NaN                    NaN               NaN  \n",
       "\n",
       "[5 rows x 58 columns]"
      ]
     },
     "execution_count": 15,
     "metadata": {},
     "output_type": "execute_result"
    }
   ],
   "source": [
    "df.head()"
   ]
  },
  {
   "cell_type": "markdown",
   "metadata": {},
   "source": [
    "### Drop rows with all missing values"
   ]
  },
  {
   "cell_type": "code",
   "execution_count": 16,
   "metadata": {},
   "outputs": [
    {
     "data": {
      "text/plain": [
       "(28630, 58)"
      ]
     },
     "execution_count": 16,
     "metadata": {},
     "output_type": "execute_result"
    }
   ],
   "source": [
    "df.dropna(axis=0, how=\"all\", inplace=True)\n",
    "df.shape"
   ]
  },
  {
   "cell_type": "code",
   "execution_count": 17,
   "metadata": {},
   "outputs": [],
   "source": [
    "df0 = df.copy() #keeping a copy before making changes"
   ]
  },
  {
   "cell_type": "markdown",
   "metadata": {},
   "source": [
    "### Make"
   ]
  },
  {
   "cell_type": "code",
   "execution_count": 18,
   "metadata": {},
   "outputs": [
    {
     "data": {
      "text/plain": [
       "\\nVolvo\\n            3659\n",
       "\\nMercedes-Benz\\n    2398\n",
       "\\nOpel\\n             2385\n",
       "\\nPeugeot\\n          2360\n",
       "\\nRenault\\n          2351\n",
       "\\nFiat\\n             2338\n",
       "\\nFord\\n             2324\n",
       "\\nNissan\\n           2064\n",
       "\\nToyota\\n           2038\n",
       "\\nHyundai\\n          1867\n",
       "\\nSEAT\\n             1743\n",
       "\\nSkoda\\n            1566\n",
       "\\nDacia\\n            1537\n",
       "Name: make, dtype: int64"
      ]
     },
     "execution_count": 18,
     "metadata": {},
     "output_type": "execute_result"
    }
   ],
   "source": [
    "df.make.value_counts()"
   ]
  },
  {
   "cell_type": "code",
   "execution_count": 19,
   "metadata": {},
   "outputs": [
    {
     "data": {
      "text/plain": [
       "Volvo            3659\n",
       "Mercedes-Benz    2398\n",
       "Opel             2385\n",
       "Peugeot          2360\n",
       "Renault          2351\n",
       "Fiat             2338\n",
       "Ford             2324\n",
       "Nissan           2064\n",
       "Toyota           2038\n",
       "Hyundai          1867\n",
       "SEAT             1743\n",
       "Skoda            1566\n",
       "Dacia            1537\n",
       "Name: make, dtype: int64"
      ]
     },
     "execution_count": 19,
     "metadata": {},
     "output_type": "execute_result"
    }
   ],
   "source": [
    "df[\"make\"] = df[\"make\"].str.extract(\"(.+)\")\n",
    "df.make.value_counts(dropna=False)"
   ]
  },
  {
   "cell_type": "code",
   "execution_count": 20,
   "metadata": {},
   "outputs": [
    {
     "name": "stdout",
     "output_type": "stream",
     "text": [
      "<class 'pandas.core.series.Series'>\n",
      "Int64Index: 28630 entries, 0 to 29478\n",
      "Series name: make\n",
      "Non-Null Count  Dtype \n",
      "--------------  ----- \n",
      "28630 non-null  string\n",
      "dtypes: string(1)\n",
      "memory usage: 447.3 KB\n"
     ]
    }
   ],
   "source": [
    "df[\"make\"] = df[\"make\"].astype(\"string\")\n",
    "df.make.info()"
   ]
  },
  {
   "cell_type": "markdown",
   "metadata": {},
   "source": [
    "### Recode location column to country"
   ]
  },
  {
   "cell_type": "code",
   "execution_count": 21,
   "metadata": {},
   "outputs": [],
   "source": [
    "# extract the last word as country name abbreviation\n",
    "\n",
    "df[\"country\"] = df[\"location\"].str.extract(\"(\\w\\w$)\")\n",
    "df[\"country\"].value_counts(dropna=False)\n",
    "df[\"country\"] = df[\"country\"].astype(\"string\")\n",
    "# there are no missing values"
   ]
  },
  {
   "cell_type": "code",
   "execution_count": 22,
   "metadata": {},
   "outputs": [
    {
     "name": "stdout",
     "output_type": "stream",
     "text": [
      "<class 'pandas.core.series.Series'>\n",
      "Int64Index: 28630 entries, 0 to 29478\n",
      "Series name: country\n",
      "Non-Null Count  Dtype \n",
      "--------------  ----- \n",
      "28630 non-null  string\n",
      "dtypes: string(1)\n",
      "memory usage: 447.3 KB\n"
     ]
    }
   ],
   "source": [
    "df.country.info()"
   ]
  },
  {
   "cell_type": "markdown",
   "metadata": {},
   "source": [
    "### Price"
   ]
  },
  {
   "cell_type": "code",
   "execution_count": 23,
   "metadata": {},
   "outputs": [
    {
     "data": {
      "text/plain": [
       "0"
      ]
     },
     "execution_count": 23,
     "metadata": {},
     "output_type": "execute_result"
    }
   ],
   "source": [
    "df[\"price\"]= df['price'].str.replace('\\D+', '', regex=True)\n",
    "df[\"price\"]= df.price.astype(\"int\")\n",
    "df.price.isna().sum()"
   ]
  },
  {
   "cell_type": "markdown",
   "metadata": {},
   "source": [
    "### Body_type"
   ]
  },
  {
   "cell_type": "code",
   "execution_count": 24,
   "metadata": {},
   "outputs": [
    {
     "data": {
      "text/plain": [
       "[\\n, Station wagon, \\n]       5448\n",
       "[\\n, Off-Road/Pick-up, \\n]    5415\n",
       "[\\n, Compact, \\n]             5387\n",
       "[\\n, Sedan, \\n]               5043\n",
       "[\\n, Coupe, \\n]               4009\n",
       "[\\n, Convertible, \\n]         3328\n",
       "Name: body_type, dtype: int64"
      ]
     },
     "execution_count": 24,
     "metadata": {},
     "output_type": "execute_result"
    }
   ],
   "source": [
    "df.body_type.value_counts()"
   ]
  },
  {
   "cell_type": "code",
   "execution_count": 25,
   "metadata": {},
   "outputs": [
    {
     "data": {
      "text/plain": [
       "\\n, Station wagon, \\n       5448\n",
       "\\n, Off-Road/Pick-up, \\n    5415\n",
       "\\n, Compact, \\n             5387\n",
       "\\n, Sedan, \\n               5043\n",
       "\\n, Coupe, \\n               4009\n",
       "\\n, Convertible, \\n         3328\n",
       "Name: body_type, dtype: int64"
      ]
     },
     "execution_count": 25,
     "metadata": {},
     "output_type": "execute_result"
    }
   ],
   "source": [
    "df[\"body_type\"] = df[\"body_type\"].apply(lambda item : item[0] if type(item)==list else item)\n",
    "df[\"body_type\"].value_counts(dropna=False)"
   ]
  },
  {
   "cell_type": "code",
   "execution_count": 26,
   "metadata": {},
   "outputs": [
    {
     "data": {
      "text/plain": [
       "Station wagon       5448\n",
       "Off-Road/Pick-up    5415\n",
       "Compact             5387\n",
       "Sedan               5043\n",
       "Coupe               4009\n",
       "Convertible         3328\n",
       "Name: body_type, dtype: int64"
      ]
     },
     "execution_count": 26,
     "metadata": {},
     "output_type": "execute_result"
    }
   ],
   "source": [
    "\n",
    "df[\"body_type\"] = df[\"body_type\"].str.extract(\", ([^,]+),\")\n",
    "df[\"body_type\"].value_counts()"
   ]
  },
  {
   "cell_type": "markdown",
   "metadata": {},
   "source": [
    "### Type"
   ]
  },
  {
   "cell_type": "code",
   "execution_count": 27,
   "metadata": {},
   "outputs": [
    {
     "data": {
      "text/plain": [
       "[\\n, Used, \\n]              25251\n",
       "[\\n, Demonstration, \\n]      1433\n",
       "[\\n, Pre-registered, \\n]     1377\n",
       "[\\n, Employee's car, \\n]      569\n",
       "Name: type, dtype: int64"
      ]
     },
     "execution_count": 27,
     "metadata": {},
     "output_type": "execute_result"
    }
   ],
   "source": [
    "df.type.value_counts(dropna=False)"
   ]
  },
  {
   "cell_type": "code",
   "execution_count": 28,
   "metadata": {},
   "outputs": [],
   "source": [
    "df[\"type\"] = df[\"type\"].apply(lambda item : item[0] if type(item)==list else item)\n",
    "df[\"type\"]\n",
    "\n",
    "pattern = r',\\s*([^,]+),'\n",
    "df[\"type\"] = df[\"type\"].str.extract(pattern)"
   ]
  },
  {
   "cell_type": "code",
   "execution_count": 29,
   "metadata": {},
   "outputs": [
    {
     "data": {
      "text/plain": [
       "Used              25251\n",
       "Demonstration      1433\n",
       "Pre-registered     1377\n",
       "Employee's car      569\n",
       "Name: type, dtype: int64"
      ]
     },
     "execution_count": 29,
     "metadata": {},
     "output_type": "execute_result"
    }
   ],
   "source": [
    "df[\"type\"].value_counts()"
   ]
  },
  {
   "cell_type": "markdown",
   "metadata": {},
   "source": [
    "### Doors"
   ]
  },
  {
   "cell_type": "code",
   "execution_count": 30,
   "metadata": {},
   "outputs": [
    {
     "data": {
      "text/plain": [
       "[\\n, 5, \\n]    17481\n",
       "[\\n, 2, \\n]     5523\n",
       "[\\n, 4, \\n]     3001\n",
       "[\\n, 3, \\n]     2259\n",
       "NaN              359\n",
       "[\\n, 6, \\n]        5\n",
       "[\\n, 1, \\n]        2\n",
       "Name: doors, dtype: int64"
      ]
     },
     "execution_count": 30,
     "metadata": {},
     "output_type": "execute_result"
    }
   ],
   "source": [
    "df.doors.value_counts(dropna=False)"
   ]
  },
  {
   "cell_type": "code",
   "execution_count": 31,
   "metadata": {},
   "outputs": [
    {
     "data": {
      "text/plain": [
       "\\n, 5, \\n    17481\n",
       "\\n, 2, \\n     5523\n",
       "\\n, 4, \\n     3001\n",
       "\\n, 3, \\n     2259\n",
       "NaN            359\n",
       "\\n, 6, \\n        5\n",
       "\\n, 1, \\n        2\n",
       "Name: doors, dtype: int64"
      ]
     },
     "execution_count": 31,
     "metadata": {},
     "output_type": "execute_result"
    }
   ],
   "source": [
    "df[\"doors\"] = df[\"doors\"].apply(lambda item : item[0] if type(item)==list else item)\n",
    "df[\"doors\"].value_counts(dropna=False)"
   ]
  },
  {
   "cell_type": "code",
   "execution_count": 32,
   "metadata": {},
   "outputs": [
    {
     "data": {
      "text/plain": [
       "5      17481\n",
       "2       5523\n",
       "4       3001\n",
       "3       2259\n",
       "NaN      359\n",
       "6          5\n",
       "1          2\n",
       "Name: doors, dtype: int64"
      ]
     },
     "execution_count": 32,
     "metadata": {},
     "output_type": "execute_result"
    }
   ],
   "source": [
    "df[\"doors\"] = df[\"doors\"].str.extract(\"(\\d)\")\n",
    "df[\"doors\"].value_counts(dropna=False)"
   ]
  },
  {
   "cell_type": "code",
   "execution_count": 33,
   "metadata": {},
   "outputs": [
    {
     "name": "stdout",
     "output_type": "stream",
     "text": [
      "<class 'pandas.core.series.Series'>\n",
      "Int64Index: 28630 entries, 0 to 29478\n",
      "Series name: doors\n",
      "Non-Null Count  Dtype \n",
      "--------------  ----- \n",
      "28271 non-null  object\n",
      "dtypes: object(1)\n",
      "memory usage: 447.3+ KB\n"
     ]
    }
   ],
   "source": [
    "df[\"doors\"].info()"
   ]
  },
  {
   "cell_type": "markdown",
   "metadata": {},
   "source": [
    "### Warranty"
   ]
  },
  {
   "cell_type": "code",
   "execution_count": 34,
   "metadata": {},
   "outputs": [
    {
     "data": {
      "text/plain": [
       "NaN                     12846\n",
       "[\\n, 12 months, \\n]      9545\n",
       "[\\n, Yes, \\n]            2319\n",
       "[\\n, 24 months, \\n]      1515\n",
       "[\\n, 60 months, \\n]       968\n",
       "                        ...  \n",
       "[\\n, 55 months, \\n]         1\n",
       "[\\n, 99 months, \\n]         1\n",
       "[\\n, 122 months, \\n]        1\n",
       "[\\n, 44 months, \\n]         1\n",
       "[\\n, 4 months, \\n]          1\n",
       "Name: warranty, Length: 66, dtype: int64"
      ]
     },
     "execution_count": 34,
     "metadata": {},
     "output_type": "execute_result"
    }
   ],
   "source": [
    "df.warranty.value_counts(dropna=False)"
   ]
  },
  {
   "cell_type": "code",
   "execution_count": 35,
   "metadata": {},
   "outputs": [
    {
     "data": {
      "text/plain": [
       "0        \\n, 24 months, \\n\n",
       "1        \\n, 24 months, \\n\n",
       "2        \\n, 12 months, \\n\n",
       "3        \\n, 12 months, \\n\n",
       "4        \\n, 12 months, \\n\n",
       "               ...        \n",
       "29474    \\n, 12 months, \\n\n",
       "29475                  NaN\n",
       "29476    \\n, 13 months, \\n\n",
       "29477    \\n, 12 months, \\n\n",
       "29478                  NaN\n",
       "Name: warranty, Length: 28630, dtype: object"
      ]
     },
     "execution_count": 35,
     "metadata": {},
     "output_type": "execute_result"
    }
   ],
   "source": [
    "df[\"warranty\"] = df[\"warranty\"].apply(lambda item : item[0] if type(item)==list else item)\n",
    "df.warranty"
   ]
  },
  {
   "cell_type": "code",
   "execution_count": 36,
   "metadata": {},
   "outputs": [
    {
     "data": {
      "text/plain": [
       "NaN           12846\n",
       "12 months      9545\n",
       "Yes            2319\n",
       "24 months      1515\n",
       "60 months       968\n",
       "              ...  \n",
       "55 months         1\n",
       "99 months         1\n",
       "122 months        1\n",
       "44 months         1\n",
       "4 months          1\n",
       "Name: warranty, Length: 66, dtype: int64"
      ]
     },
     "execution_count": 36,
     "metadata": {},
     "output_type": "execute_result"
    }
   ],
   "source": [
    "df[\"warranty\"] = df[\"warranty\"].str.extract(r\"\\b(.+)\\b\")\n",
    "df[\"warranty\"].value_counts(dropna=False)\n"
   ]
  },
  {
   "cell_type": "code",
   "execution_count": 37,
   "metadata": {},
   "outputs": [],
   "source": [
    "# remember to handle \"0 months\""
   ]
  },
  {
   "cell_type": "markdown",
   "metadata": {},
   "source": [
    "### Mileage"
   ]
  },
  {
   "cell_type": "code",
   "execution_count": 38,
   "metadata": {},
   "outputs": [
    {
     "data": {
      "text/plain": [
       "count     28629\n",
       "unique    14183\n",
       "top       10 km\n",
       "freq        586\n",
       "Name: mileage, dtype: object"
      ]
     },
     "execution_count": 38,
     "metadata": {},
     "output_type": "execute_result"
    }
   ],
   "source": [
    "df.mileage.describe()"
   ]
  },
  {
   "cell_type": "code",
   "execution_count": 39,
   "metadata": {},
   "outputs": [
    {
     "data": {
      "text/plain": [
       "1"
      ]
     },
     "execution_count": 39,
     "metadata": {},
     "output_type": "execute_result"
    }
   ],
   "source": [
    "df.mileage.head()\n",
    "df.mileage.isna().sum()"
   ]
  },
  {
   "cell_type": "code",
   "execution_count": 40,
   "metadata": {},
   "outputs": [],
   "source": [
    "df[\"mileage\"] = df[\"mileage\"].str.extract(\"(\\d+,?\\d*)\")\n",
    "df[\"mileage\"] = df[\"mileage\"].str.replace(',', '')\n"
   ]
  },
  {
   "cell_type": "code",
   "execution_count": 41,
   "metadata": {},
   "outputs": [
    {
     "data": {
      "text/html": [
       "<div>\n",
       "<style scoped>\n",
       "    .dataframe tbody tr th:only-of-type {\n",
       "        vertical-align: middle;\n",
       "    }\n",
       "\n",
       "    .dataframe tbody tr th {\n",
       "        vertical-align: top;\n",
       "    }\n",
       "\n",
       "    .dataframe thead th {\n",
       "        text-align: right;\n",
       "    }\n",
       "</style>\n",
       "<table border=\"1\" class=\"dataframe\">\n",
       "  <thead>\n",
       "    <tr style=\"text-align: right;\">\n",
       "      <th></th>\n",
       "      <th>make_model</th>\n",
       "      <th>short_description</th>\n",
       "      <th>make</th>\n",
       "      <th>model</th>\n",
       "      <th>location</th>\n",
       "      <th>price</th>\n",
       "      <th>body_type</th>\n",
       "      <th>type</th>\n",
       "      <th>doors</th>\n",
       "      <th>country_version</th>\n",
       "      <th>...</th>\n",
       "      <th>fuel_consumption_wltp</th>\n",
       "      <th>co_emissions_wltp</th>\n",
       "      <th>available_from</th>\n",
       "      <th>taxi_or_rental_car</th>\n",
       "      <th>availability</th>\n",
       "      <th>last_timing_belt_change</th>\n",
       "      <th>electric_range_wltp</th>\n",
       "      <th>power_consumption_wltp</th>\n",
       "      <th>battery_ownership</th>\n",
       "      <th>country</th>\n",
       "    </tr>\n",
       "  </thead>\n",
       "  <tbody>\n",
       "    <tr>\n",
       "      <th>10870</th>\n",
       "      <td>Fiat 500X</td>\n",
       "      <td>1.5 Hybrid Cabrio Automaat Yacht Club Capri</td>\n",
       "      <td>Fiat</td>\n",
       "      <td>[\\n, 500X ,\\n]</td>\n",
       "      <td>Cruquiusweg 35,  2102 LS HEEMSTEDE, NL</td>\n",
       "      <td>41570</td>\n",
       "      <td>Off-Road/Pick-up</td>\n",
       "      <td>Demonstration</td>\n",
       "      <td>5</td>\n",
       "      <td>[\\n, Netherlands, \\n]</td>\n",
       "      <td>...</td>\n",
       "      <td>NaN</td>\n",
       "      <td>NaN</td>\n",
       "      <td>NaN</td>\n",
       "      <td>NaN</td>\n",
       "      <td>NaN</td>\n",
       "      <td>NaN</td>\n",
       "      <td>NaN</td>\n",
       "      <td>NaN</td>\n",
       "      <td>NaN</td>\n",
       "      <td>NL</td>\n",
       "    </tr>\n",
       "  </tbody>\n",
       "</table>\n",
       "<p>1 rows × 59 columns</p>\n",
       "</div>"
      ],
      "text/plain": [
       "      make_model                            short_description  make  \\\n",
       "10870  Fiat 500X  1.5 Hybrid Cabrio Automaat Yacht Club Capri  Fiat   \n",
       "\n",
       "                model                                location  price  \\\n",
       "10870  [\\n, 500X ,\\n]  Cruquiusweg 35,  2102 LS HEEMSTEDE, NL  41570   \n",
       "\n",
       "              body_type           type doors        country_version  ...  \\\n",
       "10870  Off-Road/Pick-up  Demonstration     5  [\\n, Netherlands, \\n]  ...   \n",
       "\n",
       "      fuel_consumption_wltp co_emissions_wltp available_from  \\\n",
       "10870                   NaN               NaN            NaN   \n",
       "\n",
       "      taxi_or_rental_car availability last_timing_belt_change  \\\n",
       "10870                NaN          NaN                     NaN   \n",
       "\n",
       "      electric_range_wltp power_consumption_wltp battery_ownership country  \n",
       "10870                 NaN                    NaN               NaN      NL  \n",
       "\n",
       "[1 rows x 59 columns]"
      ]
     },
     "execution_count": 41,
     "metadata": {},
     "output_type": "execute_result"
    }
   ],
   "source": [
    "df.loc[df[\"mileage\"].isna()]"
   ]
  },
  {
   "cell_type": "code",
   "execution_count": 42,
   "metadata": {},
   "outputs": [
    {
     "name": "stdout",
     "output_type": "stream",
     "text": [
      "<class 'pandas.core.series.Series'>\n",
      "Int64Index: 28630 entries, 0 to 29478\n",
      "Series name: mileage\n",
      "Non-Null Count  Dtype \n",
      "--------------  ----- \n",
      "28629 non-null  object\n",
      "dtypes: object(1)\n",
      "memory usage: 447.3+ KB\n"
     ]
    }
   ],
   "source": [
    "df[\"mileage\"].info()"
   ]
  },
  {
   "cell_type": "code",
   "execution_count": 43,
   "metadata": {},
   "outputs": [
    {
     "data": {
      "text/plain": [
       "count     28629\n",
       "unique    14180\n",
       "top          10\n",
       "freq        586\n",
       "Name: mileage, dtype: object"
      ]
     },
     "execution_count": 43,
     "metadata": {},
     "output_type": "execute_result"
    }
   ],
   "source": [
    "df[\"mileage\"].describe()"
   ]
  },
  {
   "cell_type": "code",
   "execution_count": 44,
   "metadata": {},
   "outputs": [
    {
     "data": {
      "text/html": [
       "<div>\n",
       "<style scoped>\n",
       "    .dataframe tbody tr th:only-of-type {\n",
       "        vertical-align: middle;\n",
       "    }\n",
       "\n",
       "    .dataframe tbody tr th {\n",
       "        vertical-align: top;\n",
       "    }\n",
       "\n",
       "    .dataframe thead th {\n",
       "        text-align: right;\n",
       "    }\n",
       "</style>\n",
       "<table border=\"1\" class=\"dataframe\">\n",
       "  <thead>\n",
       "    <tr style=\"text-align: right;\">\n",
       "      <th></th>\n",
       "      <th>make_model</th>\n",
       "      <th>short_description</th>\n",
       "      <th>make</th>\n",
       "      <th>model</th>\n",
       "      <th>location</th>\n",
       "      <th>price</th>\n",
       "      <th>body_type</th>\n",
       "      <th>type</th>\n",
       "      <th>doors</th>\n",
       "      <th>country_version</th>\n",
       "      <th>...</th>\n",
       "      <th>fuel_consumption_wltp</th>\n",
       "      <th>co_emissions_wltp</th>\n",
       "      <th>available_from</th>\n",
       "      <th>taxi_or_rental_car</th>\n",
       "      <th>availability</th>\n",
       "      <th>last_timing_belt_change</th>\n",
       "      <th>electric_range_wltp</th>\n",
       "      <th>power_consumption_wltp</th>\n",
       "      <th>battery_ownership</th>\n",
       "      <th>country</th>\n",
       "    </tr>\n",
       "  </thead>\n",
       "  <tbody>\n",
       "    <tr>\n",
       "      <th>0</th>\n",
       "      <td>Mercedes-Benz A 160</td>\n",
       "      <td>CDi</td>\n",
       "      <td>Mercedes-Benz</td>\n",
       "      <td>\\n, A 160 ,\\n</td>\n",
       "      <td>P.I. EL PALMAR C/FORJA 6,  11500 PUERTO DE SAN...</td>\n",
       "      <td>16950</td>\n",
       "      <td>Compact</td>\n",
       "      <td>Used</td>\n",
       "      <td>5</td>\n",
       "      <td>\\n, Spain, \\n</td>\n",
       "      <td>...</td>\n",
       "      <td>NaN</td>\n",
       "      <td>NaN</td>\n",
       "      <td>NaN</td>\n",
       "      <td>NaN</td>\n",
       "      <td>NaN</td>\n",
       "      <td>NaN</td>\n",
       "      <td>NaN</td>\n",
       "      <td>NaN</td>\n",
       "      <td>NaN</td>\n",
       "      <td>ES</td>\n",
       "    </tr>\n",
       "  </tbody>\n",
       "</table>\n",
       "<p>1 rows × 59 columns</p>\n",
       "</div>"
      ],
      "text/plain": [
       "            make_model short_description           make          model  \\\n",
       "0  Mercedes-Benz A 160               CDi  Mercedes-Benz  \\n, A 160 ,\\n   \n",
       "\n",
       "                                            location  price body_type  type  \\\n",
       "0  P.I. EL PALMAR C/FORJA 6,  11500 PUERTO DE SAN...  16950   Compact  Used   \n",
       "\n",
       "  doors country_version  ... fuel_consumption_wltp co_emissions_wltp  \\\n",
       "0     5   \\n, Spain, \\n  ...                   NaN               NaN   \n",
       "\n",
       "  available_from taxi_or_rental_car availability last_timing_belt_change  \\\n",
       "0            NaN                NaN          NaN                     NaN   \n",
       "\n",
       "  electric_range_wltp power_consumption_wltp battery_ownership country  \n",
       "0                 NaN                    NaN               NaN      ES  \n",
       "\n",
       "[1 rows x 59 columns]"
      ]
     },
     "execution_count": 44,
     "metadata": {},
     "output_type": "execute_result"
    }
   ],
   "source": [
    "for i in df.columns:\n",
    "    df[i]  = [item[0] if type(item) == list else item for item in df[i]]\n",
    "df.head(1)\n",
    "\n",
    "# extract items from list for all columns"
   ]
  },
  {
   "cell_type": "markdown",
   "metadata": {},
   "source": [
    "### get original columns from the copy \"df0\" for \"fuel_consumption\", \"previous_owner\", \"desc\" "
   ]
  },
  {
   "cell_type": "code",
   "execution_count": 45,
   "metadata": {},
   "outputs": [
    {
     "data": {
      "text/plain": [
       "0                                                      NaN\n",
       "1                                                      NaN\n",
       "2        [[8.4 l/100 km (comb.)], [10.9 l/100 km (city)...\n",
       "3        [[7.3 l/100 km (comb.)], [9.3 l/100 km (city)]...\n",
       "4        [[4.9 l/100 km (comb.)], [5.7 l/100 km (city)]...\n",
       "                               ...                        \n",
       "29474                               [[2 l/100 km (comb.)]]\n",
       "29475    [[9.1 l/100 km (comb.)], [13.2 l/100 km (city)...\n",
       "29476    [[3.8 l/100 km (comb.)], [4.3 l/100 km (city)]...\n",
       "29477    [[6.5 l/100 km (comb.)], [8.6 l/100 km (city)]...\n",
       "29478    [[10.4 l/100 km (comb.)], [15.3 l/100 km (city...\n",
       "Name: fuel_consumption, Length: 28630, dtype: object"
      ]
     },
     "execution_count": 45,
     "metadata": {},
     "output_type": "execute_result"
    }
   ],
   "source": [
    "df[\"fuel_consumption\"] = df0[\"fuel_consumption\"]  #taken originals from the data we copied earlier\n",
    "df[\"fuel_consumption\"]"
   ]
  },
  {
   "cell_type": "code",
   "execution_count": 46,
   "metadata": {},
   "outputs": [
    {
     "data": {
      "text/plain": [
       "0                               NaN\n",
       "1                               NaN\n",
       "2                               NaN\n",
       "3                               NaN\n",
       "4                               NaN\n",
       "                    ...            \n",
       "29474                           NaN\n",
       "29475                           NaN\n",
       "29476     [[96,000 km, 04/2011], 1]\n",
       "29477                           NaN\n",
       "29478    [[230,047 km, 07/2002], 5]\n",
       "Name: previous_owner, Length: 28630, dtype: object"
      ]
     },
     "execution_count": 46,
     "metadata": {},
     "output_type": "execute_result"
    }
   ],
   "source": [
    "df[\"previous_owner\"] = df0[\"previous_owner\"]     #taken originals from the data we copied earlier\n",
    "df[\"previous_owner\"] "
   ]
  },
  {
   "cell_type": "code",
   "execution_count": 47,
   "metadata": {},
   "outputs": [
    {
     "data": {
      "text/plain": [
       "0        [ , Precio al contado: 16950 euros,  ,  , Vehí...\n",
       "1        [ , Precio al contado: 88900 euros,  , AUTO OJ...\n",
       "2        [Gris MANUFAKTUR mountaingrau magno,  , Linea/...\n",
       "3        [ , Precio al contado: 48990 euros,  ,  , BONI...\n",
       "4        [ , Precio al contado: 17400 euros,  , Vehícul...\n",
       "                               ...                        \n",
       "29474    [ , Precio al contado: 41400 euros,  , Os pres...\n",
       "29475    [Een goed rijdende auto met APK + NAP + Elektr...\n",
       "29476    [*** VOLVO C30 2011 TRES PROPRE EN PARFAIT ETA...\n",
       "29477    [Bekijk deze auto in unieke 360 graden present...\n",
       "29478    [YOUNGTIMER !, Bedrijfsinformatie, NEEM VOOR U...\n",
       "Name: desc, Length: 28630, dtype: object"
      ]
     },
     "execution_count": 47,
     "metadata": {},
     "output_type": "execute_result"
    }
   ],
   "source": [
    "df[\"desc\"] = df0[\"desc\"]     #taken originals from the data we copied earlier\n",
    "df[\"desc\"] "
   ]
  },
  {
   "cell_type": "markdown",
   "metadata": {},
   "source": [
    "### First registration"
   ]
  },
  {
   "cell_type": "code",
   "execution_count": 48,
   "metadata": {},
   "outputs": [
    {
     "data": {
      "text/plain": [
       "0        06/2016\n",
       "1        06/2022\n",
       "2        07/2020\n",
       "3        01/2020\n",
       "4        09/2015\n",
       "          ...   \n",
       "29474    08/2019\n",
       "29475    06/2004\n",
       "29476    04/2011\n",
       "29477    11/2017\n",
       "29478    07/2002\n",
       "Name: first_registration, Length: 28630, dtype: object"
      ]
     },
     "execution_count": 48,
     "metadata": {},
     "output_type": "execute_result"
    }
   ],
   "source": [
    "df['first_registration']"
   ]
  },
  {
   "cell_type": "code",
   "execution_count": 49,
   "metadata": {},
   "outputs": [
    {
     "name": "stdout",
     "output_type": "stream",
     "text": [
      "<class 'pandas.core.series.Series'>\n",
      "Int64Index: 28630 entries, 0 to 29478\n",
      "Series name: first_registration\n",
      "Non-Null Count  Dtype \n",
      "--------------  ----- \n",
      "28628 non-null  object\n",
      "dtypes: object(1)\n",
      "memory usage: 447.3+ KB\n"
     ]
    }
   ],
   "source": [
    "df['first_registration'].info()"
   ]
  },
  {
   "cell_type": "code",
   "execution_count": 50,
   "metadata": {},
   "outputs": [],
   "source": [
    "df['first_registration'] = pd.to_datetime(df['first_registration'])"
   ]
  },
  {
   "cell_type": "code",
   "execution_count": 51,
   "metadata": {},
   "outputs": [
    {
     "name": "stdout",
     "output_type": "stream",
     "text": [
      "<class 'pandas.core.series.Series'>\n",
      "Int64Index: 28630 entries, 0 to 29478\n",
      "Series name: first_registration\n",
      "Non-Null Count  Dtype         \n",
      "--------------  -----         \n",
      "28628 non-null  datetime64[ns]\n",
      "dtypes: datetime64[ns](1)\n",
      "memory usage: 447.3 KB\n"
     ]
    }
   ],
   "source": [
    "df['first_registration'].info()"
   ]
  },
  {
   "cell_type": "code",
   "execution_count": 52,
   "metadata": {},
   "outputs": [
    {
     "data": {
      "text/plain": [
       "0       2016-06-01\n",
       "1       2022-06-01\n",
       "2       2020-07-01\n",
       "3       2020-01-01\n",
       "4       2015-09-01\n",
       "           ...    \n",
       "29474   2019-08-01\n",
       "29475   2004-06-01\n",
       "29476   2011-04-01\n",
       "29477   2017-11-01\n",
       "29478   2002-07-01\n",
       "Name: first_registration, Length: 28630, dtype: datetime64[ns]"
      ]
     },
     "execution_count": 52,
     "metadata": {},
     "output_type": "execute_result"
    }
   ],
   "source": [
    "df['first_registration']"
   ]
  },
  {
   "cell_type": "code",
   "execution_count": 53,
   "metadata": {},
   "outputs": [
    {
     "name": "stdout",
     "output_type": "stream",
     "text": [
      "<class 'pandas.core.series.Series'>\n",
      "Int64Index: 28630 entries, 0 to 29478\n",
      "Series name: first_registration\n",
      "Non-Null Count  Dtype         \n",
      "--------------  -----         \n",
      "28628 non-null  datetime64[ns]\n",
      "dtypes: datetime64[ns](1)\n",
      "memory usage: 447.3 KB\n"
     ]
    }
   ],
   "source": [
    "df['first_registration'].info()"
   ]
  },
  {
   "cell_type": "code",
   "execution_count": 54,
   "metadata": {},
   "outputs": [],
   "source": [
    "# two missing values our new vehicles for demonstration. recode as 2022"
   ]
  },
  {
   "cell_type": "markdown",
   "metadata": {},
   "source": [
    "### Gearbox"
   ]
  },
  {
   "cell_type": "code",
   "execution_count": 55,
   "metadata": {},
   "outputs": [
    {
     "data": {
      "text/plain": [
       "0           \\nManual\\n\n",
       "1        \\nAutomatic\\n\n",
       "2        \\nAutomatic\\n\n",
       "3        \\nAutomatic\\n\n",
       "4        \\nAutomatic\\n\n",
       "             ...      \n",
       "29474    \\nAutomatic\\n\n",
       "29475    \\nAutomatic\\n\n",
       "29476       \\nManual\\n\n",
       "29477    \\nAutomatic\\n\n",
       "29478    \\nAutomatic\\n\n",
       "Name: gearbox, Length: 28630, dtype: object"
      ]
     },
     "execution_count": 55,
     "metadata": {},
     "output_type": "execute_result"
    }
   ],
   "source": [
    "df['gearbox']"
   ]
  },
  {
   "cell_type": "code",
   "execution_count": 56,
   "metadata": {},
   "outputs": [
    {
     "data": {
      "text/plain": [
       "\\nManual\\n            17023\n",
       "\\nAutomatic\\n         11287\n",
       "NaN                     248\n",
       "\\nSemi-automatic\\n       72\n",
       "Name: gearbox, dtype: int64"
      ]
     },
     "execution_count": 56,
     "metadata": {},
     "output_type": "execute_result"
    }
   ],
   "source": [
    "df['gearbox'].value_counts(dropna=False)"
   ]
  },
  {
   "cell_type": "code",
   "execution_count": 57,
   "metadata": {},
   "outputs": [],
   "source": [
    "df['gearbox'] = df['gearbox'].str.strip(\"\\n \")"
   ]
  },
  {
   "cell_type": "code",
   "execution_count": 58,
   "metadata": {},
   "outputs": [
    {
     "data": {
      "text/plain": [
       "Manual            17023\n",
       "Automatic         11287\n",
       "NaN                 248\n",
       "Semi-automatic       72\n",
       "Name: gearbox, dtype: int64"
      ]
     },
     "execution_count": 58,
     "metadata": {},
     "output_type": "execute_result"
    }
   ],
   "source": [
    "df['gearbox'].value_counts(dropna=False)"
   ]
  },
  {
   "cell_type": "code",
   "execution_count": 59,
   "metadata": {},
   "outputs": [
    {
     "data": {
      "text/plain": [
       "0           Manual\n",
       "1        Automatic\n",
       "2        Automatic\n",
       "3        Automatic\n",
       "4        Automatic\n",
       "           ...    \n",
       "29474    Automatic\n",
       "29475    Automatic\n",
       "29476       Manual\n",
       "29477    Automatic\n",
       "29478    Automatic\n",
       "Name: gearbox, Length: 28630, dtype: object"
      ]
     },
     "execution_count": 59,
     "metadata": {},
     "output_type": "execute_result"
    }
   ],
   "source": [
    "df['gearbox']"
   ]
  },
  {
   "cell_type": "code",
   "execution_count": 60,
   "metadata": {},
   "outputs": [
    {
     "data": {
      "text/plain": [
       "Manual            17023\n",
       "Automatic         11287\n",
       "NaN                 248\n",
       "Semi-automatic       72\n",
       "Name: gearbox, dtype: int64"
      ]
     },
     "execution_count": 60,
     "metadata": {},
     "output_type": "execute_result"
    }
   ],
   "source": [
    "df['gearbox'].value_counts(dropna=False)"
   ]
  },
  {
   "cell_type": "code",
   "execution_count": 61,
   "metadata": {},
   "outputs": [],
   "source": [
    "df['gearbox'] = df['gearbox'].str.strip(\"\\n \")"
   ]
  },
  {
   "cell_type": "code",
   "execution_count": 62,
   "metadata": {},
   "outputs": [
    {
     "data": {
      "text/plain": [
       "Manual            17023\n",
       "Automatic         11287\n",
       "NaN                 248\n",
       "Semi-automatic       72\n",
       "Name: gearbox, dtype: int64"
      ]
     },
     "execution_count": 62,
     "metadata": {},
     "output_type": "execute_result"
    }
   ],
   "source": [
    "df['gearbox'].value_counts(dropna=False)"
   ]
  },
  {
   "cell_type": "markdown",
   "metadata": {},
   "source": [
    "### Fuel type"
   ]
  },
  {
   "cell_type": "code",
   "execution_count": 63,
   "metadata": {},
   "outputs": [
    {
     "data": {
      "text/plain": [
       "Benzine     17334\n",
       "Diesel       8727\n",
       "NaN          1787\n",
       "LPG/CNG       381\n",
       "Others        213\n",
       "Electric      188\n",
       "Name: new_fuel_type, dtype: int64"
      ]
     },
     "execution_count": 63,
     "metadata": {},
     "output_type": "execute_result"
    }
   ],
   "source": [
    "df['fuel_type'].unique()\n",
    "# Define unique values to lists\n",
    "benzine = ['Gasoline','Regular/Benzine 91','Regular/Benzine 91 (Particle filter)', 'Super 95', 'Super E10 95', 'Gasoline (Particle filter)','Super 95 (Particle filter)','Super Plus 98',\\\n",
    "           'Super E10 95 (Particle filter)','Regular/Benzine E10 91','Super Plus E10 98', 'Super Plus E10 98 (Particle filter)', 'Super Plus 98 (Particle filter)', 'Ethanol', \\\n",
    "           'Regular/Benzine E10 91 (Particle filter)', 'Super 95 (Particle filter) / Super E10 95 / Ethanol']\n",
    "diesel  = ['Diesel']\n",
    "diesel_particule_filter = ['Diesel (Particle filter)']\n",
    "LPG =  ['LPG', 'Liquid petroleum gas (LPG)','Liquid petroleum gas (LPG) / Super E10 95 / Regular/Benzine 91 / Super 95 / Super Plus 98 / Biogas', 'CNG',\\\n",
    "        'Liquid petroleum gas (LPG) (Particle filter) / Super 95 / Super E10 95','Liquid petroleum gas (LPG) / Super 95 / Super E10 95',\\\n",
    "        'LPG (Particle filter)', 'Electric (Particle filter)', 'Domestic gas L','Liquid petroleum gas (LPG) / Super 95 / Super Plus 98 / Super Plus E10 98 / Super E10 95',\\\n",
    "        'CNG (Particle filter)', 'Domestic gas H', 'Domestic gas L (Particle filter)', 'Biogas',\\\n",
    "        'Domestic gas H / Super E10 95 / Super Plus E10 98 / Super 95 / Super Plus 98 / Domestic gas L',\\\n",
    "        'Domestic gas L / Super 95 / Domestic gas H','Super 95 / Super Plus 98 / Liquid petroleum gas (LPG)',\\\n",
    "        'Liquid petroleum gas (LPG) (Particle filter)', 'Liquid petroleum gas (LPG) / Super 95',\\\n",
    "        'Liquid petroleum gas (LPG) / Super 95 / Super E10 95 / Super Plus 98', 'Liquid petroleum gas (LPG) / Super 95 / Super Plus 98',\\\n",
    "        'Liquid petroleum gas (LPG) / Super E10 95', 'Liquid petroleum gas (LPG) / Super E10 95 / Super Plus E10 98 / Super Plus 98 / Super 95', 'Super 95 / Liquid petroleum gas (LPG)']\n",
    "electric = ['Electric']\n",
    "others =  ['Others', 'Others (Particle filter)']\n",
    "hydrogen = [\"Hydrogen\"]\n",
    "def map_fuel_types(fuel_type):\n",
    "    if fuel_type in benzine:\n",
    "        return \"Benzine\"\n",
    "    elif fuel_type in diesel:\n",
    "        return \"Diesel\"\n",
    "    elif fuel_type in LPG:\n",
    "        return \"LPG/CNG\"\n",
    "    elif fuel_type in diesel_particule_filter:\n",
    "        return \"Diesel\"\n",
    "    elif fuel_type in electric:\n",
    "        return \"Electric\"\n",
    "    elif fuel_type in others:\n",
    "        return \"Others\"\n",
    "    elif fuel_type in hydrogen:\n",
    "        return \"Electric\"\n",
    "    else:\n",
    "        return np.nan\n",
    "      \n",
    "\n",
    "df['new_fuel_type'] = df['fuel_type'].map(map_fuel_types) \n",
    "df['new_fuel_type'].value_counts(dropna=False)"
   ]
  },
  {
   "cell_type": "markdown",
   "metadata": {},
   "source": [
    "### Paint"
   ]
  },
  {
   "cell_type": "code",
   "execution_count": 64,
   "metadata": {},
   "outputs": [
    {
     "data": {
      "text/plain": [
       "Metallic     14494\n",
       "NaN          14135\n",
       "Uni/basic        1\n",
       "Name: paint, dtype: int64"
      ]
     },
     "execution_count": 64,
     "metadata": {},
     "output_type": "execute_result"
    }
   ],
   "source": [
    "df[\"paint\"].value_counts(dropna=False)"
   ]
  },
  {
   "cell_type": "code",
   "execution_count": 65,
   "metadata": {},
   "outputs": [],
   "source": [
    "df[\"paint2\"] = df[\"paint\"].apply(lambda x: 1 if x == \"Metallic\" else 0)"
   ]
  },
  {
   "cell_type": "code",
   "execution_count": 66,
   "metadata": {},
   "outputs": [
    {
     "data": {
      "text/plain": [
       "1    14494\n",
       "0    14136\n",
       "Name: paint2, dtype: int64"
      ]
     },
     "execution_count": 66,
     "metadata": {},
     "output_type": "execute_result"
    }
   ],
   "source": [
    "df[\"paint2\"].value_counts(dropna=False)"
   ]
  },
  {
   "cell_type": "markdown",
   "metadata": {},
   "source": [
    "### Desc"
   ]
  },
  {
   "cell_type": "code",
   "execution_count": 67,
   "metadata": {},
   "outputs": [],
   "source": [
    "df[\"desc\"] = [\",\".join(item) if type (item) ==list else item for item in df[\"desc\"]]\n"
   ]
  },
  {
   "cell_type": "code",
   "execution_count": 68,
   "metadata": {},
   "outputs": [
    {
     "data": {
      "text/plain": [
       "                                                                                                                                                                                                                                                                                                                                                                                                                                                                                                                                                                                                                                                                                                                                                                                                                                                                                                                                                                                                                                                                                                                                                                                                                                                                                                                                                                                                                                                                                                                                                                                                                                                                                                                                                                                                                                                                                                                                                                                                                                                                                                                                                                                                                                                                                                                                                                                                                                                                                                                                                                                                                                                                                                                                                                                                                                                                                                                                                                                                                                                                                                                                                                                                                                                                                                                                                                                                                                                                                                                                                                                                                                                                                                                                                                                                                                                                                                                                                                                                                                                                                                                                                                  88\n",
       "Genaue Angaben zu der Serienausstattung, finden Sie auf unsere Homepage.,Gerne nehmen wir Ihr Aktuelles Fahrzeug zurück!,Der Verkäufer übernimmt keine Haftung für Tipp und Datenübermittlungsfehler.,Angeführte Ausstattungen sind ggfs. gesondert vor Ort zu prüfen.,Alle Angaben in den Inseraten sind unverbindlich und ohne Gewähr., ,Dacia Jogger TCe 110 Extreme+ 7-Sitzer, ,Sonderausstattung, ,City-Paket, ,- elektrische Parkbremse,- erhöhte Mittelkonsole,- Einparkhilfe vorne und hinten,- Rückfahrkamera,- Toter-Winkel-Warner, ,Sitzheizung für Vordersitze, ,Klimaautomatik, ,Scheiben hinten abgedunkelt, ,7-Sitzer, ,Serienausstattung, , ,Eco LED-Scheinwerfer, ,Reserverad, ,Notbremsassistent, ,ECO-Mode, ,12V Steckdose, ,Klapptische für zweite Sitzreihe, ,El. Parkbremse, ,Sonnenblenden mit Make-up-Spiegel, ,Beifahrersonnenblende mit Make-up-Spiegel, ,Fahrersitz höhenverstellbar, ,Lenkrad höhen- und längsverstellbar, ,Rücksitzbank 60/40 umklappbar, ,Servolenkung, ,Zentralverriegelung, ,El. Fensterheber vorne und hinten, ,El. Seitenspiegel, ,Schlüssellose Zentralverriegelung, ,Armlehne, ,Lenkrad in Lederoptik mit Multifunktion, ,Dachreling modular, ,Leichtmetallfelgen in schwarz mit Sommerreifen, ,Reifendruck-Kontrolle, ,Dacia Media Nav Multimediasystem, ,DAB-Radio, ,MP3 fähig, ,Bluetooth, ,USB-Anschluss, ,Touchscreen, ,CarPlay, ,Android Auto, ,Sprachsteuerung, ,Navigationssystem, ,Tempomat, ,Freisprecheinrichtung, ,Bordcomputer Check-Control, ,Geschwindigkeitsbegrenzungsanlage, ,inkl. Garantie, ,Scheckheftgepflegt, ,Nichtraucher-Fhrz., ,ABS, ,ESP, ,Traktionskontrolle, ,E10 geeignet, ,Partikelfilter, ,Regensensor, ,El. Wegfahrsperre, ,Start/Stop-Automatik, ,Notrufsystem, ,Isofi,x ,Nebelscheinwerfer, ,LED-Tagfahrlicht, ,Tagfahrlicht, ,Lichtsensor, ,Fahrer-Airbag, ,Beifahrer-Airbag, ,Tür/Seiten-Airbag, ,Fahrzeug ist voraussichtlich verfügbar in 6 - 8 Wochen!, ,5-türig, Tageszulassung, Zustand, Unfall: unfallfrei,sofort lieferbar,See more                                                                                                                                                                                                                                                                                                                                                                                                                                                                                                                                                                                                                                                                                                                                                                                                                                                                                                                                                                                                                                                                                                                                                                                                                                                                                                                                                                                                                                                                                                                                                                                                                                                                                                                                                                                                                                                                                                                                                                                                                                                                                                                              51\n",
       "Ref.  4236LFG,           OCASIONPLUS,SÓLO ESTE MES MEJOR PRECIO GARANTIZADO,COMPRA CON TOTAL CONFIANZA - 15 DÍAS O 1000 KMs DE PRUEBA,OCASIONPLUS - Nº1 Calidad/Precio,5000 COCHES - 50 centros en toda la península ,Elige tu coche y te lo llevamos a tu provincia,Hasta 2350€ de descuento en este coche,ADEMÁS HACEMOS FINANCIACIONES A MEDIDA, PREGÚNTANOS!!,Equipamiento destacado: Techo panorámico, Tapicería de piel, Asistente de aparcamiento, Navegador, Encendido automático de faros, Arranque por botón, Start/Stop automático, Control de velocidad, Volante multifunción, Bluetooth, Aire Acondicionado (Climatizador), Control de tracción, Llantas de aleación (18\").,- Garantía total 1 año, con cobertura nacional, ampliable a 24 meses.,- Certificado de Kilómetros y ausencia de golpes estructurales.,- Sobrevaloramos tu coche en operaciones de cambio. Tásalo ahora en ocasionplus.com,- Entregamos cualquier coche en cualquier centro por 100€,- Abierto Domingo y Festivos., ,Extras, , ,Equipamiento destacado seleccionado por el usuario, , ,- Llantas de aleación de 18\",- Techo panorámico,- Navegador,- Start/Stop automático,- Control de velocidad,- Volante multifunción,- Bluetooth,- Control de tracción,- Climatizador,- Llantas de aleación,- Aire Acondicionado,- Tapicería de piel,- Asistente de aparcamiento,- Encendido automático de faros,- Arranque por botón,See more                                                                                                                                                                                                                                                                                                                                                                                                                                                                                                                                                                                                                                                                                                                                                                                                                                                                                                                                                                                                                                                                                                                                                                                                                                                                                                                                                                                                                                                                                                                                                                                                                                                                                                                                                                                                                                                                                                                                                                                                                                                                                                                                                                                                                                                                                                                                                                                                                                                                                                                                                                                                                                                                                                                                        34\n",
       " ,Precio al contado: 15200 euros, ,Ref.  6710KJS,           \"OCASIONPLUS,SÓLO ESTE MES MEJOR PRECIO GARANTIZADO,COMPRA CON TOTAL CONFIANZA - 15 DÍAS O 1000 KMs DE PRUEBA,OCASIONPLUS - Nº1 Calidad/Precio,5000 COCHES - 50 centros en toda la península ,Elige tu coche y te lo llevamos a tu provincia,Hasta 1382€ de descuento en este coche,Precio oferta financiado: 13818€ (202€/mes) financiando la totalidad a un plazo mínimo de 60 meses,Precio al contado: 15200€ ADEMÁS HACEMOS FINANCIACIONES A MEDIDA, PREGÚNTANOS!!\",Equipamiento destacado: Faros traseros led, Bluetooth, Arranque por botón, Aire Acondicionado (Climatizador), Isofix, Llantas de aleación (16\").,- Coche Nacional.,- Garantía total 1 año, con cobertura nacional, ampliable a 24 meses.,- Certificado de Kilómetros y ausencia de golpes estructurales.,- Sobrevaloramos tu coche en operaciones de cambio. Tásalo ahora en ocasionplus.com,- Entregamos cualquier coche en cualquier centro por 100€,- Abierto Domingo y Festivos., ,Extras, , ,Equipamiento destacado seleccionado por el usuario, , ,- Bluetooth,- Climatizador,- Llantas de aleación,- Aire Acondicionado,- Llantas de aleación de 16\",- Faros traseros led,- Isofi,x- Arranque por botón, ,Condiciones de la financiación, ,\"OCASIONPLUS,SÓLO ESTE MES MEJOR PRECIO GARANTIZADO,COMPRA CON TOTAL CONFIANZA - 15 DÍAS O 1000 KMs DE PRUEBA,OCASIONPLUS - Nº1 Calidad/Precio,5000 COCHES - 50 centros en toda la península ,Elige tu coche y te lo llevamos a tu provincia,Hasta 1382€ de descuento en este coche,Precio oferta financiado: 13818€ (202€/mes) financiando la totalidad a un plazo mínimo de 60 meses,Precio al contado: 15200€ ADEMÁS HACEMOS FINANCIACIONES A MEDIDA, PREGÚNTANOS!!\",See more                                                                                                                                                                                                                                                                                                                                                                                                                                                                                                                                                                                                                                                                                                                                                                                                                                                                                                                                                                                                                                                                                                                                                                                                                                                                                                                                                                                                                                                                                                                                                                                                                                                                                                                                                                                                                                                                                                                                                                                                                                                                                                                                                                                                                                                                                                                                                                                            34\n",
       " ,Precio al contado: 16650 euros, ,Ref.  3967KKW,           \"OCASIONPLUS,SÓLO ESTE MES MEJOR PRECIO GARANTIZADO,COMPRA CON TOTAL CONFIANZA - 15 DÍAS O 1000 KMs DE PRUEBA,OCASIONPLUS - Nº1 Calidad/Precio,5000 COCHES - 50 centros en toda la península ,Elige tu coche y te lo llevamos a tu provincia,Hasta 1514€ de descuento en este coche,Precio oferta financiado: 15136€ (221€/mes) financiando la totalidad a un plazo mínimo de 60 meses,Precio al contado: 16650€ ADEMÁS HACEMOS FINANCIACIONES A MEDIDA, PREGÚNTANOS!!\",            Equipamiento destacado: Asistente de aparcamiento, Faros delanteros led, Bluetooth, Control de velocidad, Encendido automático de faros, Llantas de aleación (16\").,                - Coche Nacional, Historial Mantenimiento.,                - Garantía total 1 año, con cobertura nacional, ampliable a 24 meses.,                - Certificado de Kilómetros y ausencia de golpes estructurales.,            - Sobrevaloramos tu coche en operaciones de cambio. Tásalo ahora en ocasionplus.com,            - Entregamos cualquier coche en cualquier centro por 100€,            - Abierto Domingo y Festivos., ,Extras, , ,Equipamiento destacado seleccionado por el usuario, , ,- Control de velocidad,- Bluetooth,- Llantas de aleación,- Llantas de aleación de 16\",- Asistente de aparcamiento,- Faros delanteros led,- Encendido automático de faros, ,Condiciones de la financiación, ,\"OCASIONPLUS,SÓLO ESTE MES MEJOR PRECIO GARANTIZADO,COMPRA CON TOTAL CONFIANZA - 15 DÍAS O 1000 KMs DE PRUEBA,OCASIONPLUS - Nº1 Calidad/Precio,5000 COCHES - 50 centros en toda la península ,Elige tu coche y te lo llevamos a tu provincia,Hasta 1514€ de descuento en este coche,Precio oferta financiado: 15136€ (221€/mes) financiando la totalidad a un plazo mínimo de 60 meses,Precio al contado: 16650€ ADEMÁS HACEMOS FINANCIACIONES A MEDIDA, PREGÚNTANOS!!\",See more                                                                                                                                                                                                                                                                                                                                                                                                                                                                                                                                                                                                                                                                                                                                                                                                                                                                                                                                                                                                                                                                                                                                                                                                                                                                                                                                                                                                                                                                                                                                                                                                                                                                                                                                                                                                                                                                                                                                                                                                                                                                                                                                                                                                                             30\n",
       "                                                                                                                                                                                                                                                                                                                                                                                                                                                                                                                                                                                                                                                                                                                                                                                                                                                                                                                                                                                                                                                                                                                                                                                                                                                                                                                                                                                                                                                                                                                                                                                                                                                                                                                                                                                                                                                                                                                                                                                                                                                                                                                                                                                                                                                                                                                                                                                                                                                                                                                                                                                                                                                                                                                                                                                                                                                                                                                                                                                                                                                                                                                                                                                                                                                                                                                                                                                                                                                                                                                                                                                                                                                                                                                                                                                                                                                                                                                                                                                                                                                                                                                                                                  ..\n",
       "PEUGEOT 3008 BUSINESS 3008 1.6 BlueHDi 120ch S&S EAT6 Active Business                                                                                                                                                                                                                                                                                                                                                                                                                                                                                                                                                                                                                                                                                                                                                                                                                                                                                                                                                                                                                                                                                                                                                                                                                                                                                                                                                                                                                                                                                                                                                                                                                                                                                                                                                                                                                                                                                                                                                                                                                                                                                                                                                                                                                                                                                                                                                                                                                                                                                                                                                                                                                                                                                                                                                                                                                                                                                                                                                                                                                                                                                                                                                                                                                                                                                                                                                                                                                                                                                                                                                                                                                                                                                                                                                                                                                                                                                                                                                                                                                                                                                              1\n",
       " ,Precio al contado: 27900 euros, ,Concesionario oficial Peugeot en Valencia con más de 50 Años de experiencia. Vehículo revisado en más de 100 puntos con el programa Spoticar de Peugeot. Posibilidad de financiar hasta 120 meses sin entrada. Garantizado 12 meses ampliable hasta 36 meses. Gestionamos también su seguro de coche a los mejores precios. Vehículo publicado con 3.400-€ de descuento al financiar con nuestra entidad financiera colaboradora una cantidad mínima de 10.000.-€ a 60 meses y entregando coche de más de 10 años.,Este anuncio no es contractual y está sujeto a las condiciones de la campaña mensual. Le animamos,a consultar condiciones.,EQUIPAMIENTOS:,Asientos de tela (material principal) y de cuero sintético (material secundario),Navegador con datos vía memoria interna/disco duro y pantalla a color de 10,0 \" con información en 3D y con voz, control mediante pantalla táctil y información de tráfico 25,4 y 36,Volante multi-función revestido de cuero ajustable en altura y en profundidad, ,Condiciones de la financiación, ,Consultar condiciones de financiación en este anuncio o contactando con el anunciante,See more                                                                                                                                                                                                                                                                                                                                                                                                                                                                                                                                                                                                                                                                                                                                                                                                                                                                                                                                                                                                                                                                                                                                                                                                                                                                                                                                                                                                                                                                                                                                                                                                                                                                                                                                                                                                                                                                                                                                                                                                                                                                                                                                                                                                                                                                                                                                                                                                                                                                                                                                                                                                                                                                                                                                                                                                                                                                                                                                                                              1\n",
       "Concessionaria Burnout che fa parte della Community NON PRENDERMI PER IL CHILOMETRO e da più di 10 anni sul mercato E' LIETA DI PRESENTARVI . Stupenda Peugeot 5008 1.6 hdi 120 cv 7 posti ,Vettura tagliandata, garantita ,sanificata e ricondizionamento interni.,SCOPRITE I NOSTRI VANTAGGI USATO GARANTITO E RICONDIZIONATO ,* POSSIBILITA' PERMUTA USATO CON USATO,* FINANZIAMENTI PERSONALIZZATI. ,* POSSIBILITA' DI ESTENDERE LA GARANZIA A 24 / 36 / 48 MESI ,Optional:,specchi elettrici ,Apple Car play,Cruise control,Completa cronologia tagliandi,vetri elettrici,Sensore pioggia ,sensore luci,Unico proprietario,Sensori di parcheggio,E tanto altro ancora,Ci scusiamo per l'inconveniente ma a causa della non uniformità dei dati pubblicati dai diversi portali,vi invitiamo a verificare le caratteristiche dello specifico veicolo ,* I nostri Consulenti sono a Sua disposizione tutti i giorni, dal lunedì al sabato, dalle 9.00 alle19 ,WhatsApp Messenger  3473007167,See more                                                                                                                                                                                                                                                                                                                                                                                                                                                                                                                                                                                                                                                                                                                                                                                                                                                                                                                                                                                                                                                                                                                                                                                                                                                                                                                                                                                                                                                                                                                                                                                                                                                                                                                                                                                                                                                                                                                                                                                                                                                                                                                                                                                                                                                                                                                                                                                                                                                                                                                                                                                                                                                                                                                                                                                                                                                                                                                                                                                                                                                                                                                                                            1\n",
       "Equipements supplémentaires : 2 sieges escamotables et extractibles pour les passagers du 3eme rang, Acces et demarrage mains libres, Accoudoir central AV a ouverture papillon, avec compartiment de rangement eclaire et refrigerable, Aide graphique et sonore au stationnement AR, Aide graphique et sonore au stationnement AV, Air conditionne automatique bi-zone avec aerateurs aux places AR, Airbags frontaux conducteur et passager adaptatifs (passager neutralisable par cle), airbags lateraux conducteur et passager AV, airbags rideaux de tete aux places AV et AR, Appuis-tete a securite optimisee reglables en hauteur sur les sieges conducteur et passager AV ainsi que sur les places laterales AR, Avertisseur de temps de conduite, Barres de toit longitudinales profilee en Aluminium, Boite a gants floquee et eclairee, Boitiers de retroviseurs exterieurs dans la couleur de la carrosserie, Calandre avec jonc peripherique et ailettes chromes, Ceintures de securite 3 points a enrouleur (x2) au 3eme rang, Ceintures de securite 3 points a enrouleur (x3) au 2eme rang, avec pretensionneurs et limiteurs d'effort aux places laterales, Ceintures de securite AV 3 points a enrouleur, reglables en hauteur avec pretensionneurs et limiteurs d'effort, Commande de verrouillage a distance (2 plips), Console centrale AV avec 2 porte-gobelets, Controle dynamique de stabilite CDS avec antipatinage electronique ASR, Decors de planche de bord et panneaux de portes en maille 'Brumeo', Decors interieurs (baguettes de planche de bord et panneaux de portes, enjoliveur de console) chromes, Detection de sous-gonflage indirecte, Direction assistee electrique, colonne de direction reglable en hauteur et profondeur (mecanique), Ecran tactile capacitif 8' et 'Toggles Switches', Enjoliveur d'arc de pavillon en inox, Enjoliveur de seuil d'entree de coffre chrome, Enjoliveur en inox sur les protecteurs de bas de portes, Essuie-vitre AR avec enclenchement automatique en marche AR, Essuie-vitre AV avec systeme de lavage 'Magic Wash', Fixations pour 3 sieges enfants suivant norme ISOFIX aux places du 2eme rang, Fonction 'Mirror Screen', Frein de stationnement electrique avec aide au demarrage en pente, Indicateur de rapport conseille, Inserts d'ailes AV chromes, Jantes alliage 18' 'Detroit' bi-ton diamantees, Kit de depannage de pneumatique : compresseur 12 volts, flacon de produit de colmatage, anneau de remorquage, deux cales de roue, manivelle de frein de stationnement electrique, Leve-vitres AR electriques et sequentiels avec antipincement, Leve-vitres AV electriques et sequentiels avec antipincement, Lunette AR chauffante avec antennes serigraphiees, Miroirs de courtoisie eclaires, Nouveau Peugeot i-Cockpit : combine tete haute numerique reconfigurable et volant compact multi-fonctions, Pack City 1, Pack Eclairage d'ambiance, Pack Safety Plus, Pack Visibilite, Passages de roues rapportes noirs, Peugeot Connect, Plafonnier AV avec spots de lecture (x2) et plafonniers a extinction temporisee aux 2eme et 3eme rangs, Poches/filets aumonieres au dos des sieges AV, Poignees de maintien (x4) retractables avec frein (crochets pour cintres aux places AR), Poignees de portes couleur carrosserie, Prise 12V (x3 : zone connectique, AR de console et coffre), Prise USB (dans la zone connectique), Projecteurs antibrouillard halogenes, Projecteurs halogenes a l'AV avec feux diurnes a LED, Radio 6 HP, bi-tuner compatible MP3 et connectivite Bluetooth (audio streaming, kit mains libres), avec commandes au volant, ecran tactile capacitif 8', Reconnaissance des panneaux de vitesse et preconisation de vitesse, Regulateur / Limiteur de vitesse, Retroviseurs exterieurs electriques degivrants, Retroviseurs exterieurs rabattables electriquement avec eclairage d'accueil a LED, Retroviseurs indexes a la marche AR, Rideaux pare-soleil (x2) pour les passagers du 2eme rang, Sabots de pare-chocs AV gris metallise, Securite enfants electrique des vitres AR, Sellerie TEP & Tissu 'Evron', Sieg,See more     1\n",
       "YOUNGTIMER !,Bedrijfsinformatie,NEEM VOOR U WILT KOMEN KIJKEN NAAR EEN AUTO TELEFONISCH CONTACT MET ONS OP 0162-313775 (optie 2) U BENT VAN HARTE WELKOM VOOR PROEFRIT! DINSDAG ALLEEN OP AFSPRAAK! ,Overige informatie: Inruil, financiering, garantie of nieuwe apk zijn bespreekbaar. Inruil van uw auto, bus, bestelwagen,vrachtwagen , camper, caravan, boot, graafmachines tractoren of andere industriële equipment is mogelijk! Overdekte showroom 2500 M2 met 100 occasions op voorraad! Ons adres is Lage Ham 106 in Dongen. Openingstijden: Maandag: 9:00-18.00 Dinsdag: ALLEEN OP AFSPRAAK  woensdag t/m vrijdag: 09.00 t/m 18.00 zaterdag 09.00 t/m 14.00. Wij zijn bereikbaar op 0162-313 775 Verdere informatie: WWW.FOCD.NL. Voor informatie over afwijkende openingstijden wat betreft feestdagen kunt u terecht op onze home pagina van WWW.FOCD.NL,Meer informatie,Algemene informatie,Modeljaar: ,2001,Prestaties,Acceleratie (0-100): ,8,9 s,Topsnelheid: ,225 km/u,Maten,Afmetingen (LxBxH): ,482 x 183 x 145 cm,Wielbasis: ,279 cm,Gewichten,Laadvermogen: ,517 kg,GVW: ,2.090 kg,Max. trekgewicht: ,1.800 kg, (ongeremd 500 kg),Financiële informatie,BTW/marge: ,BTW niet verrekenbaar voor ondernemers (margeregeling),Motorrijtuigenbelasting: ,€ 230 - € 261, per kwartaal,Aanvullende opties en accessoires,Exterieur,Metaalkleur vernis of parelmoerlak,Buitenspiegels elektrisch verstel- en verwarmbaar,Buitenspiegels in carrosseriekleur,Elektronische remkrachtverdeling,koplampreiniging,Trekhaak afneembaar,Infotainment,Navigatiesysteem en autotelefoon,Interieur,Achterbank verwarmd,Armsteun achter,Armsteun voor,Elektrische ramen voor en achter,Elektrisch rolgordijn voor achterruit,Elektrisch verstelbare bestuurdersstoel,Hoofdsteunen voor en achter,Houtafwerking interieur,Lendesteunen (verstelbaar),Stuur verstelbaar,Voorstoelen in hoogte verstelbaar,Voorstoelen verwarmd,Veiligheid,Airbag(s) hoofd voor,Alarm klasse 1(startblokkering),Alarm klasse 3,Side Impact Protection System,See more                                                                                                                                                                                                                                                                                                                                                                                                                                                                                                                                                                                                                                                                                                                                                                                                                                                                                                                                                                                                                                                                                                                                                                                                                                                                                                                                                                                                                                                                                                                                                                                                                                                                                                                                                                                                                                                                                                                                                                                                                                                                                                            1\n",
       "Name: desc, Length: 23241, dtype: int64"
      ]
     },
     "execution_count": 68,
     "metadata": {},
     "output_type": "execute_result"
    }
   ],
   "source": [
    "df[\"desc\"].value_counts()"
   ]
  },
  {
   "cell_type": "markdown",
   "metadata": {},
   "source": [
    "### Seller"
   ]
  },
  {
   "cell_type": "code",
   "execution_count": 69,
   "metadata": {},
   "outputs": [
    {
     "data": {
      "text/plain": [
       "Dealer            26318\n",
       "Private seller     2312\n",
       "Name: seller, dtype: int64"
      ]
     },
     "execution_count": 69,
     "metadata": {},
     "output_type": "execute_result"
    }
   ],
   "source": [
    "df.seller.value_counts(dropna=False)"
   ]
  },
  {
   "cell_type": "code",
   "execution_count": 70,
   "metadata": {},
   "outputs": [
    {
     "data": {
      "text/plain": [
       "0"
      ]
     },
     "execution_count": 70,
     "metadata": {},
     "output_type": "execute_result"
    }
   ],
   "source": [
    "df.seller.isna().sum()"
   ]
  },
  {
   "cell_type": "code",
   "execution_count": 71,
   "metadata": {},
   "outputs": [],
   "source": [
    "df.seller = df.seller.astype(\"string\")"
   ]
  },
  {
   "cell_type": "code",
   "execution_count": 72,
   "metadata": {},
   "outputs": [
    {
     "name": "stdout",
     "output_type": "stream",
     "text": [
      "<class 'pandas.core.series.Series'>\n",
      "Int64Index: 28630 entries, 0 to 29478\n",
      "Series name: seller\n",
      "Non-Null Count  Dtype \n",
      "--------------  ----- \n",
      "28630 non-null  string\n",
      "dtypes: string(1)\n",
      "memory usage: 447.3 KB\n"
     ]
    }
   ],
   "source": [
    "df.seller.info()"
   ]
  },
  {
   "cell_type": "markdown",
   "metadata": {},
   "source": [
    "### Seats"
   ]
  },
  {
   "cell_type": "code",
   "execution_count": 73,
   "metadata": {},
   "outputs": [
    {
     "data": {
      "text/plain": [
       "\\n, 5, \\n     18308\n",
       "\\n, 4, \\n      5390\n",
       "NaN            3125\n",
       "\\n, 2, \\n      1186\n",
       "\\n, 7, \\n       488\n",
       "\\n, 8, \\n        43\n",
       "\\n, 9, \\n        35\n",
       "\\n, 3, \\n        25\n",
       "\\n, 6, \\n        12\n",
       "\\n, 0, \\n         9\n",
       "\\n, 1, \\n         7\n",
       "\\n, 17, \\n        2\n",
       "Name: seats, dtype: int64"
      ]
     },
     "execution_count": 73,
     "metadata": {},
     "output_type": "execute_result"
    }
   ],
   "source": [
    "df.seats.value_counts(dropna=False)"
   ]
  },
  {
   "cell_type": "code",
   "execution_count": 74,
   "metadata": {},
   "outputs": [
    {
     "data": {
      "text/plain": [
       "5      18308\n",
       "4       5390\n",
       "NaN     3125\n",
       "2       1186\n",
       "7        488\n",
       "8         43\n",
       "9         35\n",
       "3         25\n",
       "6         12\n",
       "0          9\n",
       "1          7\n",
       "17         2\n",
       "Name: seats, dtype: int64"
      ]
     },
     "execution_count": 74,
     "metadata": {},
     "output_type": "execute_result"
    }
   ],
   "source": [
    "df['seats'] = df['seats'].str.strip(\"\\n, \")\n",
    "df['seats'].value_counts(dropna=False)"
   ]
  },
  {
   "cell_type": "markdown",
   "metadata": {},
   "source": [
    "### Power"
   ]
  },
  {
   "cell_type": "code",
   "execution_count": 75,
   "metadata": {},
   "outputs": [
    {
     "data": {
      "text/plain": [
       "0                        NaN\n",
       "1        \\n215 kW (292 hp)\\n\n",
       "2        \\n310 kW (421 hp)\\n\n",
       "3        \\n225 kW (306 hp)\\n\n",
       "4        \\n100 kW (136 hp)\\n\n",
       "                ...         \n",
       "29474    \\n288 kW (392 hp)\\n\n",
       "29475    \\n125 kW (170 hp)\\n\n",
       "29476     \\n84 kW (114 hp)\\n\n",
       "29477    \\n187 kW (254 hp)\\n\n",
       "29478    \\n147 kW (200 hp)\\n\n",
       "Name: power, Length: 28630, dtype: object"
      ]
     },
     "execution_count": 75,
     "metadata": {},
     "output_type": "execute_result"
    }
   ],
   "source": [
    "df.power"
   ]
  },
  {
   "cell_type": "code",
   "execution_count": 76,
   "metadata": {},
   "outputs": [
    {
     "data": {
      "text/plain": [
       "572"
      ]
     },
     "execution_count": 76,
     "metadata": {},
     "output_type": "execute_result"
    }
   ],
   "source": [
    "df.power.isna().sum() "
   ]
  },
  {
   "cell_type": "code",
   "execution_count": 77,
   "metadata": {},
   "outputs": [
    {
     "data": {
      "text/plain": [
       "572"
      ]
     },
     "execution_count": 77,
     "metadata": {},
     "output_type": "execute_result"
    }
   ],
   "source": [
    "df[\"power_kwh\"] = df[\"power\"].str.extract(r\"\\n(\\d+) \")\n",
    "df[\"power_kwh\"].isna().sum()\n",
    "# verified that the sum of missing values are the same after extraction of kwh"
   ]
  },
  {
   "cell_type": "code",
   "execution_count": 78,
   "metadata": {},
   "outputs": [],
   "source": [
    "# astype(\"Int64\")  converts string to numerical values if can't converts to \"NaN\""
   ]
  },
  {
   "cell_type": "markdown",
   "metadata": {},
   "source": [
    "### Engine Size"
   ]
  },
  {
   "cell_type": "code",
   "execution_count": 79,
   "metadata": {},
   "outputs": [
    {
     "data": {
      "text/plain": [
       "0                 NaN\n",
       "1            \\n1 cc\\n\n",
       "2        \\n1,991 cc\\n\n",
       "3        \\n1,991 cc\\n\n",
       "4        \\n2,143 cc\\n\n",
       "             ...     \n",
       "29474    \\n1,969 cc\\n\n",
       "29475    \\n2,435 cc\\n\n",
       "29476    \\n1,560 cc\\n\n",
       "29477    \\n1,969 cc\\n\n",
       "29478    \\n2,922 cc\\n\n",
       "Name: engine_size, Length: 28630, dtype: object"
      ]
     },
     "execution_count": 79,
     "metadata": {},
     "output_type": "execute_result"
    }
   ],
   "source": [
    "df.engine_size"
   ]
  },
  {
   "cell_type": "code",
   "execution_count": 80,
   "metadata": {},
   "outputs": [
    {
     "data": {
      "text/plain": [
       "1403"
      ]
     },
     "execution_count": 80,
     "metadata": {},
     "output_type": "execute_result"
    }
   ],
   "source": [
    "df.engine_size.isna().sum()"
   ]
  },
  {
   "cell_type": "code",
   "execution_count": 81,
   "metadata": {},
   "outputs": [
    {
     "data": {
      "text/html": [
       "<div>\n",
       "<style scoped>\n",
       "    .dataframe tbody tr th:only-of-type {\n",
       "        vertical-align: middle;\n",
       "    }\n",
       "\n",
       "    .dataframe tbody tr th {\n",
       "        vertical-align: top;\n",
       "    }\n",
       "\n",
       "    .dataframe thead th {\n",
       "        text-align: right;\n",
       "    }\n",
       "</style>\n",
       "<table border=\"1\" class=\"dataframe\">\n",
       "  <thead>\n",
       "    <tr style=\"text-align: right;\">\n",
       "      <th></th>\n",
       "      <th>make_model</th>\n",
       "      <th>short_description</th>\n",
       "      <th>make</th>\n",
       "      <th>model</th>\n",
       "      <th>location</th>\n",
       "      <th>price</th>\n",
       "      <th>body_type</th>\n",
       "      <th>type</th>\n",
       "      <th>doors</th>\n",
       "      <th>country_version</th>\n",
       "      <th>...</th>\n",
       "      <th>taxi_or_rental_car</th>\n",
       "      <th>availability</th>\n",
       "      <th>last_timing_belt_change</th>\n",
       "      <th>electric_range_wltp</th>\n",
       "      <th>power_consumption_wltp</th>\n",
       "      <th>battery_ownership</th>\n",
       "      <th>country</th>\n",
       "      <th>new_fuel_type</th>\n",
       "      <th>paint2</th>\n",
       "      <th>power_kwh</th>\n",
       "    </tr>\n",
       "  </thead>\n",
       "  <tbody>\n",
       "  </tbody>\n",
       "</table>\n",
       "<p>0 rows × 62 columns</p>\n",
       "</div>"
      ],
      "text/plain": [
       "Empty DataFrame\n",
       "Columns: [make_model, short_description, make, model, location, price, body_type, type, doors, country_version, offer_number, warranty, mileage, first_registration, gearbox, fuel_type, colour, paint, desc, seller, seats, power, engine_size, gears, co_emissions, manufacturer_colour, drivetrain, cylinders, fuel_consumption, comfort_convenience, entertainment_media, safety_security, extras, empty_weight, model_code, general_inspection, last_service, full_service_history, non_smoker_vehicle, emission_class, emissions_sticker, upholstery_colour, upholstery, production_date, previous_owner, other_fuel_types, power_consumption, energy_efficiency_class, co_efficiency, fuel_consumption_wltp, co_emissions_wltp, available_from, taxi_or_rental_car, availability, last_timing_belt_change, electric_range_wltp, power_consumption_wltp, battery_ownership, country, new_fuel_type, paint2, power_kwh]\n",
       "Index: []\n",
       "\n",
       "[0 rows x 62 columns]"
      ]
     },
     "execution_count": 81,
     "metadata": {},
     "output_type": "execute_result"
    }
   ],
   "source": [
    "df[df.engine_size ==\" \"]"
   ]
  },
  {
   "cell_type": "code",
   "execution_count": 82,
   "metadata": {},
   "outputs": [
    {
     "data": {
      "text/plain": [
       "1403"
      ]
     },
     "execution_count": 82,
     "metadata": {},
     "output_type": "execute_result"
    }
   ],
   "source": [
    "df[\"engine_size\"] = df[\"engine_size\"].str.replace(',', '').str.extract('(\\d+)')\n",
    "df[\"engine_size\"].isna().sum()"
   ]
  },
  {
   "cell_type": "code",
   "execution_count": 83,
   "metadata": {},
   "outputs": [],
   "source": [
    "df.engine_size = df.engine_size.astype(\"Int64\")"
   ]
  },
  {
   "cell_type": "code",
   "execution_count": 84,
   "metadata": {},
   "outputs": [
    {
     "data": {
      "text/plain": [
       "count        27227.0\n",
       "mean     1755.001983\n",
       "std      1029.859982\n",
       "min              0.0\n",
       "25%           1332.0\n",
       "50%           1598.0\n",
       "75%           1984.0\n",
       "max          99900.0\n",
       "Name: engine_size, dtype: Float64"
      ]
     },
     "execution_count": 84,
     "metadata": {},
     "output_type": "execute_result"
    }
   ],
   "source": [
    "df.engine_size.describe()"
   ]
  },
  {
   "cell_type": "code",
   "execution_count": 85,
   "metadata": {},
   "outputs": [
    {
     "name": "stdout",
     "output_type": "stream",
     "text": [
      "<class 'pandas.core.series.Series'>\n",
      "Int64Index: 28630 entries, 0 to 29478\n",
      "Series name: engine_size\n",
      "Non-Null Count  Dtype\n",
      "--------------  -----\n",
      "27227 non-null  Int64\n",
      "dtypes: Int64(1)\n",
      "memory usage: 475.3 KB\n"
     ]
    }
   ],
   "source": [
    "df.engine_size.info()"
   ]
  },
  {
   "cell_type": "code",
   "execution_count": 86,
   "metadata": {},
   "outputs": [
    {
     "data": {
      "text/plain": [
       "117"
      ]
     },
     "execution_count": 86,
     "metadata": {},
     "output_type": "execute_result"
    }
   ],
   "source": [
    "df[df.engine_size==0][\"engine_size\"].count()\n"
   ]
  },
  {
   "cell_type": "markdown",
   "metadata": {},
   "source": [
    "### Gears"
   ]
  },
  {
   "cell_type": "code",
   "execution_count": 87,
   "metadata": {},
   "outputs": [
    {
     "data": {
      "text/plain": [
       "0          NaN\n",
       "1        \\n9\\n\n",
       "2        \\n8\\n\n",
       "3        \\n7\\n\n",
       "4        \\n7\\n\n",
       "         ...  \n",
       "29474    \\n8\\n\n",
       "29475    \\n5\\n\n",
       "29476    \\n6\\n\n",
       "29477    \\n8\\n\n",
       "29478      NaN\n",
       "Name: gears, Length: 28630, dtype: object"
      ]
     },
     "execution_count": 87,
     "metadata": {},
     "output_type": "execute_result"
    }
   ],
   "source": [
    "df.gears"
   ]
  },
  {
   "cell_type": "code",
   "execution_count": 88,
   "metadata": {},
   "outputs": [
    {
     "data": {
      "text/plain": [
       "9676"
      ]
     },
     "execution_count": 88,
     "metadata": {},
     "output_type": "execute_result"
    }
   ],
   "source": [
    "df.gears.isna().sum()"
   ]
  },
  {
   "cell_type": "code",
   "execution_count": 89,
   "metadata": {},
   "outputs": [
    {
     "data": {
      "text/plain": [
       "0        NaN\n",
       "1          9\n",
       "2          8\n",
       "3          7\n",
       "4          7\n",
       "        ... \n",
       "29474      8\n",
       "29475      5\n",
       "29476      6\n",
       "29477      8\n",
       "29478    NaN\n",
       "Name: gears, Length: 28630, dtype: object"
      ]
     },
     "execution_count": 89,
     "metadata": {},
     "output_type": "execute_result"
    }
   ],
   "source": [
    "df[\"gears\"] = df[\"gears\"].str.extract('(\\d+)')\n",
    "df[\"gears\"]"
   ]
  },
  {
   "cell_type": "code",
   "execution_count": 90,
   "metadata": {},
   "outputs": [
    {
     "name": "stdout",
     "output_type": "stream",
     "text": [
      "<class 'pandas.core.series.Series'>\n",
      "Int64Index: 28630 entries, 0 to 29478\n",
      "Series name: gears\n",
      "Non-Null Count  Dtype \n",
      "--------------  ----- \n",
      "18954 non-null  object\n",
      "dtypes: object(1)\n",
      "memory usage: 447.3+ KB\n"
     ]
    }
   ],
   "source": [
    "df[\"gears\"].info()"
   ]
  },
  {
   "cell_type": "code",
   "execution_count": 91,
   "metadata": {},
   "outputs": [
    {
     "data": {
      "text/plain": [
       "NaN    9676\n",
       "6      8412\n",
       "5      5335\n",
       "7      1738\n",
       "8      1690\n",
       "1       712\n",
       "9       642\n",
       "4       256\n",
       "10      112\n",
       "0        31\n",
       "3        24\n",
       "2         2\n",
       "Name: gears, dtype: int64"
      ]
     },
     "execution_count": 91,
     "metadata": {},
     "output_type": "execute_result"
    }
   ],
   "source": [
    "df.gears.value_counts(dropna=False)"
   ]
  },
  {
   "cell_type": "code",
   "execution_count": 92,
   "metadata": {},
   "outputs": [],
   "source": [
    "df.gears = df.gears.astype(\"Int64\")"
   ]
  },
  {
   "cell_type": "code",
   "execution_count": 93,
   "metadata": {},
   "outputs": [
    {
     "name": "stdout",
     "output_type": "stream",
     "text": [
      "<class 'pandas.core.series.Series'>\n",
      "Int64Index: 28630 entries, 0 to 29478\n",
      "Series name: gears\n",
      "Non-Null Count  Dtype\n",
      "--------------  -----\n",
      "18954 non-null  Int64\n",
      "dtypes: Int64(1)\n",
      "memory usage: 475.3 KB\n"
     ]
    }
   ],
   "source": [
    "df.gears.info()"
   ]
  },
  {
   "cell_type": "markdown",
   "metadata": {},
   "source": [
    "### CO2 Emission"
   ]
  },
  {
   "cell_type": "code",
   "execution_count": 94,
   "metadata": {},
   "outputs": [
    {
     "data": {
      "text/plain": [
       "6539      88 g/km (comb.)\n",
       "5315     166 g/km (comb.)\n",
       "16851    166 g/km (comb.)\n",
       "13487    109 g/km (comb.)\n",
       "2610     103 g/km (comb.)\n",
       "22606                 NaN\n",
       "4938     127 g/km (comb.)\n",
       "26887    156 g/km (comb.)\n",
       "26827    229 g/km (comb.)\n",
       "26468                 NaN\n",
       "2033     230 g/km (comb.)\n",
       "6319       0 g/km (comb.)\n",
       "19049    109 g/km (comb.)\n",
       "21969                 NaN\n",
       "6427     123 g/km (comb.)\n",
       "4574     124 g/km (comb.)\n",
       "22316    225 g/km (comb.)\n",
       "3747                  NaN\n",
       "19594    262 g/km (comb.)\n",
       "115                   NaN\n",
       "Name: co_emissions, dtype: object"
      ]
     },
     "execution_count": 94,
     "metadata": {},
     "output_type": "execute_result"
    }
   ],
   "source": [
    "df[\"co_emissions\"].sample(20)"
   ]
  },
  {
   "cell_type": "code",
   "execution_count": 95,
   "metadata": {},
   "outputs": [
    {
     "data": {
      "text/plain": [
       "10036"
      ]
     },
     "execution_count": 95,
     "metadata": {},
     "output_type": "execute_result"
    }
   ],
   "source": [
    "df[\"co_emissions\"].isna().sum()"
   ]
  },
  {
   "cell_type": "code",
   "execution_count": 96,
   "metadata": {},
   "outputs": [
    {
     "data": {
      "text/plain": [
       "0        NaN\n",
       "1          0\n",
       "2        NaN\n",
       "3        NaN\n",
       "4        NaN\n",
       "        ... \n",
       "29474    NaN\n",
       "29475    217\n",
       "29476     99\n",
       "29477    149\n",
       "29478    251\n",
       "Name: co2_emissions, Length: 28630, dtype: object"
      ]
     },
     "execution_count": 96,
     "metadata": {},
     "output_type": "execute_result"
    }
   ],
   "source": [
    "df[\"co2_emissions\"] = df[\"co_emissions\"].str.extract(\"(\\d+)\")\n",
    "df[\"co2_emissions\"]"
   ]
  },
  {
   "cell_type": "code",
   "execution_count": 97,
   "metadata": {},
   "outputs": [
    {
     "data": {
      "text/plain": [
       "0                     NaN\n",
       "1          0 g/km (comb.)\n",
       "2                     NaN\n",
       "3                     NaN\n",
       "4                     NaN\n",
       "               ...       \n",
       "29474                 NaN\n",
       "29475    217 g/km (comb.)\n",
       "29476     99 g/km (comb.)\n",
       "29477    149 g/km (comb.)\n",
       "29478    251 g/km (comb.)\n",
       "Name: co_emissions, Length: 28630, dtype: object"
      ]
     },
     "execution_count": 97,
     "metadata": {},
     "output_type": "execute_result"
    }
   ],
   "source": [
    "df[\"co_emissions\"]"
   ]
  },
  {
   "cell_type": "code",
   "execution_count": 98,
   "metadata": {},
   "outputs": [],
   "source": [
    "df[\"co2_emissions\"] = df[\"co2_emissions\"].astype(\"Int64\")"
   ]
  },
  {
   "cell_type": "code",
   "execution_count": 99,
   "metadata": {},
   "outputs": [
    {
     "data": {
      "text/plain": [
       "10036"
      ]
     },
     "execution_count": 99,
     "metadata": {},
     "output_type": "execute_result"
    }
   ],
   "source": [
    "df[\"co2_emissions\"].isna().sum()"
   ]
  },
  {
   "cell_type": "code",
   "execution_count": 100,
   "metadata": {},
   "outputs": [
    {
     "data": {
      "text/plain": [
       "1040"
      ]
     },
     "execution_count": 100,
     "metadata": {},
     "output_type": "execute_result"
    }
   ],
   "source": [
    "df[df[\"co2_emissions\"]==0][\"co2_emissions\"].count()"
   ]
  },
  {
   "cell_type": "markdown",
   "metadata": {},
   "source": [
    "### drivetrain"
   ]
  },
  {
   "cell_type": "code",
   "execution_count": 101,
   "metadata": {},
   "outputs": [
    {
     "data": {
      "text/plain": [
       "0                  NaN\n",
       "1                  NaN\n",
       "2          \\n, 4WD, \\n\n",
       "3          \\n, 4WD, \\n\n",
       "4          \\n, 4WD, \\n\n",
       "             ...      \n",
       "29474      \\n, 4WD, \\n\n",
       "29475    \\n, Front, \\n\n",
       "29476    \\n, Front, \\n\n",
       "29477              NaN\n",
       "29478    \\n, Front, \\n\n",
       "Name: drivetrain, Length: 28630, dtype: object"
      ]
     },
     "execution_count": 101,
     "metadata": {},
     "output_type": "execute_result"
    }
   ],
   "source": [
    "df[\"drivetrain\"]"
   ]
  },
  {
   "cell_type": "code",
   "execution_count": 102,
   "metadata": {},
   "outputs": [
    {
     "data": {
      "text/plain": [
       "\\n, Front, \\n    12066\n",
       "NaN              11737\n",
       "\\n, 4WD, \\n       3252\n",
       "\\n, Rear, \\n      1575\n",
       "Name: drivetrain, dtype: int64"
      ]
     },
     "execution_count": 102,
     "metadata": {},
     "output_type": "execute_result"
    }
   ],
   "source": [
    "df[\"drivetrain\"].value_counts(dropna=False)"
   ]
  },
  {
   "cell_type": "code",
   "execution_count": 103,
   "metadata": {},
   "outputs": [
    {
     "data": {
      "text/plain": [
       "Front    12066\n",
       "NaN      11737\n",
       "4WD       3252\n",
       "Rear      1575\n",
       "Name: drivetrain, dtype: int64"
      ]
     },
     "execution_count": 103,
     "metadata": {},
     "output_type": "execute_result"
    }
   ],
   "source": [
    "df[\"drivetrain\"] = df[\"drivetrain\"].str.extract(\"(\\d?\\w+)\", expand=True)\n",
    "df[\"drivetrain\"].value_counts(dropna=False)"
   ]
  },
  {
   "cell_type": "markdown",
   "metadata": {},
   "source": [
    "### cylinders"
   ]
  },
  {
   "cell_type": "code",
   "execution_count": 104,
   "metadata": {},
   "outputs": [
    {
     "data": {
      "text/plain": [
       "0          NaN\n",
       "1          NaN\n",
       "2        \\n4\\n\n",
       "3        \\n4\\n\n",
       "4        \\n4\\n\n",
       "         ...  \n",
       "29474    \\n4\\n\n",
       "29475    \\n5\\n\n",
       "29476    \\n4\\n\n",
       "29477    \\n4\\n\n",
       "29478    \\n6\\n\n",
       "Name: cylinders, Length: 28630, dtype: object"
      ]
     },
     "execution_count": 104,
     "metadata": {},
     "output_type": "execute_result"
    }
   ],
   "source": [
    "df[\"cylinders\"]"
   ]
  },
  {
   "cell_type": "code",
   "execution_count": 105,
   "metadata": {},
   "outputs": [
    {
     "data": {
      "text/plain": [
       "\\n4\\n     13068\n",
       "NaN        9778\n",
       "\\n3\\n      3258\n",
       "\\n6\\n      1013\n",
       "\\n5\\n       799\n",
       "\\n8\\n       539\n",
       "\\n2\\n       103\n",
       "\\n0\\n        35\n",
       "\\n1\\n        21\n",
       "\\n12\\n        8\n",
       "\\n7\\n         6\n",
       "\\n26\\n        1\n",
       "\\n16\\n        1\n",
       "Name: cylinders, dtype: int64"
      ]
     },
     "execution_count": 105,
     "metadata": {},
     "output_type": "execute_result"
    }
   ],
   "source": [
    "df[\"cylinders\"].value_counts(dropna=False)"
   ]
  },
  {
   "cell_type": "code",
   "execution_count": 106,
   "metadata": {},
   "outputs": [
    {
     "data": {
      "text/plain": [
       "4      13068\n",
       "NaN     9778\n",
       "3       3258\n",
       "6       1013\n",
       "5        799\n",
       "8        539\n",
       "2        103\n",
       "0         35\n",
       "1         21\n",
       "12         8\n",
       "7          6\n",
       "26         1\n",
       "16         1\n",
       "Name: cylinders, dtype: int64"
      ]
     },
     "execution_count": 106,
     "metadata": {},
     "output_type": "execute_result"
    }
   ],
   "source": [
    "df[\"cylinders\"] = df[\"cylinders\"].str.extract(\"(\\d\\d?)\", expand=True)\n",
    "df[\"cylinders\"].value_counts(dropna=False)"
   ]
  },
  {
   "cell_type": "code",
   "execution_count": 107,
   "metadata": {},
   "outputs": [
    {
     "data": {
      "text/plain": [
       "0        NaN\n",
       "1        NaN\n",
       "2          4\n",
       "3          4\n",
       "4          4\n",
       "        ... \n",
       "29474      4\n",
       "29475      5\n",
       "29476      4\n",
       "29477      4\n",
       "29478      6\n",
       "Name: cylinders, Length: 28630, dtype: object"
      ]
     },
     "execution_count": 107,
     "metadata": {},
     "output_type": "execute_result"
    }
   ],
   "source": [
    "df[\"cylinders\"]"
   ]
  },
  {
   "cell_type": "markdown",
   "metadata": {},
   "source": [
    "### fuel_consumption"
   ]
  },
  {
   "cell_type": "code",
   "execution_count": 108,
   "metadata": {},
   "outputs": [
    {
     "data": {
      "text/plain": [
       "0                                                      NaN\n",
       "1                                                      NaN\n",
       "2        [[8.4 l/100 km (comb.)], [10.9 l/100 km (city)...\n",
       "3        [[7.3 l/100 km (comb.)], [9.3 l/100 km (city)]...\n",
       "4        [[4.9 l/100 km (comb.)], [5.7 l/100 km (city)]...\n",
       "                               ...                        \n",
       "29474                               [[2 l/100 km (comb.)]]\n",
       "29475    [[9.1 l/100 km (comb.)], [13.2 l/100 km (city)...\n",
       "29476    [[3.8 l/100 km (comb.)], [4.3 l/100 km (city)]...\n",
       "29477    [[6.5 l/100 km (comb.)], [8.6 l/100 km (city)]...\n",
       "29478    [[10.4 l/100 km (comb.)], [15.3 l/100 km (city...\n",
       "Name: fuel_consumption, Length: 28630, dtype: object"
      ]
     },
     "execution_count": 108,
     "metadata": {},
     "output_type": "execute_result"
    }
   ],
   "source": [
    "df[\"fuel_consumption\"]"
   ]
  },
  {
   "cell_type": "code",
   "execution_count": 109,
   "metadata": {},
   "outputs": [
    {
     "data": {
      "text/plain": [
       "NaN                                                                            5245\n",
       "[[0 l/100 km (comb.)]]                                                          330\n",
       "[[0 l/100 km (comb.)], [0 l/100 km (city)], [0 l/100 km (country)]]             306\n",
       "[[3.4 l/100 km (comb.)], [3.7 l/100 km (city)], [3.2 l/100 km (country)]]       170\n",
       "[[4 l/100 km (comb.)]]                                                          149\n",
       "                                                                               ... \n",
       "[[14.2 l/100 km (comb.)], [21.3 l/100 km (city)], [10 l/100 km (country)]]        1\n",
       "[[3.5 l/100 km (comb.)], [4.4 l/100 km (city)], [2.9 l/100 km (country)]]         1\n",
       "[[4.5 l/100 km (comb.)], [6.2 l/100 km (city)], [3.5 l/100 km (country)]]         1\n",
       "[[4.9 l/100 km (comb.)], [99.9 l/100 km (city)], [98 l/100 km (country)]]         1\n",
       "[[10.4 l/100 km (comb.)], [15.3 l/100 km (city)], [7.6 l/100 km (country)]]       1\n",
       "Name: fuel_consumption, Length: 3453, dtype: int64"
      ]
     },
     "execution_count": 109,
     "metadata": {},
     "output_type": "execute_result"
    }
   ],
   "source": [
    "df[\"fuel_consumption\"].value_counts(dropna=False)"
   ]
  },
  {
   "cell_type": "code",
   "execution_count": 110,
   "metadata": {},
   "outputs": [
    {
     "data": {
      "text/plain": [
       "NaN                                                                5245\n",
       "0 l/100 km (comb.)                                                  330\n",
       "0 l/100 km (comb.)0 l/100 km (city)0 l/100 km (country)             306\n",
       "3.4 l/100 km (comb.)3.7 l/100 km (city)3.2 l/100 km (country)       170\n",
       "4 l/100 km (comb.)                                                  149\n",
       "                                                                   ... \n",
       "14.2 l/100 km (comb.)21.3 l/100 km (city)10 l/100 km (country)        1\n",
       "3.5 l/100 km (comb.)4.4 l/100 km (city)2.9 l/100 km (country)         1\n",
       "4.5 l/100 km (comb.)6.2 l/100 km (city)3.5 l/100 km (country)         1\n",
       "4.9 l/100 km (comb.)99.9 l/100 km (city)98 l/100 km (country)         1\n",
       "10.4 l/100 km (comb.)15.3 l/100 km (city)7.6 l/100 km (country)       1\n",
       "Name: fuel_consumption, Length: 3453, dtype: int64"
      ]
     },
     "execution_count": 110,
     "metadata": {},
     "output_type": "execute_result"
    }
   ],
   "source": [
    "df[\"fuel_consumption\"] = df.fuel_consumption.apply(lambda x: \"\".join([item for sublist in x for item in sublist]) if isinstance(x, list) else x)\n",
    "df[\"fuel_consumption\"].value_counts(dropna=False)   #nested lists recovered"
   ]
  },
  {
   "cell_type": "code",
   "execution_count": 111,
   "metadata": {},
   "outputs": [
    {
     "data": {
      "text/plain": [
       "NaN                      5283\n",
       "5 l/100 km (comb.)        818\n",
       "4.9 l/100 km (comb.)      811\n",
       "4.5 l/100 km (comb.)      691\n",
       "5.1 l/100 km (comb.)      640\n",
       "                         ... \n",
       "16 l/100 km (comb.)         1\n",
       "6.1 kg/100 km (comb.)       1\n",
       "57 l/100 km (comb.)         1\n",
       "61 l/100 km (comb.)         1\n",
       "0.9 kg/100 km (comb.)       1\n",
       "Name: fuel_consumption_comb, Length: 148, dtype: int64"
      ]
     },
     "execution_count": 111,
     "metadata": {},
     "output_type": "execute_result"
    }
   ],
   "source": [
    "df[\"fuel_consumption_comb\"] = df[\"fuel_consumption\"].str.extract(\"(\\d\\.?\\d?.\\w\\w?/100 km \\(comb.\\))\")\n",
    "df[\"fuel_consumption_comb\"].value_counts(dropna=False)"
   ]
  },
  {
   "cell_type": "code",
   "execution_count": 112,
   "metadata": {},
   "outputs": [
    {
     "data": {
      "text/plain": [
       "NaN                     8485\n",
       "5.3 l/100 km (city)      522\n",
       "5.8 l/100 km (city)      517\n",
       "5.7 l/100 km (city)      490\n",
       "6.4 l/100 km (city)      484\n",
       "                        ... \n",
       "5.8 kg/100 km (city)       1\n",
       "8.1 kg/100 km (city)       1\n",
       "1.5 kg/100 km (city)       1\n",
       "79 l/100 km (city)         1\n",
       "8 kg/100 km (city)         1\n",
       "Name: fuel_consumption_city, Length: 155, dtype: int64"
      ]
     },
     "execution_count": 112,
     "metadata": {},
     "output_type": "execute_result"
    }
   ],
   "source": [
    "df[\"fuel_consumption_city\"] = df[\"fuel_consumption\"].str.extract(\"(\\d\\.?\\d?.\\w\\w?/100 km \\(city\\))\")\n",
    "df[\"fuel_consumption_city\"].value_counts(dropna=False)"
   ]
  },
  {
   "cell_type": "code",
   "execution_count": 113,
   "metadata": {},
   "outputs": [
    {
     "data": {
      "text/plain": [
       "NaN                        8480\n",
       "4.3 l/100 km (country)      866\n",
       "4 l/100 km (country)        804\n",
       "4.2 l/100 km (country)      748\n",
       "4.7 l/100 km (country)      728\n",
       "                           ... \n",
       "6 kg/100 km (country)         1\n",
       "49 l/100 km (country)         1\n",
       "1.5 l/100 km (country)        1\n",
       "3.4 kg/100 km (country)       1\n",
       "6.6 kg/100 km (country)       1\n",
       "Name: fuel_consumption_country, Length: 133, dtype: int64"
      ]
     },
     "execution_count": 113,
     "metadata": {},
     "output_type": "execute_result"
    }
   ],
   "source": [
    "df[\"fuel_consumption_country\"] = df[\"fuel_consumption\"].str.extract(\"(\\d\\.?\\d?.\\w\\w?/100 km \\(country\\))\")\n",
    "df[\"fuel_consumption_country\"].value_counts(dropna=False)"
   ]
  },
  {
   "cell_type": "code",
   "execution_count": 114,
   "metadata": {},
   "outputs": [
    {
     "data": {
      "text/plain": [
       "NaN                                                                                                                                                                                                                                                                                                                                                                                                            3197\n",
       "Air conditioning, Automatic climate control, Electrical side mirrors, Multi-function steering wheel, Power windows                                                                                                                                                                                                                                                                                              244\n",
       "Air conditioning, Automatic climate control, Cruise control                                                                                                                                                                                                                                                                                                                                                     171\n",
       "Air conditioning, Automatic climate control, Cruise control, Electrical side mirrors, Multi-function steering wheel, Power windows                                                                                                                                                                                                                                                                              168\n",
       "Air conditioning                                                                                                                                                                                                                                                                                                                                                                                                157\n",
       "                                                                                                                                                                                                                                                                                                                                                                                                               ... \n",
       "Armrest, Automatic climate control, 2 zones, Cruise control, Fold flat passenger seat, Hill Holder, Leather steering wheel, Light sensor, Lumbar support, Multi-function steering wheel, Navigation system, Parking assist system sensors rear, Power windows, Rain sensor, Seat heating, Split rear seats, Start-stop system                                                                                     1\n",
       "Air conditioning, Armrest, Automatic climate control, Cruise control, Electric tailgate, Electrical side mirrors, Hill Holder, Keyless central door lock, Leather steering wheel, Light sensor, Multi-function steering wheel, Navigation system, Parking assist system sensors front, Parking assist system sensors rear, Power windows, Rain sensor, Seat heating                                               1\n",
       "Armrest, Automatic climate control, 2 zones, Cruise control, Electrical side mirrors, Fold flat passenger seat, Hill Holder, Leather steering wheel, Light sensor, Lumbar support, Multi-function steering wheel, Navigation system, Parking assist system sensors front, Parking assist system sensors rear, Power windows, Rain sensor, Seat heating, Split rear seats, Start-stop system, Tinted windows       1\n",
       "Armrest, Automatic climate control, 2 zones, Cruise control, Electrical side mirrors, Hill Holder, Keyless central door lock, Leather steering wheel, Light sensor, Multi-function steering wheel, Parking assist system camera, Parking assist system sensors front, Parking assist system sensors rear, Power windows, Rain sensor, Seat heating, Split rear seats, Start-stop system, Tinted windows           1\n",
       "Air conditioning, Armrest, Cruise control, Electrical side mirrors, Leather steering wheel, Lumbar support, Multi-function steering wheel, Navigation system, Power windows, Seat heating, Tinted windows                                                                                                                                                                                                         1\n",
       "Name: comfort_convenience, Length: 14439, dtype: int64"
      ]
     },
     "execution_count": 114,
     "metadata": {},
     "output_type": "execute_result"
    }
   ],
   "source": [
    "df[\"comfort_convenience\"].value_counts(dropna=False)"
   ]
  },
  {
   "cell_type": "code",
   "execution_count": 115,
   "metadata": {},
   "outputs": [],
   "source": [
    "df[\"comfort_convenience\"] = [\",\".join(item) if type (item) ==list else item for item in df[\"comfort_convenience\"]]"
   ]
  },
  {
   "cell_type": "code",
   "execution_count": 116,
   "metadata": {},
   "outputs": [
    {
     "data": {
      "text/plain": [
       "NaN                                                                                                                                                                                                                                                                                                                                                                                                            3197\n",
       "Air conditioning, Automatic climate control, Electrical side mirrors, Multi-function steering wheel, Power windows                                                                                                                                                                                                                                                                                              244\n",
       "Air conditioning, Automatic climate control, Cruise control                                                                                                                                                                                                                                                                                                                                                     171\n",
       "Air conditioning, Automatic climate control, Cruise control, Electrical side mirrors, Multi-function steering wheel, Power windows                                                                                                                                                                                                                                                                              168\n",
       "Air conditioning                                                                                                                                                                                                                                                                                                                                                                                                157\n",
       "                                                                                                                                                                                                                                                                                                                                                                                                               ... \n",
       "Armrest, Automatic climate control, 2 zones, Cruise control, Fold flat passenger seat, Hill Holder, Leather steering wheel, Light sensor, Lumbar support, Multi-function steering wheel, Navigation system, Parking assist system sensors rear, Power windows, Rain sensor, Seat heating, Split rear seats, Start-stop system                                                                                     1\n",
       "Air conditioning, Armrest, Automatic climate control, Cruise control, Electric tailgate, Electrical side mirrors, Hill Holder, Keyless central door lock, Leather steering wheel, Light sensor, Multi-function steering wheel, Navigation system, Parking assist system sensors front, Parking assist system sensors rear, Power windows, Rain sensor, Seat heating                                               1\n",
       "Armrest, Automatic climate control, 2 zones, Cruise control, Electrical side mirrors, Fold flat passenger seat, Hill Holder, Leather steering wheel, Light sensor, Lumbar support, Multi-function steering wheel, Navigation system, Parking assist system sensors front, Parking assist system sensors rear, Power windows, Rain sensor, Seat heating, Split rear seats, Start-stop system, Tinted windows       1\n",
       "Armrest, Automatic climate control, 2 zones, Cruise control, Electrical side mirrors, Hill Holder, Keyless central door lock, Leather steering wheel, Light sensor, Multi-function steering wheel, Parking assist system camera, Parking assist system sensors front, Parking assist system sensors rear, Power windows, Rain sensor, Seat heating, Split rear seats, Start-stop system, Tinted windows           1\n",
       "Air conditioning, Armrest, Cruise control, Electrical side mirrors, Leather steering wheel, Lumbar support, Multi-function steering wheel, Navigation system, Power windows, Seat heating, Tinted windows                                                                                                                                                                                                         1\n",
       "Name: comfort_convenience, Length: 14439, dtype: int64"
      ]
     },
     "execution_count": 116,
     "metadata": {},
     "output_type": "execute_result"
    }
   ],
   "source": [
    "df[\"comfort_convenience\"].value_counts(dropna=False)"
   ]
  },
  {
   "cell_type": "code",
   "execution_count": 117,
   "metadata": {},
   "outputs": [
    {
     "data": {
      "text/plain": [
       "0                                                      NaN\n",
       "1                                                      NaN\n",
       "2                                                      NaN\n",
       "3        Air conditioning, Automatic climate control, P...\n",
       "4        Air conditioning, Electrical side mirrors, Mul...\n",
       "                               ...                        \n",
       "29474    Air conditioning, Automatic climate control, M...\n",
       "29475    Air conditioning, Armrest, Automatic climate c...\n",
       "29476    Air conditioning, Armrest, Automatic climate c...\n",
       "29477    Air conditioning, Armrest, Automatic climate c...\n",
       "29478    Air conditioning, Armrest, Cruise control, Ele...\n",
       "Name: comfort_convenience, Length: 28630, dtype: object"
      ]
     },
     "execution_count": 117,
     "metadata": {},
     "output_type": "execute_result"
    }
   ],
   "source": [
    "df[\"comfort_convenience\"]"
   ]
  },
  {
   "cell_type": "code",
   "execution_count": 118,
   "metadata": {},
   "outputs": [],
   "source": [
    "df[\"comfort_convenience\"] = df[\"comfort_convenience\"].astype(\"str\")"
   ]
  },
  {
   "cell_type": "code",
   "execution_count": 119,
   "metadata": {},
   "outputs": [],
   "source": [
    "df[\"comfort_convenience\"] = df[\"comfort_convenience\"].str.lower()"
   ]
  },
  {
   "cell_type": "code",
   "execution_count": 120,
   "metadata": {},
   "outputs": [
    {
     "data": {
      "text/plain": [
       "NaN                                                                                                                                                                        4986\n",
       "Bluetooth, USB                                                                                                                                                              753\n",
       "Bluetooth                                                                                                                                                                   665\n",
       "On-board computer                                                                                                                                                           662\n",
       "CD player, On-board computer, Radio                                                                                                                                         644\n",
       "                                                                                                                                                                           ... \n",
       "Android Auto, Apple CarPlay, Bluetooth, Digital cockpit, Digital radio, Induction charging for smartphones, On-board computer, Radio, Sound system, WLAN / WiFi hotspot       1\n",
       "Bluetooth, CD player, Digital cockpit, Digital radio, Hands-free equipment, Integrated music streaming, On-board computer, Sound system, USB, WLAN / WiFi hotspot             1\n",
       "Digital cockpit, Digital radio, On-board computer, Radio                                                                                                                      1\n",
       "Android Auto, Apple CarPlay, Digital radio, On-board computer, Radio, Sound system, USB, WLAN / WiFi hotspot                                                                  1\n",
       "Hands-free equipment, Integrated music streaming, On-board computer, Radio, USB                                                                                               1\n",
       "Name: entertainment_media, Length: 1945, dtype: int64"
      ]
     },
     "execution_count": 120,
     "metadata": {},
     "output_type": "execute_result"
    }
   ],
   "source": [
    "df[\"entertainment_media\"].value_counts(dropna=False)"
   ]
  },
  {
   "cell_type": "code",
   "execution_count": 121,
   "metadata": {},
   "outputs": [],
   "source": [
    "df[\"entertainment_media\"] = [\",\".join(item) if type (item) ==list else item for item in df[\"entertainment_media\"]]"
   ]
  },
  {
   "cell_type": "code",
   "execution_count": 122,
   "metadata": {},
   "outputs": [],
   "source": [
    "df[\"entertainment_media\"] = df[\"entertainment_media\"].astype(\"str\")\n",
    "df[\"entertainment_media\"] = df[\"entertainment_media\"].str.lower()"
   ]
  },
  {
   "cell_type": "code",
   "execution_count": 123,
   "metadata": {},
   "outputs": [
    {
     "data": {
      "text/plain": [
       "NaN                                                                                                                                                                                                                                                                                                                                                                                                                                                                                                                          3215\n",
       "Isofix                                                                                                                                                                                                                                                                                                                                                                                                                                                                                                                        380\n",
       "ABS, Central door lock, Driver-side airbag, Electronic stability control, Immobilizer, Isofix, Passenger-side airbag, Power steering, Side airbag                                                                                                                                                                                                                                                                                                                                                                             328\n",
       "ABS, Central door lock, Driver-side airbag, Immobilizer, Isofix, Passenger-side airbag, Power steering, Side airbag, Traction control                                                                                                                                                                                                                                                                                                                                                                                         125\n",
       "ABS, Central door lock, Driver-side airbag, Electronic stability control, Fog lights, Isofix, Power steering, Side airbag                                                                                                                                                                                                                                                                                                                                                                                                     121\n",
       "                                                                                                                                                                                                                                                                                                                                                                                                                                                                                                                             ... \n",
       "Daytime running lights, Emergency brake assistant, Fog lights, Isofix, LED Daytime Running Lights, Lane departure warning system, Power steering, Tire pressure monitoring system                                                                                                                                                                                                                                                                                                                                               1\n",
       "ABS, Adaptive Cruise Control, Central door lock, Daytime running lights, Driver drowsiness detection, Driver-side airbag, Electronic stability control, Emergency brake assistant, Emergency system, Fog lights, Full-LED headlights, Glare-free high beam headlights, Immobilizer, Isofix, LED Headlights, Lane departure warning system, Passenger-side airbag, Power steering, Side airbag, Tire pressure monitoring system, Traction control                                                                                1\n",
       "ABS, Driver-side airbag, Electronic stability control, Emergency brake assistant, Immobilizer, LED Daytime Running Lights, Passenger-side airbag, Side airbag, Tire pressure monitoring system, Traction control                                                                                                                                                                                                                                                                                                                1\n",
       "ABS, Blind spot monitor, Central door lock, Daytime running lights, Distance warning system, Driver drowsiness detection, Driver-side airbag, Electronic stability control, Emergency system, Fog lights, Full-LED headlights, Head airbag, High beam assist, Immobilizer, Isofix, LED Daytime Running Lights, LED Headlights, Lane departure warning system, Passenger-side airbag, Power steering, Side airbag, Speed limit control system, Tire pressure monitoring system, Traction control, Traffic sign recognition       1\n",
       "ABS, Alarm system, Central door lock, Central door lock with remote control, Driver-side airbag, Electronic stability control, Fog lights, Head airbag, Immobilizer, Power steering, Side airbag, Traction control                                                                                                                                                                                                                                                                                                              1\n",
       "Name: safety_security, Length: 12550, dtype: int64"
      ]
     },
     "execution_count": 123,
     "metadata": {},
     "output_type": "execute_result"
    }
   ],
   "source": [
    "df[\"safety_security\"].value_counts(dropna=False)"
   ]
  },
  {
   "cell_type": "code",
   "execution_count": 124,
   "metadata": {},
   "outputs": [],
   "source": [
    "df[\"safety_security\"] = [\",\".join(item) if type (item) ==list else item for item in df[\"safety_security\"]]"
   ]
  },
  {
   "cell_type": "code",
   "execution_count": 125,
   "metadata": {},
   "outputs": [],
   "source": [
    "df[\"safety_security\"] = df[\"safety_security\"].astype(\"str\")\n",
    "df[\"safety_security\"] = df[\"safety_security\"].str.lower()"
   ]
  },
  {
   "cell_type": "code",
   "execution_count": 126,
   "metadata": {},
   "outputs": [
    {
     "data": {
      "text/plain": [
       "NaN                                                                                                                                                                                                                                                                 5150\n",
       "Alloy wheels                                                                                                                                                                                                                                                        3408\n",
       "Alloy wheels, Roof rack                                                                                                                                                                                                                                              380\n",
       "Alloy wheels, Sport seats                                                                                                                                                                                                                                            372\n",
       "Alloy wheels, Touch screen                                                                                                                                                                                                                                           231\n",
       "                                                                                                                                                                                                                                                                    ... \n",
       "Alloy wheels (18\"), Spoiler, Summer tyres, Trailer hitch                                                                                                                                                                                                               1\n",
       "All season tyres, Alloy wheels, Automatically dimming interior mirror, Catalytic Converter, Headlight washer system, Ski bag, Sport seats, Trailer hitch, Winter tyres                                                                                                 1\n",
       "Alloy wheels, Automatically dimming interior mirror, Headlight washer system, Sport package, Sport seats, Summer tyres                                                                                                                                                 1\n",
       "Alloy wheels (19\"), Ambient lighting, Automatically dimming interior mirror, Catalytic Converter, E10-enabled, Emergency tyre repair kit, Headlight washer system, Spoiler, Sport package, Sport seats, Sport suspension, Summer tyres, Tuned car, Voice Control       1\n",
       "Alloy wheels, Automatically dimming interior mirror, Ski bag, Trailer hitch                                                                                                                                                                                            1\n",
       "Name: extras, Length: 9361, dtype: int64"
      ]
     },
     "execution_count": 126,
     "metadata": {},
     "output_type": "execute_result"
    }
   ],
   "source": [
    "df[\"extras\"].value_counts(dropna=False)"
   ]
  },
  {
   "cell_type": "code",
   "execution_count": 127,
   "metadata": {},
   "outputs": [],
   "source": [
    "df[\"extras\"] = [\",\".join(item) if type (item) ==list else item for item in df[\"extras\"]]\n",
    "df[\"extras\"] = df[\"extras\"].astype(\"str\")\n",
    "df[\"extras\"] = df[\"extras\"].str.lower()"
   ]
  },
  {
   "cell_type": "markdown",
   "metadata": {},
   "source": [
    "### Empty Weight"
   ]
  },
  {
   "cell_type": "code",
   "execution_count": 128,
   "metadata": {},
   "outputs": [
    {
     "data": {
      "text/plain": [
       "None    10872\n",
       "1395      233\n",
       "1055      224\n",
       "1423      216\n",
       "1165      200\n",
       "        ...  \n",
       "1877        1\n",
       "1011        1\n",
       "1069        1\n",
       "983         1\n",
       "1391        1\n",
       "Name: empty_weight, Length: 1219, dtype: int64"
      ]
     },
     "execution_count": 128,
     "metadata": {},
     "output_type": "execute_result"
    }
   ],
   "source": [
    "\n",
    "df[\"empty_weight\"] = df[\"empty_weight\"].apply(lambda x: re.sub(r'\\D', '', str(x)) if pd.notnull(x) else None)\n",
    "df[\"empty_weight\"].value_counts(dropna=False)"
   ]
  },
  {
   "cell_type": "code",
   "execution_count": 129,
   "metadata": {},
   "outputs": [
    {
     "name": "stdout",
     "output_type": "stream",
     "text": [
      "<class 'pandas.core.series.Series'>\n",
      "Int64Index: 28630 entries, 0 to 29478\n",
      "Series name: empty_weight\n",
      "Non-Null Count  Dtype \n",
      "--------------  ----- \n",
      "17758 non-null  object\n",
      "dtypes: object(1)\n",
      "memory usage: 447.3+ KB\n"
     ]
    }
   ],
   "source": [
    "df[\"empty_weight\"].info()"
   ]
  },
  {
   "cell_type": "markdown",
   "metadata": {},
   "source": [
    "### Model Code"
   ]
  },
  {
   "cell_type": "code",
   "execution_count": 130,
   "metadata": {},
   "outputs": [
    {
     "data": {
      "text/plain": [
       "NaN                 20263\n",
       "\\n, 8212/AFJ, \\n       75\n",
       "\\n, 1727/AAM, \\n       64\n",
       "\\n, 1349/AGI, \\n       61\n",
       "\\n, 1889/ABU, \\n       55\n",
       "                    ...  \n",
       "\\n, 7593/ANL, \\n        1\n",
       "\\n, 1727/ABC, \\n        1\n",
       "\\n, 4136/AEC, \\n        1\n",
       "\\n, 4136/668, \\n        1\n",
       "\\n, 9101/449, \\n        1\n",
       "Name: model_code, Length: 2187, dtype: int64"
      ]
     },
     "execution_count": 130,
     "metadata": {},
     "output_type": "execute_result"
    }
   ],
   "source": [
    "\n",
    "df[\"model_code\"].value_counts(dropna= False) # too many missing values for recreating meaningful pattern "
   ]
  },
  {
   "cell_type": "markdown",
   "metadata": {},
   "source": [
    "### General Inspection"
   ]
  },
  {
   "cell_type": "code",
   "execution_count": 131,
   "metadata": {},
   "outputs": [
    {
     "data": {
      "text/plain": [
       "NaT           16376\n",
       "2022-06-01     5925\n",
       "2023-05-01      286\n",
       "2023-08-01      280\n",
       "2023-03-01      268\n",
       "              ...  \n",
       "2017-07-01        1\n",
       "2013-08-01        1\n",
       "2020-08-01        1\n",
       "2018-08-01        1\n",
       "2021-03-01        1\n",
       "Name: general_inspection, Length: 91, dtype: int64"
      ]
     },
     "execution_count": 131,
     "metadata": {},
     "output_type": "execute_result"
    }
   ],
   "source": [
    "#pd.to_datetime(df[df[\"general_inspection\"] != \"New\"])\n",
    "\n",
    "df[\"general_inspection\"] = [datetime(2022, 6, 1) if value == \"New\" else str(value) for value in df[\"general_inspection\"]]\n",
    "df[\"general_inspection\"] = pd.to_datetime(df[\"general_inspection\"], errors=\"coerce\")\n",
    "df[\"general_inspection\"].value_counts(dropna=False)"
   ]
  },
  {
   "cell_type": "code",
   "execution_count": 132,
   "metadata": {},
   "outputs": [
    {
     "data": {
      "text/plain": [
       "array([                          'NaT', '2022-06-01T00:00:00.000000000',\n",
       "       '2024-01-01T00:00:00.000000000', '2022-09-01T00:00:00.000000000',\n",
       "       '2024-03-01T00:00:00.000000000', '2023-04-01T00:00:00.000000000',\n",
       "       '2024-08-01T00:00:00.000000000', '2024-07-01T00:00:00.000000000',\n",
       "       '2024-09-01T00:00:00.000000000', '2024-06-01T00:00:00.000000000',\n",
       "       '2026-02-01T00:00:00.000000000', '2023-05-01T00:00:00.000000000',\n",
       "       '2023-01-01T00:00:00.000000000', '2023-03-01T00:00:00.000000000',\n",
       "       '2026-05-01T00:00:00.000000000', '2023-08-01T00:00:00.000000000',\n",
       "       '2024-04-01T00:00:00.000000000', '2025-01-01T00:00:00.000000000',\n",
       "       '2023-07-01T00:00:00.000000000', '2023-06-01T00:00:00.000000000',\n",
       "       '2022-12-01T00:00:00.000000000', '2022-11-01T00:00:00.000000000',\n",
       "       '2023-02-01T00:00:00.000000000', '2023-09-01T00:00:00.000000000',\n",
       "       '2023-11-01T00:00:00.000000000', '2024-05-01T00:00:00.000000000',\n",
       "       '2023-12-01T00:00:00.000000000', '2023-10-01T00:00:00.000000000',\n",
       "       '2022-04-01T00:00:00.000000000', '2022-01-01T00:00:00.000000000',\n",
       "       '2025-08-01T00:00:00.000000000', '2025-05-01T00:00:00.000000000',\n",
       "       '2022-05-01T00:00:00.000000000', '2024-02-01T00:00:00.000000000',\n",
       "       '2022-10-01T00:00:00.000000000', '2025-04-01T00:00:00.000000000',\n",
       "       '2025-03-01T00:00:00.000000000', '2025-09-01T00:00:00.000000000',\n",
       "       '2020-09-01T00:00:00.000000000', '2022-08-01T00:00:00.000000000',\n",
       "       '2020-06-01T00:00:00.000000000', '2021-08-01T00:00:00.000000000',\n",
       "       '2025-07-01T00:00:00.000000000', '2024-10-01T00:00:00.000000000',\n",
       "       '2022-02-01T00:00:00.000000000', '2024-12-01T00:00:00.000000000',\n",
       "       '2022-07-01T00:00:00.000000000', '2025-06-01T00:00:00.000000000',\n",
       "       '2024-11-01T00:00:00.000000000', '2025-02-01T00:00:00.000000000',\n",
       "       '2021-07-01T00:00:00.000000000', '2020-07-01T00:00:00.000000000',\n",
       "       '2018-08-01T00:00:00.000000000', '2021-09-01T00:00:00.000000000',\n",
       "       '2021-10-01T00:00:00.000000000', '2022-03-01T00:00:00.000000000',\n",
       "       '2021-12-01T00:00:00.000000000', '2020-08-01T00:00:00.000000000',\n",
       "       '2021-05-01T00:00:00.000000000', '2025-10-01T00:00:00.000000000',\n",
       "       '2013-08-01T00:00:00.000000000', '2021-01-01T00:00:00.000000000',\n",
       "       '2021-11-01T00:00:00.000000000', '2021-06-01T00:00:00.000000000',\n",
       "       '2026-04-01T00:00:00.000000000', '2017-09-01T00:00:00.000000000',\n",
       "       '2017-07-01T00:00:00.000000000', '2026-06-01T00:00:00.000000000',\n",
       "       '2025-12-01T00:00:00.000000000', '2026-09-01T00:00:00.000000000',\n",
       "       '2018-01-01T00:00:00.000000000', '2019-11-01T00:00:00.000000000',\n",
       "       '2026-03-01T00:00:00.000000000', '2026-07-01T00:00:00.000000000',\n",
       "       '2026-08-01T00:00:00.000000000', '2019-08-01T00:00:00.000000000',\n",
       "       '2020-11-01T00:00:00.000000000', '2020-05-01T00:00:00.000000000',\n",
       "       '2019-07-01T00:00:00.000000000', '2017-12-01T00:00:00.000000000',\n",
       "       '2018-05-01T00:00:00.000000000', '2027-02-01T00:00:00.000000000',\n",
       "       '2020-12-01T00:00:00.000000000', '2026-01-01T00:00:00.000000000',\n",
       "       '2019-10-01T00:00:00.000000000', '2020-04-01T00:00:00.000000000',\n",
       "       '2020-01-01T00:00:00.000000000', '2019-12-01T00:00:00.000000000',\n",
       "       '2021-02-01T00:00:00.000000000', '2020-10-01T00:00:00.000000000',\n",
       "       '2021-03-01T00:00:00.000000000'], dtype='datetime64[ns]')"
      ]
     },
     "execution_count": 132,
     "metadata": {},
     "output_type": "execute_result"
    }
   ],
   "source": [
    "df[\"general_inspection\"].unique()"
   ]
  },
  {
   "cell_type": "markdown",
   "metadata": {},
   "source": [
    "### Last Service"
   ]
  },
  {
   "cell_type": "code",
   "execution_count": 133,
   "metadata": {},
   "outputs": [
    {
     "data": {
      "text/plain": [
       "NaN        26627\n",
       "09/2022      220\n",
       "08/2022      196\n",
       "06/2022      164\n",
       "07/2022      155\n",
       "           ...  \n",
       "02/2018        1\n",
       "02/2011        1\n",
       "10/2013        1\n",
       "08/2017        1\n",
       "08/2019        1\n",
       "Name: last_service, Length: 62, dtype: int64"
      ]
     },
     "execution_count": 133,
     "metadata": {},
     "output_type": "execute_result"
    }
   ],
   "source": [
    "\n",
    "df[\"last_service\"].value_counts(dropna= False) # risky"
   ]
  },
  {
   "cell_type": "code",
   "execution_count": 134,
   "metadata": {},
   "outputs": [],
   "source": [
    "df[\"last_service\"] = pd.to_datetime(df[\"last_service\"], format = \"%m/%Y\", errors = \"coerce\")\n"
   ]
  },
  {
   "cell_type": "code",
   "execution_count": 135,
   "metadata": {},
   "outputs": [
    {
     "data": {
      "text/plain": [
       "NaT           26627\n",
       "2022-09-01      220\n",
       "2022-08-01      196\n",
       "2022-06-01      164\n",
       "2022-07-01      155\n",
       "              ...  \n",
       "2018-02-01        1\n",
       "2011-02-01        1\n",
       "2013-10-01        1\n",
       "2017-08-01        1\n",
       "2019-08-01        1\n",
       "Name: last_service, Length: 62, dtype: int64"
      ]
     },
     "execution_count": 135,
     "metadata": {},
     "output_type": "execute_result"
    }
   ],
   "source": [
    "df[\"last_service\"].value_counts(dropna=False)"
   ]
  },
  {
   "cell_type": "markdown",
   "metadata": {},
   "source": [
    "### Full Service History"
   ]
  },
  {
   "cell_type": "code",
   "execution_count": 136,
   "metadata": {},
   "outputs": [
    {
     "data": {
      "text/plain": [
       "NaN    16065\n",
       "Yes    12565\n",
       "Name: full_service_history, dtype: int64"
      ]
     },
     "execution_count": 136,
     "metadata": {},
     "output_type": "execute_result"
    }
   ],
   "source": [
    "\n",
    "df[\"full_service_history\"].value_counts(dropna = False)"
   ]
  },
  {
   "cell_type": "markdown",
   "metadata": {},
   "source": [
    "### Non Smoker Vehicle"
   ]
  },
  {
   "cell_type": "code",
   "execution_count": 137,
   "metadata": {},
   "outputs": [
    {
     "data": {
      "text/plain": [
       "NaN    17036\n",
       "Yes    11594\n",
       "Name: non_smoker_vehicle, dtype: int64"
      ]
     },
     "execution_count": 137,
     "metadata": {},
     "output_type": "execute_result"
    }
   ],
   "source": [
    "df[\"non_smoker_vehicle\"].value_counts(dropna=False)"
   ]
  },
  {
   "cell_type": "markdown",
   "metadata": {},
   "source": [
    "### Emission Class"
   ]
  },
  {
   "cell_type": "code",
   "execution_count": 138,
   "metadata": {},
   "outputs": [
    {
     "data": {
      "text/plain": [
       "NaN             10771\n",
       "Euro 6           6418\n",
       "Euro 6d-TEMP     3399\n",
       "Euro 6d          2858\n",
       "Euro 5           2389\n",
       "Euro 4           1743\n",
       "Euro 3            523\n",
       "Euro 2            217\n",
       "Euro 1            172\n",
       "Euro 6c           140\n",
       "Name: emission_class, dtype: int64"
      ]
     },
     "execution_count": 138,
     "metadata": {},
     "output_type": "execute_result"
    }
   ],
   "source": [
    "\n",
    "df[\"emission_class\"].value_counts(dropna = False)"
   ]
  },
  {
   "cell_type": "code",
   "execution_count": 139,
   "metadata": {},
   "outputs": [],
   "source": [
    "df[\"emission_class\"] = [\"Euro 6\" if pd.notna(val) and \"Euro 6\" in val else val for val in df[\"emission_class\"]] # neat"
   ]
  },
  {
   "cell_type": "code",
   "execution_count": 140,
   "metadata": {},
   "outputs": [
    {
     "data": {
      "text/plain": [
       "Euro 6    12815\n",
       "NaN       10771\n",
       "Euro 5     2389\n",
       "Euro 4     1743\n",
       "Euro 3      523\n",
       "Euro 2      217\n",
       "Euro 1      172\n",
       "Name: emission_class, dtype: int64"
      ]
     },
     "execution_count": 140,
     "metadata": {},
     "output_type": "execute_result"
    }
   ],
   "source": [
    "df[\"emission_class\"].value_counts(dropna = False)"
   ]
  },
  {
   "cell_type": "markdown",
   "metadata": {},
   "source": [
    "### Emission Sticker"
   ]
  },
  {
   "cell_type": "code",
   "execution_count": 141,
   "metadata": {},
   "outputs": [
    {
     "data": {
      "text/plain": [
       "NaN               19216\n",
       "4 (Green)          9230\n",
       "1 (No sticker)      176\n",
       "3 (Yellow)            6\n",
       "2 (Red)               2\n",
       "Name: emissions_sticker, dtype: int64"
      ]
     },
     "execution_count": 141,
     "metadata": {},
     "output_type": "execute_result"
    }
   ],
   "source": [
    "\n",
    "df[\"emissions_sticker\"].value_counts(dropna = False)"
   ]
  },
  {
   "cell_type": "markdown",
   "metadata": {},
   "source": [
    "### Upholstery Colour"
   ]
  },
  {
   "cell_type": "code",
   "execution_count": 142,
   "metadata": {},
   "outputs": [],
   "source": [
    "#would not significantly affect the price"
   ]
  },
  {
   "cell_type": "code",
   "execution_count": 143,
   "metadata": {},
   "outputs": [],
   "source": [
    "df.drop('upholstery_colour', axis=1, inplace = True)"
   ]
  },
  {
   "cell_type": "markdown",
   "metadata": {},
   "source": [
    "### Upholstery"
   ]
  },
  {
   "cell_type": "code",
   "execution_count": 144,
   "metadata": {},
   "outputs": [
    {
     "data": {
      "text/plain": [
       "NaN             10020\n",
       "Cloth            8736\n",
       "Full leather     5439\n",
       "Part leather     2835\n",
       "alcantara         764\n",
       "Other             628\n",
       "Velour            208\n",
       "Name: upholstery, dtype: int64"
      ]
     },
     "execution_count": 144,
     "metadata": {},
     "output_type": "execute_result"
    }
   ],
   "source": [
    "\n",
    "df[\"upholstery\"].value_counts(dropna = False) # can have a small but significant effect on the price"
   ]
  },
  {
   "cell_type": "markdown",
   "metadata": {},
   "source": [
    "### Production Date"
   ]
  },
  {
   "cell_type": "code",
   "execution_count": 145,
   "metadata": {},
   "outputs": [
    {
     "data": {
      "text/plain": [
       "NaN       22722\n",
       "2019.0     1179\n",
       "2021.0      980\n",
       "2022.0      894\n",
       "2020.0      763\n",
       "2018.0      762\n",
       "2017.0      391\n",
       "2016.0      239\n",
       "2015.0      118\n",
       "2014.0       90\n",
       "2013.0       76\n",
       "2010.0       53\n",
       "2012.0       43\n",
       "2011.0       43\n",
       "2008.0       34\n",
       "2009.0       26\n",
       "2007.0       20\n",
       "2006.0       17\n",
       "2002.0       15\n",
       "2004.0       13\n",
       "2003.0       13\n",
       "1967.0       12\n",
       "2001.0       12\n",
       "1966.0       11\n",
       "1999.0        9\n",
       "2005.0        9\n",
       "1965.0        9\n",
       "1970.0        9\n",
       "1997.0        8\n",
       "1994.0        8\n",
       "1968.0        7\n",
       "2000.0        7\n",
       "1998.0        5\n",
       "1990.0        3\n",
       "1973.0        3\n",
       "1987.0        3\n",
       "1993.0        3\n",
       "1991.0        3\n",
       "1996.0        3\n",
       "1995.0        2\n",
       "1969.0        2\n",
       "1978.0        2\n",
       "1982.0        2\n",
       "1961.0        1\n",
       "1954.0        1\n",
       "1988.0        1\n",
       "1962.0        1\n",
       "1981.0        1\n",
       "1985.0        1\n",
       "1976.0        1\n",
       "Name: production_date, dtype: int64"
      ]
     },
     "execution_count": 145,
     "metadata": {},
     "output_type": "execute_result"
    }
   ],
   "source": [
    "\n",
    "df[\"production_date\"].value_counts(dropna=False)"
   ]
  },
  {
   "cell_type": "code",
   "execution_count": 146,
   "metadata": {},
   "outputs": [],
   "source": [
    "df[\"production_date\"] = pd.to_datetime(df[\"production_date\"], format = \"%Y\", errors = \"coerce\")"
   ]
  },
  {
   "cell_type": "code",
   "execution_count": 147,
   "metadata": {},
   "outputs": [
    {
     "data": {
      "text/plain": [
       "NaT           22722\n",
       "2019-01-01     1179\n",
       "2021-01-01      980\n",
       "2022-01-01      894\n",
       "2020-01-01      763\n",
       "2018-01-01      762\n",
       "2017-01-01      391\n",
       "2016-01-01      239\n",
       "2015-01-01      118\n",
       "2014-01-01       90\n",
       "2013-01-01       76\n",
       "2010-01-01       53\n",
       "2012-01-01       43\n",
       "2011-01-01       43\n",
       "2008-01-01       34\n",
       "2009-01-01       26\n",
       "2007-01-01       20\n",
       "2006-01-01       17\n",
       "2002-01-01       15\n",
       "2004-01-01       13\n",
       "2003-01-01       13\n",
       "1967-01-01       12\n",
       "2001-01-01       12\n",
       "1966-01-01       11\n",
       "1999-01-01        9\n",
       "2005-01-01        9\n",
       "1965-01-01        9\n",
       "1970-01-01        9\n",
       "1997-01-01        8\n",
       "1994-01-01        8\n",
       "1968-01-01        7\n",
       "2000-01-01        7\n",
       "1998-01-01        5\n",
       "1990-01-01        3\n",
       "1973-01-01        3\n",
       "1987-01-01        3\n",
       "1993-01-01        3\n",
       "1991-01-01        3\n",
       "1996-01-01        3\n",
       "1995-01-01        2\n",
       "1969-01-01        2\n",
       "1978-01-01        2\n",
       "1982-01-01        2\n",
       "1961-01-01        1\n",
       "1954-01-01        1\n",
       "1988-01-01        1\n",
       "1962-01-01        1\n",
       "1981-01-01        1\n",
       "1985-01-01        1\n",
       "1976-01-01        1\n",
       "Name: production_date, dtype: int64"
      ]
     },
     "execution_count": 147,
     "metadata": {},
     "output_type": "execute_result"
    }
   ],
   "source": [
    "df[\"production_date\"].value_counts(dropna=False)"
   ]
  },
  {
   "cell_type": "code",
   "execution_count": 148,
   "metadata": {},
   "outputs": [
    {
     "data": {
      "text/plain": [
       "array([                          'NaT', '2019-01-01T00:00:00.000000000',\n",
       "       '2021-01-01T00:00:00.000000000', '2018-01-01T00:00:00.000000000',\n",
       "       '2014-01-01T00:00:00.000000000', '2011-01-01T00:00:00.000000000',\n",
       "       '2020-01-01T00:00:00.000000000', '2022-01-01T00:00:00.000000000',\n",
       "       '2017-01-01T00:00:00.000000000', '2016-01-01T00:00:00.000000000',\n",
       "       '2013-01-01T00:00:00.000000000', '2008-01-01T00:00:00.000000000',\n",
       "       '2002-01-01T00:00:00.000000000', '1991-01-01T00:00:00.000000000',\n",
       "       '2010-01-01T00:00:00.000000000', '2006-01-01T00:00:00.000000000',\n",
       "       '2012-01-01T00:00:00.000000000', '1999-01-01T00:00:00.000000000',\n",
       "       '2015-01-01T00:00:00.000000000', '1997-01-01T00:00:00.000000000',\n",
       "       '2004-01-01T00:00:00.000000000', '1996-01-01T00:00:00.000000000',\n",
       "       '1962-01-01T00:00:00.000000000', '2005-01-01T00:00:00.000000000',\n",
       "       '2003-01-01T00:00:00.000000000', '2007-01-01T00:00:00.000000000',\n",
       "       '1993-01-01T00:00:00.000000000', '1994-01-01T00:00:00.000000000',\n",
       "       '2009-01-01T00:00:00.000000000', '2001-01-01T00:00:00.000000000',\n",
       "       '1985-01-01T00:00:00.000000000', '1970-01-01T00:00:00.000000000',\n",
       "       '1990-01-01T00:00:00.000000000', '1998-01-01T00:00:00.000000000',\n",
       "       '1981-01-01T00:00:00.000000000', '1995-01-01T00:00:00.000000000',\n",
       "       '1973-01-01T00:00:00.000000000', '2000-01-01T00:00:00.000000000',\n",
       "       '1978-01-01T00:00:00.000000000', '1987-01-01T00:00:00.000000000',\n",
       "       '1982-01-01T00:00:00.000000000', '1988-01-01T00:00:00.000000000',\n",
       "       '1966-01-01T00:00:00.000000000', '1965-01-01T00:00:00.000000000',\n",
       "       '1967-01-01T00:00:00.000000000', '1961-01-01T00:00:00.000000000',\n",
       "       '1968-01-01T00:00:00.000000000', '1954-01-01T00:00:00.000000000',\n",
       "       '1969-01-01T00:00:00.000000000', '1976-01-01T00:00:00.000000000'],\n",
       "      dtype='datetime64[ns]')"
      ]
     },
     "execution_count": 148,
     "metadata": {},
     "output_type": "execute_result"
    }
   ],
   "source": [
    "df[\"production_date\"].unique()"
   ]
  },
  {
   "cell_type": "markdown",
   "metadata": {},
   "source": [
    "### Previous Owner"
   ]
  },
  {
   "cell_type": "code",
   "execution_count": 149,
   "metadata": {},
   "outputs": [
    {
     "data": {
      "text/plain": [
       "NaN                           14615\n",
       "[[50 km, 06/2022], 1]            64\n",
       "[[10 km, 08/2022], 1]            59\n",
       "[[10 km, 07/2022], 1]            45\n",
       "[[10 km, 09/2022], 1]            38\n",
       "                              ...  \n",
       "[[358,000 km, 10/2010], 2]        1\n",
       "[[165,400 km, 09/2010], 1]        1\n",
       "[[65,000 km, 10/2006], 1]         1\n",
       "[[71,000 km, 04/2013], 1]         1\n",
       "[[230,047 km, 07/2002], 5]        1\n",
       "Name: previous_owner, Length: 11734, dtype: int64"
      ]
     },
     "execution_count": 149,
     "metadata": {},
     "output_type": "execute_result"
    }
   ],
   "source": [
    "df[\"previous_owner\"].value_counts(dropna=False)"
   ]
  },
  {
   "cell_type": "code",
   "execution_count": 150,
   "metadata": {},
   "outputs": [
    {
     "data": {
      "text/plain": [
       "NaN    14615\n",
       "1       9746\n",
       "2       3221\n",
       "3        699\n",
       "4        184\n",
       "5         69\n",
       "6         37\n",
       "7         22\n",
       "8         16\n",
       "9         14\n",
       "12         3\n",
       "10         2\n",
       "14         1\n",
       "13         1\n",
       "Name: previous_owner, dtype: int64"
      ]
     },
     "execution_count": 150,
     "metadata": {},
     "output_type": "execute_result"
    }
   ],
   "source": [
    "df[\"previous_owner\"] = [item[-1] if isinstance(item, list) else item for item in df[\"previous_owner\"]]\n",
    "df[\"previous_owner\"].value_counts(dropna=False)"
   ]
  },
  {
   "cell_type": "markdown",
   "metadata": {},
   "source": [
    "### Other Fuel Types"
   ]
  },
  {
   "cell_type": "code",
   "execution_count": 151,
   "metadata": {},
   "outputs": [
    {
     "data": {
      "text/plain": [
       "NaN             26317\n",
       "Electricity      2301\n",
       "Hydogen            11\n",
       "Super E10 95        1\n",
       "Name: other_fuel_types, dtype: int64"
      ]
     },
     "execution_count": 151,
     "metadata": {},
     "output_type": "execute_result"
    }
   ],
   "source": [
    "df[\"other_fuel_types\"].value_counts(dropna=False)"
   ]
  },
  {
   "cell_type": "code",
   "execution_count": 152,
   "metadata": {},
   "outputs": [
    {
     "data": {
      "text/plain": [
       "NaN                        28115\n",
       "0 kWh/100 km (comb.)         101\n",
       "15.2 kWh/100 km (comb.)       30\n",
       "15.7 kWh/100 km (comb.)       19\n",
       "17.7 kWh/100 km (comb.)       17\n",
       "                           ...  \n",
       "18 kWh/100 km (comb.)          1\n",
       "25.3 kWh/100 km (comb.)        1\n",
       "12.7 kWh/100 km (comb.)        1\n",
       "22.7 kWh/100 km (comb.)        1\n",
       "20.4 kWh/100 km (comb.)        1\n",
       "Name: power_consumption, Length: 105, dtype: int64"
      ]
     },
     "execution_count": 152,
     "metadata": {},
     "output_type": "execute_result"
    }
   ],
   "source": [
    "#power consumption\n",
    "df[\"power_consumption\"].value_counts(dropna=False)"
   ]
  },
  {
   "cell_type": "code",
   "execution_count": 153,
   "metadata": {},
   "outputs": [],
   "source": [
    "df[\"power_consumption\"] = df[\"power_consumption\"].str.extract(r\"(\\d+\\.?\\d*)\")"
   ]
  },
  {
   "cell_type": "code",
   "execution_count": 154,
   "metadata": {},
   "outputs": [
    {
     "data": {
      "text/plain": [
       "NaN     28115\n",
       "0         101\n",
       "15.2       30\n",
       "15.7       19\n",
       "17.7       17\n",
       "        ...  \n",
       "18          1\n",
       "25.3        1\n",
       "12.7        1\n",
       "22.7        1\n",
       "20.4        1\n",
       "Name: power_consumption, Length: 105, dtype: int64"
      ]
     },
     "execution_count": 154,
     "metadata": {},
     "output_type": "execute_result"
    }
   ],
   "source": [
    "df[\"power_consumption\"].value_counts(dropna=False)"
   ]
  },
  {
   "cell_type": "code",
   "execution_count": 155,
   "metadata": {},
   "outputs": [
    {
     "data": {
      "text/plain": [
       "NaN     20826\n",
       "B        2090\n",
       "A        1687\n",
       "C        1133\n",
       "A+       1089\n",
       "D         636\n",
       "A+++      375\n",
       "G         309\n",
       "E         271\n",
       "F         147\n",
       "A++        67\n",
       "Name: energy_efficiency_class, dtype: int64"
      ]
     },
     "execution_count": 155,
     "metadata": {},
     "output_type": "execute_result"
    }
   ],
   "source": [
    "#Energy efficiency class - electric vehicles\n",
    "df[\"energy_efficiency_class\"].value_counts(dropna=False)"
   ]
  },
  {
   "cell_type": "code",
   "execution_count": 156,
   "metadata": {},
   "outputs": [
    {
     "data": {
      "text/plain": [
       "NaN                                                                                           20826\n",
       "Calculated on basis of measured CO₂-emissions taking into account the mass of the vehicle.     7804\n",
       "Name: co_efficiency, dtype: int64"
      ]
     },
     "execution_count": 156,
     "metadata": {},
     "output_type": "execute_result"
    }
   ],
   "source": [
    "#c02 efficiency - dropping\n",
    "df[\"co_efficiency\"].value_counts(dropna=False)"
   ]
  },
  {
   "cell_type": "code",
   "execution_count": 157,
   "metadata": {},
   "outputs": [
    {
     "data": {
      "text/plain": [
       "NaN              28530\n",
       "5.5 l/100 km         9\n",
       "5 l/100 km           8\n",
       "5.4 l/100 km         5\n",
       "6.8 l/100 km         5\n",
       "6.5 l/100 km         4\n",
       "5.7 l/100 km         4\n",
       "7.3 l/100 km         4\n",
       "5.2 l/100 km         3\n",
       "4.9 l/100 km         3\n",
       "6.6 l/100 km         3\n",
       "6.7 l/100 km         3\n",
       "5.9 l/100 km         2\n",
       "6.1 l/100 km         2\n",
       "5.6 l/100 km         2\n",
       "4.7 l/100 km         2\n",
       "4.4 l/100 km         2\n",
       "5.8 l/100 km         2\n",
       "6.3 l/100 km         2\n",
       "6.2 l/100 km         2\n",
       "8.4 l/100 km         2\n",
       "16 l/100 km          2\n",
       "7.6 l/100 km         2\n",
       "12.6 l/100 km        2\n",
       "9.3 l/100 km         2\n",
       "1.5 l/100 km         1\n",
       "12 l/100 km          1\n",
       "5.3 l/100 km         1\n",
       "8 l/100 km           1\n",
       "8.2 l/100 km         1\n",
       "4.8 l/100 km         1\n",
       "4.1 l/100 km         1\n",
       "4.2 l/100 km         1\n",
       "4.3 l/100 km         1\n",
       "1.1 l/100 km         1\n",
       "3.9 l/100 km         1\n",
       "6.4 l/100 km         1\n",
       "8.6 l/100 km         1\n",
       "10.3 l/100 km        1\n",
       "12.2 l/100 km        1\n",
       "12.3 l/100 km        1\n",
       "8.3 l/100 km         1\n",
       "7.2 l/100 km         1\n",
       "9.6 l/100 km         1\n",
       "9.1 l/100 km         1\n",
       "12.9 l/100 km        1\n",
       "10.4 l/100 km        1\n",
       "7.8 l/100 km         1\n",
       "Name: fuel_consumption_wltp, dtype: int64"
      ]
     },
     "execution_count": 157,
     "metadata": {},
     "output_type": "execute_result"
    }
   ],
   "source": [
    "df[\"fuel_consumption_wltp\"].value_counts(dropna=False) # higly unlikely to be used[only for electric vehicle classification]"
   ]
  },
  {
   "cell_type": "code",
   "execution_count": 158,
   "metadata": {},
   "outputs": [],
   "source": [
    "df[\"fuel_consumption_wltp\"] = df[\"fuel_consumption_wltp\"].str.extract(r\"(\\d+\\.?\\d*)\")"
   ]
  },
  {
   "cell_type": "code",
   "execution_count": 159,
   "metadata": {},
   "outputs": [
    {
     "data": {
      "text/plain": [
       "NaN     28530\n",
       "5.5         9\n",
       "5           8\n",
       "5.4         5\n",
       "6.8         5\n",
       "6.5         4\n",
       "5.7         4\n",
       "7.3         4\n",
       "5.2         3\n",
       "4.9         3\n",
       "6.6         3\n",
       "6.7         3\n",
       "5.9         2\n",
       "6.1         2\n",
       "5.6         2\n",
       "4.7         2\n",
       "4.4         2\n",
       "5.8         2\n",
       "6.3         2\n",
       "6.2         2\n",
       "8.4         2\n",
       "16          2\n",
       "7.6         2\n",
       "12.6        2\n",
       "9.3         2\n",
       "1.5         1\n",
       "12          1\n",
       "5.3         1\n",
       "8           1\n",
       "8.2         1\n",
       "4.8         1\n",
       "4.1         1\n",
       "4.2         1\n",
       "4.3         1\n",
       "1.1         1\n",
       "3.9         1\n",
       "6.4         1\n",
       "8.6         1\n",
       "10.3        1\n",
       "12.2        1\n",
       "12.3        1\n",
       "8.3         1\n",
       "7.2         1\n",
       "9.6         1\n",
       "9.1         1\n",
       "12.9        1\n",
       "10.4        1\n",
       "7.8         1\n",
       "Name: fuel_consumption_wltp, dtype: int64"
      ]
     },
     "execution_count": 159,
     "metadata": {},
     "output_type": "execute_result"
    }
   ],
   "source": [
    "df[\"fuel_consumption_wltp\"].value_counts(dropna=False) "
   ]
  },
  {
   "cell_type": "code",
   "execution_count": 160,
   "metadata": {},
   "outputs": [
    {
     "data": {
      "text/plain": [
       "NaN                 28514\n",
       "0 g/km (comb.)         14\n",
       "125 g/km (comb.)        8\n",
       "130 g/km (comb.)        4\n",
       "129 g/km (comb.)        4\n",
       "                    ...  \n",
       "211 g/km (comb.)        1\n",
       "218 g/km (comb.)        1\n",
       "159 g/km (comb.)        1\n",
       "115 g/km (comb.)        1\n",
       "97 g/km (comb.)         1\n",
       "Name: co_emissions_wltp, Length: 69, dtype: int64"
      ]
     },
     "execution_count": 160,
     "metadata": {},
     "output_type": "execute_result"
    }
   ],
   "source": [
    "#CO₂-emissions (WLTP)\n",
    "df[\"co_emissions_wltp\"].value_counts(dropna=False) # highly unlikely"
   ]
  },
  {
   "cell_type": "code",
   "execution_count": 161,
   "metadata": {},
   "outputs": [
    {
     "data": {
      "text/plain": [
       "NaN    28208\n",
       "Yes      422\n",
       "Name: taxi_or_rental_car, dtype: int64"
      ]
     },
     "execution_count": 161,
     "metadata": {},
     "output_type": "execute_result"
    }
   ],
   "source": [
    "#taxi or rental \n",
    "df[\"taxi_or_rental_car\"].value_counts(dropna=False)"
   ]
  },
  {
   "cell_type": "code",
   "execution_count": 162,
   "metadata": {},
   "outputs": [
    {
     "data": {
      "text/plain": [
       "NaN                                28329\n",
       "\\n, in 1 day after order, \\n          64\n",
       "\\n, in 5 days after order, \\n         56\n",
       "\\n, in 7 days after order, \\n         31\n",
       "\\n, in 3 days after order, \\n         25\n",
       "\\n, in 14 days after order, \\n        22\n",
       "\\n, in 60 days after order, \\n        21\n",
       "\\n, in 42 days after order, \\n        15\n",
       "\\n, in 180 days after order, \\n       12\n",
       "\\n, in 90 days after order, \\n        10\n",
       "\\n, in 120 days after order, \\n       10\n",
       "\\n, in 6 days after order, \\n          9\n",
       "\\n, in 270 days after order, \\n        8\n",
       "\\n, in 28 days after order, \\n         5\n",
       "\\n, in 2 days after order, \\n          5\n",
       "\\n, in 4 days after order, \\n          4\n",
       "\\n, in 21 days after order, \\n         2\n",
       "\\n, in 360 days after order, \\n        1\n",
       "\\n, in 150 days after order, \\n        1\n",
       "Name: availability, dtype: int64"
      ]
     },
     "execution_count": 162,
     "metadata": {},
     "output_type": "execute_result"
    }
   ],
   "source": [
    "#Availability (days after order)\n",
    "df[\"availability\"].value_counts(dropna=False)"
   ]
  },
  {
   "cell_type": "code",
   "execution_count": 163,
   "metadata": {},
   "outputs": [],
   "source": [
    "df[\"availability\"] = df[\"availability\"].apply(lambda item : item[0] if type(item)==list else item)\n",
    "df[\"availability\"] = df[\"availability\"].str.extract(r\"(\\d+)\")\n"
   ]
  },
  {
   "cell_type": "code",
   "execution_count": 164,
   "metadata": {},
   "outputs": [
    {
     "data": {
      "text/plain": [
       "NaN    28329\n",
       "1         64\n",
       "5         56\n",
       "7         31\n",
       "3         25\n",
       "14        22\n",
       "60        21\n",
       "42        15\n",
       "180       12\n",
       "90        10\n",
       "120       10\n",
       "6          9\n",
       "270        8\n",
       "28         5\n",
       "2          5\n",
       "4          4\n",
       "21         2\n",
       "360        1\n",
       "150        1\n",
       "Name: availability, dtype: int64"
      ]
     },
     "execution_count": 164,
     "metadata": {},
     "output_type": "execute_result"
    }
   ],
   "source": [
    "df[\"availability\"].value_counts(dropna=False)"
   ]
  },
  {
   "cell_type": "code",
   "execution_count": 165,
   "metadata": {},
   "outputs": [
    {
     "data": {
      "text/plain": [
       "NaN        28058\n",
       "04/2022       27\n",
       "05/2021       26\n",
       "08/2022       25\n",
       "07/2022       24\n",
       "           ...  \n",
       "07/2018        1\n",
       "10/2015        1\n",
       "12/2019        1\n",
       "11/2018        1\n",
       "07/2016        1\n",
       "Name: last_timing_belt_change, Length: 87, dtype: int64"
      ]
     },
     "execution_count": 165,
     "metadata": {},
     "output_type": "execute_result"
    }
   ],
   "source": [
    "#last time belt changed\n",
    "df[\"last_timing_belt_change\"].value_counts(dropna=False)"
   ]
  },
  {
   "cell_type": "code",
   "execution_count": 166,
   "metadata": {},
   "outputs": [
    {
     "data": {
      "text/plain": [
       "NaT           28058\n",
       "2022-04-01       27\n",
       "2021-05-01       26\n",
       "2022-08-01       25\n",
       "2022-07-01       24\n",
       "              ...  \n",
       "2018-07-01        1\n",
       "2015-10-01        1\n",
       "2019-12-01        1\n",
       "2018-11-01        1\n",
       "2016-07-01        1\n",
       "Name: last_timing_belt_change, Length: 87, dtype: int64"
      ]
     },
     "execution_count": 166,
     "metadata": {},
     "output_type": "execute_result"
    }
   ],
   "source": [
    "df[\"last_timing_belt_change\"] = pd.to_datetime(df[\"last_timing_belt_change\"], format = \"%m/%Y\", errors = \"coerce\")\n",
    "df[\"last_timing_belt_change\"].value_counts(dropna=False)"
   ]
  },
  {
   "cell_type": "code",
   "execution_count": 167,
   "metadata": {},
   "outputs": [
    {
     "data": {
      "text/plain": [
       "NaN                           28614\n",
       "426 km492 km (within city)        2\n",
       "389 km                            2\n",
       "402 km484 km (within city)        1\n",
       "50 km50 km (within city)          1\n",
       "614 km681 km (within city)        1\n",
       "573 km573 km (within city)        1\n",
       "691 km691 km (within city)        1\n",
       "351 km351 km (within city)        1\n",
       "48 km48 km (within city)          1\n",
       "450 km450 km (within city)        1\n",
       "402 km402 km (within city)        1\n",
       "540 km540 km (within city)        1\n",
       "360 km                            1\n",
       "384 km                            1\n",
       "Name: electric_range_wltp, dtype: int64"
      ]
     },
     "execution_count": 167,
     "metadata": {},
     "output_type": "execute_result"
    }
   ],
   "source": [
    "\n",
    "df[\"electric_range_wltp\"].value_counts(dropna = False) # useless"
   ]
  },
  {
   "cell_type": "code",
   "execution_count": 168,
   "metadata": {},
   "outputs": [
    {
     "data": {
      "text/plain": [
       "NaN                28614\n",
       "21.9 kWh/100 km        2\n",
       "17.2 kWh/100 km        2\n",
       "20.6 kWh/100 km        2\n",
       "18.9 kWh/100 km        1\n",
       "19.2 kWh/100 km        1\n",
       "18.4 kWh/100 km        1\n",
       "19.3 kWh/100 km        1\n",
       "15.9 kWh/100 km        1\n",
       "148 kWh/100 km         1\n",
       "16.9 kWh/100 km        1\n",
       "18.7 kWh/100 km        1\n",
       "18.1 kWh/100 km        1\n",
       "18.6 kWh/100 km        1\n",
       "Name: power_consumption_wltp, dtype: int64"
      ]
     },
     "execution_count": 168,
     "metadata": {},
     "output_type": "execute_result"
    }
   ],
   "source": [
    "#power consumption electric\n",
    "df[\"power_consumption_wltp\"].value_counts(dropna=False) # useless unless deep electricity clustering"
   ]
  },
  {
   "cell_type": "code",
   "execution_count": 169,
   "metadata": {},
   "outputs": [
    {
     "data": {
      "text/plain": [
       "NaN         28623\n",
       "Included        7\n",
       "Name: battery_ownership, dtype: int64"
      ]
     },
     "execution_count": 169,
     "metadata": {},
     "output_type": "execute_result"
    }
   ],
   "source": [
    "#battery ownership\n",
    "df[\"battery_ownership\"].value_counts(dropna=False)"
   ]
  },
  {
   "cell_type": "code",
   "execution_count": 170,
   "metadata": {},
   "outputs": [
    {
     "data": {
      "text/html": [
       "<div>\n",
       "<style scoped>\n",
       "    .dataframe tbody tr th:only-of-type {\n",
       "        vertical-align: middle;\n",
       "    }\n",
       "\n",
       "    .dataframe tbody tr th {\n",
       "        vertical-align: top;\n",
       "    }\n",
       "\n",
       "    .dataframe thead th {\n",
       "        text-align: right;\n",
       "    }\n",
       "</style>\n",
       "<table border=\"1\" class=\"dataframe\">\n",
       "  <thead>\n",
       "    <tr style=\"text-align: right;\">\n",
       "      <th></th>\n",
       "      <th>make_model</th>\n",
       "      <th>short_description</th>\n",
       "      <th>make</th>\n",
       "      <th>model</th>\n",
       "      <th>location</th>\n",
       "      <th>price</th>\n",
       "      <th>body_type</th>\n",
       "      <th>type</th>\n",
       "      <th>doors</th>\n",
       "      <th>country_version</th>\n",
       "      <th>...</th>\n",
       "      <th>power_consumption_wltp</th>\n",
       "      <th>battery_ownership</th>\n",
       "      <th>country</th>\n",
       "      <th>new_fuel_type</th>\n",
       "      <th>paint2</th>\n",
       "      <th>power_kwh</th>\n",
       "      <th>co2_emissions</th>\n",
       "      <th>fuel_consumption_comb</th>\n",
       "      <th>fuel_consumption_city</th>\n",
       "      <th>fuel_consumption_country</th>\n",
       "    </tr>\n",
       "  </thead>\n",
       "  <tbody>\n",
       "    <tr>\n",
       "      <th>7515</th>\n",
       "      <td>Peugeot 107</td>\n",
       "      <td>1.0 Active 68PK | DJ27749 | Airco | AUX | LED Dag</td>\n",
       "      <td>Peugeot</td>\n",
       "      <td>\\n, 107 ,\\n</td>\n",
       "      <td>Koop jouw auto online 24/7,  1101 BA AMSTERDAM...</td>\n",
       "      <td>6350</td>\n",
       "      <td>Compact</td>\n",
       "      <td>Used</td>\n",
       "      <td>5</td>\n",
       "      <td>NaN</td>\n",
       "      <td>...</td>\n",
       "      <td>NaN</td>\n",
       "      <td>NaN</td>\n",
       "      <td>NL</td>\n",
       "      <td>Benzine</td>\n",
       "      <td>1</td>\n",
       "      <td>50</td>\n",
       "      <td>104</td>\n",
       "      <td>4.5 l/100 km (comb.)</td>\n",
       "      <td>5.4 l/100 km (city)</td>\n",
       "      <td>4 l/100 km (country)</td>\n",
       "    </tr>\n",
       "    <tr>\n",
       "      <th>26667</th>\n",
       "      <td>Volvo C70</td>\n",
       "      <td>Convertible 2.0D Intro Edition Org NL/NAP</td>\n",
       "      <td>Volvo</td>\n",
       "      <td>\\n, C70 ,\\n</td>\n",
       "      <td>Rijksstraatweg  63,  7391 MH TWELLO, NL</td>\n",
       "      <td>8995</td>\n",
       "      <td>Convertible</td>\n",
       "      <td>Used</td>\n",
       "      <td>2</td>\n",
       "      <td>NaN</td>\n",
       "      <td>...</td>\n",
       "      <td>NaN</td>\n",
       "      <td>NaN</td>\n",
       "      <td>NL</td>\n",
       "      <td>Diesel</td>\n",
       "      <td>1</td>\n",
       "      <td>100</td>\n",
       "      <td>167</td>\n",
       "      <td>6.3 l/100 km (comb.)</td>\n",
       "      <td>8.1 l/100 km (city)</td>\n",
       "      <td>5.3 l/100 km (country)</td>\n",
       "    </tr>\n",
       "    <tr>\n",
       "      <th>566</th>\n",
       "      <td>Mercedes-Benz C 63 AMG</td>\n",
       "      <td>S *Multibeam*Head-Up*Info-High-End*Nigh Klima</td>\n",
       "      <td>Mercedes-Benz</td>\n",
       "      <td>\\n, C 63 AMG ,\\n</td>\n",
       "      <td>Rodezstr. 2,  96052 Bamberg, DE</td>\n",
       "      <td>107289</td>\n",
       "      <td>Convertible</td>\n",
       "      <td>Demonstration</td>\n",
       "      <td>2</td>\n",
       "      <td>\\n, Germany, \\n</td>\n",
       "      <td>...</td>\n",
       "      <td>NaN</td>\n",
       "      <td>NaN</td>\n",
       "      <td>DE</td>\n",
       "      <td>Benzine</td>\n",
       "      <td>1</td>\n",
       "      <td>375</td>\n",
       "      <td>255</td>\n",
       "      <td>1.1 l/100 km (comb.)</td>\n",
       "      <td>5.6 l/100 km (city)</td>\n",
       "      <td>8.5 l/100 km (country)</td>\n",
       "    </tr>\n",
       "    <tr>\n",
       "      <th>5470</th>\n",
       "      <td>Renault Kangoo</td>\n",
       "      <td>1.5 dCi 110CV S-S 4p. Express Ice</td>\n",
       "      <td>Renault</td>\n",
       "      <td>\\n, Kangoo ,\\n</td>\n",
       "      <td>Via Partanna Mondello 52,  90100 Palermo - Pa, IT</td>\n",
       "      <td>11900</td>\n",
       "      <td>Convertible</td>\n",
       "      <td>Used</td>\n",
       "      <td>NaN</td>\n",
       "      <td>\\n, Italy, \\n</td>\n",
       "      <td>...</td>\n",
       "      <td>NaN</td>\n",
       "      <td>NaN</td>\n",
       "      <td>IT</td>\n",
       "      <td>Diesel</td>\n",
       "      <td>0</td>\n",
       "      <td>81</td>\n",
       "      <td>&lt;NA&gt;</td>\n",
       "      <td>0 l/100 km (comb.)</td>\n",
       "      <td>NaN</td>\n",
       "      <td>NaN</td>\n",
       "    </tr>\n",
       "    <tr>\n",
       "      <th>18490</th>\n",
       "      <td>Toyota Corolla</td>\n",
       "      <td>Touring Sports 1.8 Hybrid Business Automaat I ...</td>\n",
       "      <td>Toyota</td>\n",
       "      <td>\\n, Corolla ,\\n</td>\n",
       "      <td>Brinkhorst 7,  7207 BG ZUTPHEN, NL</td>\n",
       "      <td>28900</td>\n",
       "      <td>Station wagon</td>\n",
       "      <td>Used</td>\n",
       "      <td>5</td>\n",
       "      <td>NaN</td>\n",
       "      <td>...</td>\n",
       "      <td>NaN</td>\n",
       "      <td>NaN</td>\n",
       "      <td>NL</td>\n",
       "      <td>NaN</td>\n",
       "      <td>1</td>\n",
       "      <td>NaN</td>\n",
       "      <td>78</td>\n",
       "      <td>4.5 l/100 km (comb.)</td>\n",
       "      <td>NaN</td>\n",
       "      <td>NaN</td>\n",
       "    </tr>\n",
       "    <tr>\n",
       "      <th>15872</th>\n",
       "      <td>Dacia Sandero</td>\n",
       "      <td>Stepway TCe 90 AT LED AAC Temp PDC Apple</td>\n",
       "      <td>Dacia</td>\n",
       "      <td>\\n, Sandero ,\\n</td>\n",
       "      <td>Am Busch 10,  39118 Magdeburg, DE</td>\n",
       "      <td>18990</td>\n",
       "      <td>Off-Road/Pick-up</td>\n",
       "      <td>Pre-registered</td>\n",
       "      <td>5</td>\n",
       "      <td>\\n, Austria, \\n</td>\n",
       "      <td>...</td>\n",
       "      <td>NaN</td>\n",
       "      <td>NaN</td>\n",
       "      <td>DE</td>\n",
       "      <td>Benzine</td>\n",
       "      <td>1</td>\n",
       "      <td>67</td>\n",
       "      <td>119</td>\n",
       "      <td>5.2 l/100 km (comb.)</td>\n",
       "      <td>6 l/100 km (city)</td>\n",
       "      <td>4.8 l/100 km (country)</td>\n",
       "    </tr>\n",
       "    <tr>\n",
       "      <th>747</th>\n",
       "      <td>Mercedes-Benz E 53 AMG</td>\n",
       "      <td>4MATIC+ Cabriolet V-Max 360°*Sitzklima</td>\n",
       "      <td>Mercedes-Benz</td>\n",
       "      <td>\\n, E 53 AMG ,\\n</td>\n",
       "      <td>Siemensstraße 49,  07546 Gera, DE</td>\n",
       "      <td>102990</td>\n",
       "      <td>Convertible</td>\n",
       "      <td>Demonstration</td>\n",
       "      <td>2</td>\n",
       "      <td>NaN</td>\n",
       "      <td>...</td>\n",
       "      <td>NaN</td>\n",
       "      <td>NaN</td>\n",
       "      <td>DE</td>\n",
       "      <td>Benzine</td>\n",
       "      <td>1</td>\n",
       "      <td>320</td>\n",
       "      <td>&lt;NA&gt;</td>\n",
       "      <td>NaN</td>\n",
       "      <td>NaN</td>\n",
       "      <td>NaN</td>\n",
       "    </tr>\n",
       "    <tr>\n",
       "      <th>24848</th>\n",
       "      <td>Hyundai KONA</td>\n",
       "      <td>EV Style</td>\n",
       "      <td>Hyundai</td>\n",
       "      <td>\\n, KONA ,\\n</td>\n",
       "      <td>Orensteinstr. 2,  56626 Andernach, DE</td>\n",
       "      <td>38990</td>\n",
       "      <td>Off-Road/Pick-up</td>\n",
       "      <td>Used</td>\n",
       "      <td>5</td>\n",
       "      <td>\\n, Germany, \\n</td>\n",
       "      <td>...</td>\n",
       "      <td>NaN</td>\n",
       "      <td>NaN</td>\n",
       "      <td>DE</td>\n",
       "      <td>NaN</td>\n",
       "      <td>1</td>\n",
       "      <td>150</td>\n",
       "      <td>&lt;NA&gt;</td>\n",
       "      <td>NaN</td>\n",
       "      <td>NaN</td>\n",
       "      <td>NaN</td>\n",
       "    </tr>\n",
       "    <tr>\n",
       "      <th>15416</th>\n",
       "      <td>Dacia Sandero</td>\n",
       "      <td>Essential TCe 100 ECO-G KLIMA BT</td>\n",
       "      <td>Dacia</td>\n",
       "      <td>\\n, Sandero ,\\n</td>\n",
       "      <td>Ruhrtalstr. 46,  45239 Essen, DE</td>\n",
       "      <td>13760</td>\n",
       "      <td>Compact</td>\n",
       "      <td>Pre-registered</td>\n",
       "      <td>5</td>\n",
       "      <td>\\n, Germany, \\n</td>\n",
       "      <td>...</td>\n",
       "      <td>NaN</td>\n",
       "      <td>NaN</td>\n",
       "      <td>DE</td>\n",
       "      <td>LPG/CNG</td>\n",
       "      <td>1</td>\n",
       "      <td>74</td>\n",
       "      <td>117</td>\n",
       "      <td>5.1 l/100 km (comb.)</td>\n",
       "      <td>6.5 l/100 km (city)</td>\n",
       "      <td>4.4 l/100 km (country)</td>\n",
       "    </tr>\n",
       "    <tr>\n",
       "      <th>25889</th>\n",
       "      <td>Volvo V40</td>\n",
       "      <td>D3 R-Design Kinetic 150</td>\n",
       "      <td>Volvo</td>\n",
       "      <td>\\n, V40 ,\\n</td>\n",
       "      <td>CARRETERA FUENCARRAL A HORTALEZA 89 D,  28050 ...</td>\n",
       "      <td>14399</td>\n",
       "      <td>Compact</td>\n",
       "      <td>Used</td>\n",
       "      <td>5</td>\n",
       "      <td>\\n, Spain, \\n</td>\n",
       "      <td>...</td>\n",
       "      <td>NaN</td>\n",
       "      <td>NaN</td>\n",
       "      <td>ES</td>\n",
       "      <td>Diesel</td>\n",
       "      <td>0</td>\n",
       "      <td>110</td>\n",
       "      <td>&lt;NA&gt;</td>\n",
       "      <td>4.3 l/100 km (comb.)</td>\n",
       "      <td>5.3 l/100 km (city)</td>\n",
       "      <td>3.8 l/100 km (country)</td>\n",
       "    </tr>\n",
       "    <tr>\n",
       "      <th>12133</th>\n",
       "      <td>SEAT Ibiza</td>\n",
       "      <td>1.4-16V Signo</td>\n",
       "      <td>SEAT</td>\n",
       "      <td>\\n, Ibiza ,\\n</td>\n",
       "      <td>6942GA Didam, NL</td>\n",
       "      <td>4000</td>\n",
       "      <td>Compact</td>\n",
       "      <td>Used</td>\n",
       "      <td>5</td>\n",
       "      <td>NaN</td>\n",
       "      <td>...</td>\n",
       "      <td>NaN</td>\n",
       "      <td>NaN</td>\n",
       "      <td>NL</td>\n",
       "      <td>Benzine</td>\n",
       "      <td>1</td>\n",
       "      <td>55</td>\n",
       "      <td>156</td>\n",
       "      <td>6.5 l/100 km (comb.)</td>\n",
       "      <td>8.9 l/100 km (city)</td>\n",
       "      <td>5.3 l/100 km (country)</td>\n",
       "    </tr>\n",
       "    <tr>\n",
       "      <th>1890</th>\n",
       "      <td>Mercedes-Benz CLA 180</td>\n",
       "      <td>Shooting Brake</td>\n",
       "      <td>Mercedes-Benz</td>\n",
       "      <td>\\n, CLA 180 ,\\n</td>\n",
       "      <td>Voogdijstraat 25,  3500 Hasselt, BE</td>\n",
       "      <td>28999</td>\n",
       "      <td>Station wagon</td>\n",
       "      <td>Used</td>\n",
       "      <td>5</td>\n",
       "      <td>NaN</td>\n",
       "      <td>...</td>\n",
       "      <td>NaN</td>\n",
       "      <td>NaN</td>\n",
       "      <td>BE</td>\n",
       "      <td>Benzine</td>\n",
       "      <td>0</td>\n",
       "      <td>90</td>\n",
       "      <td>144</td>\n",
       "      <td>6.3 l/100 km (comb.)</td>\n",
       "      <td>7.7 l/100 km (city)</td>\n",
       "      <td>5.5 l/100 km (country)</td>\n",
       "    </tr>\n",
       "    <tr>\n",
       "      <th>6050</th>\n",
       "      <td>Renault Kadjar</td>\n",
       "      <td>BUSINESS Edition ENERGY dCi 110 EDC Start &amp; St...</td>\n",
       "      <td>Renault</td>\n",
       "      <td>\\n, Kadjar ,\\n</td>\n",
       "      <td>Lindenstraße 54,  15517 Fürstenwalde/Spree, DE</td>\n",
       "      <td>17490</td>\n",
       "      <td>Off-Road/Pick-up</td>\n",
       "      <td>Used</td>\n",
       "      <td>5</td>\n",
       "      <td>\\n, Germany, \\n</td>\n",
       "      <td>...</td>\n",
       "      <td>NaN</td>\n",
       "      <td>NaN</td>\n",
       "      <td>DE</td>\n",
       "      <td>Diesel</td>\n",
       "      <td>1</td>\n",
       "      <td>81</td>\n",
       "      <td>129</td>\n",
       "      <td>3.9 l/100 km (comb.)</td>\n",
       "      <td>4 l/100 km (city)</td>\n",
       "      <td>3.9 l/100 km (country)</td>\n",
       "    </tr>\n",
       "    <tr>\n",
       "      <th>5920</th>\n",
       "      <td>Renault Megane</td>\n",
       "      <td>Megane Coupe 1.9 dci Gt Line</td>\n",
       "      <td>Renault</td>\n",
       "      <td>\\n, Megane ,\\n</td>\n",
       "      <td>09121 cagliari, IT</td>\n",
       "      <td>5500</td>\n",
       "      <td>Coupe</td>\n",
       "      <td>Used</td>\n",
       "      <td>3</td>\n",
       "      <td>NaN</td>\n",
       "      <td>...</td>\n",
       "      <td>NaN</td>\n",
       "      <td>NaN</td>\n",
       "      <td>IT</td>\n",
       "      <td>Diesel</td>\n",
       "      <td>0</td>\n",
       "      <td>96</td>\n",
       "      <td>114</td>\n",
       "      <td>5.1 l/100 km (comb.)</td>\n",
       "      <td>6.2 l/100 km (city)</td>\n",
       "      <td>4.5 l/100 km (country)</td>\n",
       "    </tr>\n",
       "    <tr>\n",
       "      <th>26822</th>\n",
       "      <td>Volvo C70</td>\n",
       "      <td>Convertible 2.5 T5 Summum Automaat</td>\n",
       "      <td>Volvo</td>\n",
       "      <td>\\n, C70 ,\\n</td>\n",
       "      <td>Cornelis de Vriesweg 6a,  1746 CL DIRKSHORN, NL</td>\n",
       "      <td>16450</td>\n",
       "      <td>Convertible</td>\n",
       "      <td>Used</td>\n",
       "      <td>2</td>\n",
       "      <td>NaN</td>\n",
       "      <td>...</td>\n",
       "      <td>NaN</td>\n",
       "      <td>NaN</td>\n",
       "      <td>NL</td>\n",
       "      <td>Benzine</td>\n",
       "      <td>1</td>\n",
       "      <td>162</td>\n",
       "      <td>234</td>\n",
       "      <td>9.8 l/100 km (comb.)</td>\n",
       "      <td>4.7 l/100 km (city)</td>\n",
       "      <td>7 l/100 km (country)</td>\n",
       "    </tr>\n",
       "  </tbody>\n",
       "</table>\n",
       "<p>15 rows × 65 columns</p>\n",
       "</div>"
      ],
      "text/plain": [
       "                   make_model  \\\n",
       "7515              Peugeot 107   \n",
       "26667               Volvo C70   \n",
       "566    Mercedes-Benz C 63 AMG   \n",
       "5470           Renault Kangoo   \n",
       "18490          Toyota Corolla   \n",
       "15872           Dacia Sandero   \n",
       "747    Mercedes-Benz E 53 AMG   \n",
       "24848            Hyundai KONA   \n",
       "15416           Dacia Sandero   \n",
       "25889               Volvo V40   \n",
       "12133              SEAT Ibiza   \n",
       "1890    Mercedes-Benz CLA 180   \n",
       "6050           Renault Kadjar   \n",
       "5920           Renault Megane   \n",
       "26822               Volvo C70   \n",
       "\n",
       "                                       short_description           make  \\\n",
       "7515   1.0 Active 68PK | DJ27749 | Airco | AUX | LED Dag        Peugeot   \n",
       "26667          Convertible 2.0D Intro Edition Org NL/NAP          Volvo   \n",
       "566        S *Multibeam*Head-Up*Info-High-End*Nigh Klima  Mercedes-Benz   \n",
       "5470                   1.5 dCi 110CV S-S 4p. Express Ice        Renault   \n",
       "18490  Touring Sports 1.8 Hybrid Business Automaat I ...         Toyota   \n",
       "15872           Stepway TCe 90 AT LED AAC Temp PDC Apple          Dacia   \n",
       "747               4MATIC+ Cabriolet V-Max 360°*Sitzklima  Mercedes-Benz   \n",
       "24848                                           EV Style        Hyundai   \n",
       "15416                   Essential TCe 100 ECO-G KLIMA BT          Dacia   \n",
       "25889                            D3 R-Design Kinetic 150          Volvo   \n",
       "12133                                      1.4-16V Signo           SEAT   \n",
       "1890                                      Shooting Brake  Mercedes-Benz   \n",
       "6050   BUSINESS Edition ENERGY dCi 110 EDC Start & St...        Renault   \n",
       "5920                        Megane Coupe 1.9 dci Gt Line        Renault   \n",
       "26822                 Convertible 2.5 T5 Summum Automaat          Volvo   \n",
       "\n",
       "                  model                                           location  \\\n",
       "7515        \\n, 107 ,\\n  Koop jouw auto online 24/7,  1101 BA AMSTERDAM...   \n",
       "26667       \\n, C70 ,\\n            Rijksstraatweg  63,  7391 MH TWELLO, NL   \n",
       "566    \\n, C 63 AMG ,\\n                    Rodezstr. 2,  96052 Bamberg, DE   \n",
       "5470     \\n, Kangoo ,\\n  Via Partanna Mondello 52,  90100 Palermo - Pa, IT   \n",
       "18490   \\n, Corolla ,\\n                 Brinkhorst 7,  7207 BG ZUTPHEN, NL   \n",
       "15872   \\n, Sandero ,\\n                  Am Busch 10,  39118 Magdeburg, DE   \n",
       "747    \\n, E 53 AMG ,\\n                  Siemensstraße 49,  07546 Gera, DE   \n",
       "24848      \\n, KONA ,\\n              Orensteinstr. 2,  56626 Andernach, DE   \n",
       "15416   \\n, Sandero ,\\n                   Ruhrtalstr. 46,  45239 Essen, DE   \n",
       "25889       \\n, V40 ,\\n  CARRETERA FUENCARRAL A HORTALEZA 89 D,  28050 ...   \n",
       "12133     \\n, Ibiza ,\\n                                   6942GA Didam, NL   \n",
       "1890    \\n, CLA 180 ,\\n                Voogdijstraat 25,  3500 Hasselt, BE   \n",
       "6050     \\n, Kadjar ,\\n     Lindenstraße 54,  15517 Fürstenwalde/Spree, DE   \n",
       "5920     \\n, Megane ,\\n                                 09121 cagliari, IT   \n",
       "26822       \\n, C70 ,\\n    Cornelis de Vriesweg 6a,  1746 CL DIRKSHORN, NL   \n",
       "\n",
       "        price         body_type            type doors  country_version  ...  \\\n",
       "7515     6350           Compact            Used     5              NaN  ...   \n",
       "26667    8995       Convertible            Used     2              NaN  ...   \n",
       "566    107289       Convertible   Demonstration     2  \\n, Germany, \\n  ...   \n",
       "5470    11900       Convertible            Used   NaN    \\n, Italy, \\n  ...   \n",
       "18490   28900     Station wagon            Used     5              NaN  ...   \n",
       "15872   18990  Off-Road/Pick-up  Pre-registered     5  \\n, Austria, \\n  ...   \n",
       "747    102990       Convertible   Demonstration     2              NaN  ...   \n",
       "24848   38990  Off-Road/Pick-up            Used     5  \\n, Germany, \\n  ...   \n",
       "15416   13760           Compact  Pre-registered     5  \\n, Germany, \\n  ...   \n",
       "25889   14399           Compact            Used     5    \\n, Spain, \\n  ...   \n",
       "12133    4000           Compact            Used     5              NaN  ...   \n",
       "1890    28999     Station wagon            Used     5              NaN  ...   \n",
       "6050    17490  Off-Road/Pick-up            Used     5  \\n, Germany, \\n  ...   \n",
       "5920     5500             Coupe            Used     3              NaN  ...   \n",
       "26822   16450       Convertible            Used     2              NaN  ...   \n",
       "\n",
       "      power_consumption_wltp battery_ownership country new_fuel_type paint2  \\\n",
       "7515                     NaN               NaN      NL       Benzine      1   \n",
       "26667                    NaN               NaN      NL        Diesel      1   \n",
       "566                      NaN               NaN      DE       Benzine      1   \n",
       "5470                     NaN               NaN      IT        Diesel      0   \n",
       "18490                    NaN               NaN      NL           NaN      1   \n",
       "15872                    NaN               NaN      DE       Benzine      1   \n",
       "747                      NaN               NaN      DE       Benzine      1   \n",
       "24848                    NaN               NaN      DE           NaN      1   \n",
       "15416                    NaN               NaN      DE       LPG/CNG      1   \n",
       "25889                    NaN               NaN      ES        Diesel      0   \n",
       "12133                    NaN               NaN      NL       Benzine      1   \n",
       "1890                     NaN               NaN      BE       Benzine      0   \n",
       "6050                     NaN               NaN      DE        Diesel      1   \n",
       "5920                     NaN               NaN      IT        Diesel      0   \n",
       "26822                    NaN               NaN      NL       Benzine      1   \n",
       "\n",
       "      power_kwh co2_emissions fuel_consumption_comb fuel_consumption_city  \\\n",
       "7515         50           104  4.5 l/100 km (comb.)   5.4 l/100 km (city)   \n",
       "26667       100           167  6.3 l/100 km (comb.)   8.1 l/100 km (city)   \n",
       "566         375           255  1.1 l/100 km (comb.)   5.6 l/100 km (city)   \n",
       "5470         81          <NA>    0 l/100 km (comb.)                   NaN   \n",
       "18490       NaN            78  4.5 l/100 km (comb.)                   NaN   \n",
       "15872        67           119  5.2 l/100 km (comb.)     6 l/100 km (city)   \n",
       "747         320          <NA>                   NaN                   NaN   \n",
       "24848       150          <NA>                   NaN                   NaN   \n",
       "15416        74           117  5.1 l/100 km (comb.)   6.5 l/100 km (city)   \n",
       "25889       110          <NA>  4.3 l/100 km (comb.)   5.3 l/100 km (city)   \n",
       "12133        55           156  6.5 l/100 km (comb.)   8.9 l/100 km (city)   \n",
       "1890         90           144  6.3 l/100 km (comb.)   7.7 l/100 km (city)   \n",
       "6050         81           129  3.9 l/100 km (comb.)     4 l/100 km (city)   \n",
       "5920         96           114  5.1 l/100 km (comb.)   6.2 l/100 km (city)   \n",
       "26822       162           234  9.8 l/100 km (comb.)   4.7 l/100 km (city)   \n",
       "\n",
       "      fuel_consumption_country  \n",
       "7515      4 l/100 km (country)  \n",
       "26667   5.3 l/100 km (country)  \n",
       "566     8.5 l/100 km (country)  \n",
       "5470                       NaN  \n",
       "18490                      NaN  \n",
       "15872   4.8 l/100 km (country)  \n",
       "747                        NaN  \n",
       "24848                      NaN  \n",
       "15416   4.4 l/100 km (country)  \n",
       "25889   3.8 l/100 km (country)  \n",
       "12133   5.3 l/100 km (country)  \n",
       "1890    5.5 l/100 km (country)  \n",
       "6050    3.9 l/100 km (country)  \n",
       "5920    4.5 l/100 km (country)  \n",
       "26822     7 l/100 km (country)  \n",
       "\n",
       "[15 rows x 65 columns]"
      ]
     },
     "execution_count": 170,
     "metadata": {},
     "output_type": "execute_result"
    }
   ],
   "source": [
    "df.sample(15)"
   ]
  },
  {
   "cell_type": "code",
   "execution_count": 171,
   "metadata": {},
   "outputs": [],
   "source": [
    "df.to_excel(\"df_cleaned.xlsx\")"
   ]
  },
  {
   "cell_type": "code",
   "execution_count": 172,
   "metadata": {},
   "outputs": [],
   "source": [
    "df.to_csv(\"df_cleaned.csv\")"
   ]
  },
  {
   "cell_type": "code",
   "execution_count": null,
   "metadata": {},
   "outputs": [],
   "source": []
  }
 ],
 "metadata": {
  "kernelspec": {
   "display_name": "Python 3 (ipykernel)",
   "language": "python",
   "name": "python3"
  },
  "language_info": {
   "codemirror_mode": {
    "name": "ipython",
    "version": 3
   },
   "file_extension": ".py",
   "mimetype": "text/x-python",
   "name": "python",
   "nbconvert_exporter": "python",
   "pygments_lexer": "ipython3",
   "version": "3.10.9"
  }
 },
 "nbformat": 4,
 "nbformat_minor": 2
}
