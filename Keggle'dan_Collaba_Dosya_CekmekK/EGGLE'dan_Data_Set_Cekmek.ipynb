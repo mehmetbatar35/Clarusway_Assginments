{
  "nbformat": 4,
  "nbformat_minor": 0,
  "metadata": {
    "colab": {
      "provenance": [],
      "mount_file_id": "1_2fxYSTNS6nG3SXPg261bJ3A7J6Qhook",
      "authorship_tag": "ABX9TyMTwIq7DRiNzxU9CgnqiuA0",
      "include_colab_link": true
    },
    "kernelspec": {
      "name": "python3",
      "display_name": "Python 3"
    },
    "language_info": {
      "name": "python"
    }
  },
  "cells": [
    {
      "cell_type": "markdown",
      "metadata": {
        "id": "view-in-github",
        "colab_type": "text"
      },
      "source": [
        "<a href=\"https://colab.research.google.com/github/mehmetbatar35/Clarusway_Assginments/blob/main/KEGGLE'dan_Data_Set_Cekmek.ipynb\" target=\"_parent\"><img src=\"https://colab.research.google.com/assets/colab-badge.svg\" alt=\"Open In Colab\"/></a>"
      ]
    },
    {
      "cell_type": "code",
      "execution_count": null,
      "metadata": {
        "id": "OnTh9XLKIjH_"
      },
      "outputs": [],
      "source": [
        "import pandas as pd\n",
        "import numpy as np\n",
        "import matplotlib.pyplot as plt\n",
        "import seaborn as sns\n",
        "import os"
      ]
    },
    {
      "cell_type": "code",
      "source": [
        "from google.colab import drive\n",
        "drive.mount('/content/gdrive')"
      ],
      "metadata": {
        "colab": {
          "base_uri": "https://localhost:8080/"
        },
        "id": "muGoAUjRKCOd",
        "outputId": "a332c640-65e2-4e3a-8fef-a034b107229f"
      },
      "execution_count": null,
      "outputs": [
        {
          "output_type": "stream",
          "name": "stdout",
          "text": [
            "Mounted at /content/gdrive\n"
          ]
        }
      ]
    },
    {
      "cell_type": "code",
      "source": [
        "!ls\n"
      ],
      "metadata": {
        "colab": {
          "base_uri": "https://localhost:8080/"
        },
        "id": "FmZ8nfOLKCQ6",
        "outputId": "ea1f3ff6-f696-4581-cc5d-7e9e30c2982f"
      },
      "execution_count": null,
      "outputs": [
        {
          "output_type": "stream",
          "name": "stdout",
          "text": [
            "drive  gdrive  sample_data\n"
          ]
        }
      ]
    },
    {
      "cell_type": "code",
      "source": [
        "os.environ['KAGGLE_CONFIG_DIR'] = \"/content/gdrive/MyDrive/Colab Notebooks/KEGGLE\""
      ],
      "metadata": {
        "id": "gzWwNSlzKCT7"
      },
      "execution_count": null,
      "outputs": []
    },
    {
      "cell_type": "code",
      "source": [
        "%cd /content/gdrive/MyDrive/Colab Notebooks/KEGGLE"
      ],
      "metadata": {
        "colab": {
          "base_uri": "https://localhost:8080/"
        },
        "id": "12pZfZUAKCXJ",
        "outputId": "c40c4dea-47d6-4925-a7d8-39d91864909b"
      },
      "execution_count": null,
      "outputs": [
        {
          "output_type": "stream",
          "name": "stdout",
          "text": [
            "/content/gdrive/MyDrive/Colab Notebooks/KEGGLE\n"
          ]
        }
      ]
    },
    {
      "cell_type": "code",
      "source": [
        "!pwd\n"
      ],
      "metadata": {
        "colab": {
          "base_uri": "https://localhost:8080/"
        },
        "id": "fqJQLAoAKlN0",
        "outputId": "ab1d3a9a-a81f-484e-d317-a9f78fd70d4b"
      },
      "execution_count": null,
      "outputs": [
        {
          "output_type": "stream",
          "name": "stdout",
          "text": [
            "/content/gdrive/MyDrive/Colab Notebooks/KEGGLE\n"
          ]
        }
      ]
    },
    {
      "cell_type": "code",
      "source": [
        "!ls\n"
      ],
      "metadata": {
        "colab": {
          "base_uri": "https://localhost:8080/"
        },
        "id": "7FButuwMKlRx",
        "outputId": "c1ebdf60-f24f-4c45-bf3d-210773879c72"
      },
      "execution_count": null,
      "outputs": [
        {
          "output_type": "stream",
          "name": "stdout",
          "text": [
            "kaggle.json\n"
          ]
        }
      ]
    },
    {
      "cell_type": "code",
      "source": [
        "!kaggle datasets download -d ulrikthygepedersen/fastfood-nutrition"
      ],
      "metadata": {
        "colab": {
          "base_uri": "https://localhost:8080/"
        },
        "id": "QrJzUx5yKlVV",
        "outputId": "e2df37e1-9ac9-4bfa-8c8c-8436703f06c8"
      },
      "execution_count": null,
      "outputs": [
        {
          "output_type": "stream",
          "name": "stdout",
          "text": [
            "Downloading fastfood-nutrition.zip to /content/gdrive/MyDrive/Colab Notebooks/KEGGLE\n",
            "\r  0% 0.00/11.8k [00:00<?, ?B/s]\n",
            "\r100% 11.8k/11.8k [00:00<00:00, 1.49MB/s]\n"
          ]
        }
      ]
    },
    {
      "cell_type": "code",
      "source": [
        "!unzip \\*.zip && rm *.zip"
      ],
      "metadata": {
        "colab": {
          "base_uri": "https://localhost:8080/"
        },
        "id": "Kffexel5KlYB",
        "outputId": "c8192cb2-9db1-41ef-a33d-7b1ada7a7af1"
      },
      "execution_count": null,
      "outputs": [
        {
          "output_type": "stream",
          "name": "stdout",
          "text": [
            "Archive:  fastfood-nutrition.zip\n",
            "  inflating: fastfood.csv            \n"
          ]
        }
      ]
    },
    {
      "cell_type": "code",
      "source": [],
      "metadata": {
        "id": "n2At1uJVKlah"
      },
      "execution_count": null,
      "outputs": []
    },
    {
      "cell_type": "code",
      "source": [
        "!ls\n"
      ],
      "metadata": {
        "colab": {
          "base_uri": "https://localhost:8080/"
        },
        "id": "PnEv3t1SN6ZC",
        "outputId": "2b06c001-ea64-4abe-99f1-99f38e367d9d"
      },
      "execution_count": null,
      "outputs": [
        {
          "output_type": "stream",
          "name": "stdout",
          "text": [
            "fastfood.csv  kaggle.json\n"
          ]
        }
      ]
    },
    {
      "cell_type": "code",
      "source": [
        "df = pd.read_csv('fastfood.csv')"
      ],
      "metadata": {
        "id": "ReOZe-53N6cz"
      },
      "execution_count": null,
      "outputs": []
    },
    {
      "cell_type": "code",
      "source": [],
      "metadata": {
        "id": "WOEyJFuAN6ij"
      },
      "execution_count": null,
      "outputs": []
    },
    {
      "cell_type": "code",
      "source": [
        "df.head\n"
      ],
      "metadata": {
        "colab": {
          "base_uri": "https://localhost:8080/"
        },
        "id": "COZSgq7kN6ly",
        "outputId": "01ed7579-ea9c-4ebc-c77b-ad502450d340"
      },
      "execution_count": null,
      "outputs": [
        {
          "output_type": "execute_result",
          "data": {
            "text/plain": [
              "<bound method NDFrame.head of     restaurant                                       item  calories  cal_fat  \\\n",
              "0    Mcdonalds           Artisan Grilled Chicken Sandwich       380       60   \n",
              "1    Mcdonalds             Single Bacon Smokehouse Burger       840      410   \n",
              "2    Mcdonalds             Double Bacon Smokehouse Burger      1130      600   \n",
              "3    Mcdonalds  Grilled Bacon Smokehouse Chicken Sandwich       750      280   \n",
              "4    Mcdonalds   Crispy Bacon Smokehouse Chicken Sandwich       920      410   \n",
              "..         ...                                        ...       ...      ...   \n",
              "510  Taco Bell             Spicy Triple Double Crunchwrap       780      340   \n",
              "511  Taco Bell                Express Taco Salad w/ Chips       580      260   \n",
              "512  Taco Bell                     Fiesta Taco Salad-Beef       780      380   \n",
              "513  Taco Bell                  Fiesta Taco Salad-Chicken       720      320   \n",
              "514  Taco Bell                    Fiesta Taco Salad-Steak       720      320   \n",
              "\n",
              "     total_fat  sat_fat  trans_fat  cholesterol  sodium  total_carb  fiber  \\\n",
              "0            7      2.0        0.0           95    1110          44    3.0   \n",
              "1           45     17.0        1.5          130    1580          62    2.0   \n",
              "2           67     27.0        3.0          220    1920          63    3.0   \n",
              "3           31     10.0        0.5          155    1940          62    2.0   \n",
              "4           45     12.0        0.5          120    1980          81    4.0   \n",
              "..         ...      ...        ...          ...     ...         ...    ...   \n",
              "510         38     10.0        0.5           50    1850          87    9.0   \n",
              "511         29      9.0        1.0           60    1270          59    8.0   \n",
              "512         42     10.0        1.0           60    1340          74   11.0   \n",
              "513         35      7.0        0.0           70    1260          70    8.0   \n",
              "514         36      8.0        1.0           55    1340          70    8.0   \n",
              "\n",
              "     sugar  protein  vit_a  vit_c  calcium  salad  \n",
              "0       11     37.0    4.0   20.0     20.0  Other  \n",
              "1       18     46.0    6.0   20.0     20.0  Other  \n",
              "2       18     70.0   10.0   20.0     50.0  Other  \n",
              "3       18     55.0    6.0   25.0     20.0  Other  \n",
              "4       18     46.0    6.0   20.0     20.0  Other  \n",
              "..     ...      ...    ...    ...      ...    ...  \n",
              "510      8     23.0   20.0   10.0     25.0  Other  \n",
              "511      7     23.0    NaN    NaN      NaN  Other  \n",
              "512      7     26.0    NaN    NaN      NaN  Other  \n",
              "513      8     32.0    NaN    NaN      NaN  Other  \n",
              "514      8     28.0    NaN    NaN      NaN  Other  \n",
              "\n",
              "[515 rows x 17 columns]>"
            ]
          },
          "metadata": {},
          "execution_count": 15
        }
      ]
    },
    {
      "cell_type": "code",
      "source": [],
      "metadata": {
        "id": "v_nsYiIxN6oy"
      },
      "execution_count": null,
      "outputs": []
    },
    {
      "cell_type": "code",
      "source": [],
      "metadata": {
        "id": "VhlPwpVEN6xv"
      },
      "execution_count": null,
      "outputs": []
    },
    {
      "cell_type": "code",
      "source": [],
      "metadata": {
        "id": "kHBvLnamN61D"
      },
      "execution_count": null,
      "outputs": []
    },
    {
      "cell_type": "code",
      "source": [],
      "metadata": {
        "id": "56M249szKlfi"
      },
      "execution_count": null,
      "outputs": []
    }
  ]
}
