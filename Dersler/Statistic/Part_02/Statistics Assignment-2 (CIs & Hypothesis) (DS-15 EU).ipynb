{
 "cells": [
  {
   "cell_type": "code",
   "execution_count": 48,
   "id": "6abf385c",
   "metadata": {},
   "outputs": [],
   "source": [
    "import numpy as np\n",
    "from scipy import stats\n",
    "import matplotlib.pyplot as plt\n",
    "import seaborn as sns"
   ]
  },
  {
   "cell_type": "markdown",
   "id": "4f0235aa",
   "metadata": {},
   "source": [
    "## CONFIDENCE INTERVALS"
   ]
  },
  {
   "cell_type": "markdown",
   "id": "d4fbde70",
   "metadata": {},
   "source": [
    "### Exercise 1.\n",
    "\n",
    "#####  What is the normal body temperature for healthy humans? A random sample of 130 healthy human body temperatures provided by Allen Shoemaker yielded 98.25 degrees and standard deviation 0.73 degrees.  Give a 99% confidence interval for the average body temperature of healthy people."
   ]
  },
  {
   "cell_type": "code",
   "execution_count": 49,
   "id": "030d6093",
   "metadata": {},
   "outputs": [],
   "source": [
    "n = 130,\n",
    "std = 0.73\n",
    "mean = 98.25"
   ]
  },
  {
   "cell_type": "code",
   "execution_count": 50,
   "id": "5b609556",
   "metadata": {},
   "outputs": [
    {
     "data": {
      "text/plain": [
       "array([0.06402524])"
      ]
     },
     "execution_count": 50,
     "metadata": {},
     "output_type": "execute_result"
    }
   ],
   "source": [
    "se = std / np.sqrt(n)\n",
    "se"
   ]
  },
  {
   "cell_type": "code",
   "execution_count": 51,
   "id": "678f9a1f",
   "metadata": {},
   "outputs": [
    {
     "data": {
      "text/plain": [
       "(array([98.08508192]), array([98.41491808]))"
      ]
     },
     "execution_count": 51,
     "metadata": {},
     "output_type": "execute_result"
    }
   ],
   "source": [
    "ci_z = stats.norm.interval(0.99,mean, se)\n",
    "ci_z"
   ]
  },
  {
   "cell_type": "markdown",
   "id": "fd928da8",
   "metadata": {},
   "source": [
    "### Exercise 2.\n",
    "\n",
    "##### The administrators for a hospital wished to estimate the average number of days required for inpatient treatment of patients between the ages of 25 and 34. A random sample of 500 hospital patients between these ages produced a mean and standard deviation equal to 5.4 and 3.1 days, respectively.  Construct a 95% confidence interval for the mean length of stay for the population of patients from which the sample was drawn."
   ]
  },
  {
   "cell_type": "code",
   "execution_count": 52,
   "id": "f00133b1",
   "metadata": {},
   "outputs": [],
   "source": [
    "hosp_sample = 500\n",
    "hosp_mean = 5.4\n",
    "hosp_std = 3.1"
   ]
  },
  {
   "cell_type": "code",
   "execution_count": 53,
   "id": "f0517a03",
   "metadata": {},
   "outputs": [],
   "source": [
    "hosp_se = hosp_std / np.sqrt(hosp_sample)"
   ]
  },
  {
   "cell_type": "code",
   "execution_count": 54,
   "id": "52688255",
   "metadata": {},
   "outputs": [
    {
     "data": {
      "text/plain": [
       "(5.12827801242126, 5.67172198757874)"
      ]
     },
     "execution_count": 54,
     "metadata": {},
     "output_type": "execute_result"
    }
   ],
   "source": [
    "hosp_ci_z = stats.norm.interval(0.95, hosp_mean, hosp_se)\n",
    "hosp_ci_z"
   ]
  },
  {
   "cell_type": "markdown",
   "id": "dd8d83c7",
   "metadata": {},
   "source": [
    "## HYPOTHESIS TESTING"
   ]
  },
  {
   "cell_type": "markdown",
   "id": "eb35774f",
   "metadata": {},
   "source": [
    "### Exercise 3.\n",
    "\n",
    "##### The hourly wages in a particular industry are normally distributed with mean $13.20 and standard deviation $2.50. A company in this industry employs 40 workers, paying them an average of $12.20 per hour. Can this company be accused of paying substandard wages? Use an α = .01 level test. (Wackerly, Ex.10.18)\n",
    "CHECK: statistic: -2.5298221281347035, pvalue= 0.005706018193000826"
   ]
  },
  {
   "cell_type": "code",
   "execution_count": 55,
   "id": "226f1f29",
   "metadata": {},
   "outputs": [],
   "source": [
    "import scipy.stats as stats\n",
    "from math import sqrt"
   ]
  },
  {
   "cell_type": "code",
   "execution_count": 56,
   "id": "1793406f",
   "metadata": {},
   "outputs": [],
   "source": [
    "x_bar = 13.2 #sample mean\n",
    "n = 40 #number of samples\n",
    "sigma = 2.5 #standard deviation\n",
    "mu = 12.2 #Population Mean"
   ]
  },
  {
   "cell_type": "code",
   "execution_count": 57,
   "id": "a8ff29f8",
   "metadata": {},
   "outputs": [
    {
     "data": {
      "text/plain": [
       "2.5298221281347035"
      ]
     },
     "execution_count": 57,
     "metadata": {},
     "output_type": "execute_result"
    }
   ],
   "source": [
    "z = (x_bar - mu) / (sigma / sqrt(n))\n",
    "z"
   ]
  },
  {
   "cell_type": "code",
   "execution_count": 58,
   "id": "e482a437",
   "metadata": {},
   "outputs": [
    {
     "data": {
      "text/plain": [
       "0.005719401359928433"
      ]
     },
     "execution_count": 58,
     "metadata": {},
     "output_type": "execute_result"
    }
   ],
   "source": [
    "p_value = 1 - stats.norm.cdf(2.529)\n",
    "p_value"
   ]
  },
  {
   "cell_type": "code",
   "execution_count": 59,
   "id": "e241de75",
   "metadata": {},
   "outputs": [
    {
     "name": "stdout",
     "output_type": "stream",
     "text": [
      "At 0.01 level of significance, we can reject the null hypothesis in favor of alternatice hypothesis.\n"
     ]
    }
   ],
   "source": [
    "alpha = 0.01\n",
    "\n",
    "if p_value < alpha:\n",
    "    print('At {} level of significance, we can reject the null hypothesis in favor of alternatice hypothesis.'.format(alpha) )\n",
    "else:\n",
    "    print('At {} level of significance, we fail to reject the null hypothesis.'.format(alpha) )\n",
    "    "
   ]
  },
  {
   "cell_type": "markdown",
   "id": "bfc86880",
   "metadata": {},
   "source": [
    "### Exercise 4.\n",
    "\n",
    "##### Shear strength measurements derived from unconfined compression tests for two types of soils gave the results shown in the following document (measurements in tons per square foot). Do the soils appear to differ with respect to average shear strength, at the 1% significance level?\n",
    "\n",
    "Results for two type of soils\n",
    "\n",
    "CHECK: statistic: 5.1681473319343345, pvalue= 2.593228732352821e-06"
   ]
  },
  {
   "cell_type": "code",
   "execution_count": 60,
   "id": "3d2b6bc0",
   "metadata": {},
   "outputs": [
    {
     "data": {
      "text/html": [
       "<div>\n",
       "<style scoped>\n",
       "    .dataframe tbody tr th:only-of-type {\n",
       "        vertical-align: middle;\n",
       "    }\n",
       "\n",
       "    .dataframe tbody tr th {\n",
       "        vertical-align: top;\n",
       "    }\n",
       "\n",
       "    .dataframe thead th {\n",
       "        text-align: right;\n",
       "    }\n",
       "</style>\n",
       "<table border=\"1\" class=\"dataframe\">\n",
       "  <thead>\n",
       "    <tr style=\"text-align: right;\">\n",
       "      <th></th>\n",
       "      <th>Soil1</th>\n",
       "      <th>Soil2</th>\n",
       "    </tr>\n",
       "  </thead>\n",
       "  <tbody>\n",
       "    <tr>\n",
       "      <th>0</th>\n",
       "      <td>1.442</td>\n",
       "      <td>1.364</td>\n",
       "    </tr>\n",
       "    <tr>\n",
       "      <th>1</th>\n",
       "      <td>1.943</td>\n",
       "      <td>1.878</td>\n",
       "    </tr>\n",
       "    <tr>\n",
       "      <th>2</th>\n",
       "      <td>1.110</td>\n",
       "      <td>1.337</td>\n",
       "    </tr>\n",
       "    <tr>\n",
       "      <th>3</th>\n",
       "      <td>1.912</td>\n",
       "      <td>1.828</td>\n",
       "    </tr>\n",
       "    <tr>\n",
       "      <th>4</th>\n",
       "      <td>1.553</td>\n",
       "      <td>1.371</td>\n",
       "    </tr>\n",
       "  </tbody>\n",
       "</table>\n",
       "</div>"
      ],
      "text/plain": [
       "   Soil1  Soil2\n",
       "0  1.442  1.364\n",
       "1  1.943  1.878\n",
       "2  1.110  1.337\n",
       "3  1.912  1.828\n",
       "4  1.553  1.371"
      ]
     },
     "execution_count": 60,
     "metadata": {},
     "output_type": "execute_result"
    }
   ],
   "source": [
    "import pandas as pd\n",
    "df = pd.read_csv('soil - Sheet1.csv')\n",
    "df.head()"
   ]
  },
  {
   "cell_type": "code",
   "execution_count": 61,
   "id": "1acb85ef",
   "metadata": {},
   "outputs": [],
   "source": [
    "# H0: mu1 = mu2\n",
    "# H1: mu1 != mu2"
   ]
  },
  {
   "cell_type": "code",
   "execution_count": 62,
   "id": "7e8f3f90",
   "metadata": {},
   "outputs": [
    {
     "data": {
      "text/plain": [
       "Ttest_indResult(statistic=5.1681473319343345, pvalue=2.59322873235282e-06)"
      ]
     },
     "execution_count": 62,
     "metadata": {},
     "output_type": "execute_result"
    }
   ],
   "source": [
    "indTest = stats.ttest_ind(df['Soil1'].dropna(), df['Soil2'], equal_var=True)\n",
    "indTest"
   ]
  },
  {
   "cell_type": "code",
   "execution_count": 63,
   "id": "3179f2e3",
   "metadata": {},
   "outputs": [
    {
     "data": {
      "text/plain": [
       "5.1681473319343345"
      ]
     },
     "execution_count": 63,
     "metadata": {},
     "output_type": "execute_result"
    }
   ],
   "source": [
    "indTest.statistic"
   ]
  },
  {
   "cell_type": "code",
   "execution_count": 64,
   "id": "9de7d0f3",
   "metadata": {},
   "outputs": [
    {
     "data": {
      "text/plain": [
       "2.59322873235282e-06"
      ]
     },
     "execution_count": 64,
     "metadata": {},
     "output_type": "execute_result"
    }
   ],
   "source": [
    "indTest.pvalue"
   ]
  },
  {
   "cell_type": "code",
   "execution_count": 65,
   "id": "476250bc",
   "metadata": {},
   "outputs": [
    {
     "name": "stdout",
     "output_type": "stream",
     "text": [
      "Reject the null. At the alpha = 0.01, we have sufficient evidence to indicate that soil1 differ from soil 2\n"
     ]
    }
   ],
   "source": [
    "# decision :\n",
    "\n",
    "alpha = 0.01\n",
    "\n",
    "if indTest.pvalue < alpha:\n",
    "    print('Reject the null. At the alpha = 0.01, we have sufficient evidence to indicate that soil1 differ from soil 2')\n",
    "else:\n",
    "    print('Fail to reject the null')"
   ]
  },
  {
   "cell_type": "markdown",
   "id": "e7e6c9f9",
   "metadata": {},
   "source": [
    "### Exercise 5.\n",
    "\n",
    "#####   The following dataset is based on data provided by the World Bank (https://datacatalog.worldbank.org/dataset/education-statistics). World Bank Edstats.  2015 PISA Test Dataset\n",
    "\n",
    "Get descriptive statistics (the central tendency, dispersion and shape of a dataset’s distribution) for each continent group (AS, EU, AF, NA, SA, OC).\n",
    "Determine whether there is any difference (on the average) for the math scores among European (EU) and Asian (AS) countries (assume normality and equal variances). Draw side-by-side box plots.\n",
    "CHECK: statistic=0.870055317967983, pvalue=0.38826888111307345"
   ]
  },
  {
   "cell_type": "code",
   "execution_count": 66,
   "id": "c87866c8",
   "metadata": {},
   "outputs": [
    {
     "data": {
      "text/html": [
       "<div>\n",
       "<style scoped>\n",
       "    .dataframe tbody tr th:only-of-type {\n",
       "        vertical-align: middle;\n",
       "    }\n",
       "\n",
       "    .dataframe tbody tr th {\n",
       "        vertical-align: top;\n",
       "    }\n",
       "\n",
       "    .dataframe thead th {\n",
       "        text-align: right;\n",
       "    }\n",
       "</style>\n",
       "<table border=\"1\" class=\"dataframe\">\n",
       "  <thead>\n",
       "    <tr style=\"text-align: right;\">\n",
       "      <th></th>\n",
       "      <th>Country Code</th>\n",
       "      <th>Continent_Code</th>\n",
       "      <th>internet_users_per_100</th>\n",
       "      <th>Math</th>\n",
       "      <th>Reading</th>\n",
       "      <th>Science</th>\n",
       "    </tr>\n",
       "  </thead>\n",
       "  <tbody>\n",
       "    <tr>\n",
       "      <th>65</th>\n",
       "      <td>TUN</td>\n",
       "      <td>AF</td>\n",
       "      <td>48.519836</td>\n",
       "      <td>366.8180</td>\n",
       "      <td>361.0555</td>\n",
       "      <td>386.4034</td>\n",
       "    </tr>\n",
       "    <tr>\n",
       "      <th>62</th>\n",
       "      <td>SWE</td>\n",
       "      <td>EU</td>\n",
       "      <td>90.610200</td>\n",
       "      <td>493.9181</td>\n",
       "      <td>500.1556</td>\n",
       "      <td>493.4224</td>\n",
       "    </tr>\n",
       "    <tr>\n",
       "      <th>66</th>\n",
       "      <td>TUR</td>\n",
       "      <td>EU</td>\n",
       "      <td>53.744979</td>\n",
       "      <td>420.4540</td>\n",
       "      <td>428.3351</td>\n",
       "      <td>425.4895</td>\n",
       "    </tr>\n",
       "    <tr>\n",
       "      <th>47</th>\n",
       "      <td>MLT</td>\n",
       "      <td>EU</td>\n",
       "      <td>76.184000</td>\n",
       "      <td>478.6448</td>\n",
       "      <td>446.6661</td>\n",
       "      <td>464.7819</td>\n",
       "    </tr>\n",
       "    <tr>\n",
       "      <th>52</th>\n",
       "      <td>NZL</td>\n",
       "      <td>OC</td>\n",
       "      <td>88.222889</td>\n",
       "      <td>495.2233</td>\n",
       "      <td>509.2707</td>\n",
       "      <td>513.3035</td>\n",
       "    </tr>\n",
       "  </tbody>\n",
       "</table>\n",
       "</div>"
      ],
      "text/plain": [
       "   Country Code Continent_Code  internet_users_per_100      Math   Reading  \\\n",
       "65          TUN             AF               48.519836  366.8180  361.0555   \n",
       "62          SWE             EU               90.610200  493.9181  500.1556   \n",
       "66          TUR             EU               53.744979  420.4540  428.3351   \n",
       "47          MLT             EU               76.184000  478.6448  446.6661   \n",
       "52          NZL             OC               88.222889  495.2233  509.2707   \n",
       "\n",
       "     Science  \n",
       "65  386.4034  \n",
       "62  493.4224  \n",
       "66  425.4895  \n",
       "47  464.7819  \n",
       "52  513.3035  "
      ]
     },
     "execution_count": 66,
     "metadata": {},
     "output_type": "execute_result"
    }
   ],
   "source": [
    "df = pd.read_csv('2015 PISA Test - Sheet1.csv')\n",
    "df.sample(5)"
   ]
  },
  {
   "cell_type": "code",
   "execution_count": 67,
   "id": "ed1a1278",
   "metadata": {},
   "outputs": [
    {
     "name": "stdout",
     "output_type": "stream",
     "text": [
      "EU\n",
      "       internet_users_per_100        Math     Reading     Science\n",
      "count               37.000000   37.000000   37.000000   37.000000\n",
      "mean                77.274888  477.981449  476.164608  478.299381\n",
      "std                 12.425773   35.150403   37.720545   34.450616\n",
      "min                 53.744979  371.311400  351.741500  383.682400\n",
      "25%                 68.632900  464.040100  452.514300  460.774900\n",
      "50%                 76.184000  489.728700  487.250100  490.225000\n",
      "75%                 87.479056  503.722000  499.814600  501.936900\n",
      "max                 98.200000  521.250600  526.424700  534.193700\n",
      "----------------------------------------------------------------------\n",
      "AS\n",
      "       internet_users_per_100        Math     Reading     Science\n",
      "count               17.000000   17.000000   17.000000   17.000000\n",
      "mean                68.455613  466.216647  454.059682  467.945847\n",
      "std                 21.086060   64.356490   57.048962   56.671371\n",
      "min                 21.976068  380.259000  346.549000  386.485400\n",
      "25%                 50.300000  403.833200  408.102200  417.611200\n",
      "50%                 74.000000  459.816000  433.542300  456.483600\n",
      "75%                 84.948353  531.296100  508.690500  523.277400\n",
      "max                 92.884826  564.189700  535.100200  555.574700\n",
      "----------------------------------------------------------------------\n",
      "SA\n",
      "       internet_users_per_100        Math     Reading     Science\n",
      "count                7.000000    7.000000    7.000000    7.000000\n",
      "mean                60.180494  402.887700  425.359229  421.747186\n",
      "std                  9.772455   18.128894   19.709688   18.470319\n",
      "min                 40.900000  377.069500  397.541400  396.683600\n",
      "25%                 57.116462  388.102200  416.126900  408.205450\n",
      "50%                 64.289000  409.033300  425.303100  424.590500\n",
      "75%                 66.321532  417.617650  431.922700  433.794600\n",
      "max                 69.198471  422.671400  458.570900  446.956100\n",
      "----------------------------------------------------------------------\n",
      "OC\n",
      "       internet_users_per_100        Math     Reading     Science\n",
      "count                2.000000    2.000000    2.000000    2.000000\n",
      "mean                86.391704  494.559750  506.085650  511.648700\n",
      "std                  2.589686    0.938401    4.504341    2.340241\n",
      "min                 84.560519  493.896200  502.900600  509.993900\n",
      "25%                 85.476112  494.227975  504.493125  510.821300\n",
      "50%                 86.391704  494.559750  506.085650  511.648700\n",
      "75%                 87.307296  494.891525  507.678175  512.476100\n",
      "max                 88.222889  495.223300  509.270700  513.303500\n",
      "----------------------------------------------------------------------\n",
      "nan\n",
      "       internet_users_per_100  Math  Reading  Science\n",
      "count                     0.0   0.0      0.0      0.0\n",
      "mean                      NaN   NaN      NaN      NaN\n",
      "std                       NaN   NaN      NaN      NaN\n",
      "min                       NaN   NaN      NaN      NaN\n",
      "25%                       NaN   NaN      NaN      NaN\n",
      "50%                       NaN   NaN      NaN      NaN\n",
      "75%                       NaN   NaN      NaN      NaN\n",
      "max                       NaN   NaN      NaN      NaN\n",
      "----------------------------------------------------------------------\n",
      "AF\n",
      "       internet_users_per_100        Math     Reading     Science\n",
      "count                2.000000    2.000000    2.000000    2.000000\n",
      "mean                43.359918  363.212100  355.457400  381.074250\n",
      "std                  7.297226    5.099513    7.916909    7.536556\n",
      "min                 38.200000  359.606200  349.859300  375.745100\n",
      "25%                 40.779959  361.409150  352.658350  378.409675\n",
      "50%                 43.359918  363.212100  355.457400  381.074250\n",
      "75%                 45.939877  365.015050  358.256450  383.738825\n",
      "max                 48.519836  366.818000  361.055500  386.403400\n",
      "----------------------------------------------------------------------\n"
     ]
    }
   ],
   "source": [
    "for i in df.Continent_Code.unique():\n",
    "    print(i)\n",
    "    print(df[df[\"Continent_Code\"]==i].describe())\n",
    "    print(70*\"-\")\n"
   ]
  },
  {
   "cell_type": "code",
   "execution_count": 68,
   "id": "0df5273f",
   "metadata": {},
   "outputs": [],
   "source": [
    "eu_scores = df[df[\"Continent_Code\"]==\"EU\"]\n",
    "as_scores = df[df[\"Continent_Code\"]==\"AS\"]\n"
   ]
  },
  {
   "cell_type": "code",
   "execution_count": 69,
   "id": "0ba7c21f",
   "metadata": {},
   "outputs": [
    {
     "data": {
      "text/plain": [
       "Ttest_indResult(statistic=0.870055317967983, pvalue=0.38826888111307345)"
      ]
     },
     "execution_count": 69,
     "metadata": {},
     "output_type": "execute_result"
    }
   ],
   "source": [
    "twosample = stats.ttest_ind(eu_scores.Math, as_scores.Math)\n",
    "twosample\n"
   ]
  },
  {
   "cell_type": "code",
   "execution_count": 70,
   "id": "50f4d33b",
   "metadata": {},
   "outputs": [
    {
     "data": {
      "image/png": "[encoded data removed]",
      "text/plain": [
       "<Figure size 640x480 with 1 Axes>"
      ]
     },
     "metadata": {},
     "output_type": "display_data"
    }
   ],
   "source": [
    "plt.boxplot([eu_scores.Math, as_scores.Math], labels=['EU', 'AS'])\n",
    "plt.xlabel('Continent')\n",
    "plt.ylabel('Math Scores')\n",
    "plt.title('Math Scores by Continent (EU vs AS)')\n",
    "plt.show()"
   ]
  },
  {
   "cell_type": "code",
   "execution_count": null,
   "id": "b5e8cd03",
   "metadata": {},
   "outputs": [],
   "source": []
  },
  {
   "cell_type": "code",
   "execution_count": null,
   "id": "121dc0e1",
   "metadata": {},
   "outputs": [],
   "source": []
  },
  {
   "cell_type": "code",
   "execution_count": null,
   "id": "6eb9853d",
   "metadata": {},
   "outputs": [],
   "source": []
  },
  {
   "cell_type": "code",
   "execution_count": null,
   "id": "fbe090b0",
   "metadata": {},
   "outputs": [],
   "source": []
  },
  {
   "cell_type": "code",
   "execution_count": null,
   "id": "1c289f9a",
   "metadata": {},
   "outputs": [],
   "source": []
  },
  {
   "cell_type": "code",
   "execution_count": null,
   "id": "755cf375",
   "metadata": {},
   "outputs": [],
   "source": []
  },
  {
   "cell_type": "code",
   "execution_count": null,
   "id": "95c35384",
   "metadata": {},
   "outputs": [],
   "source": []
  },
  {
   "cell_type": "code",
   "execution_count": null,
   "id": "8aee5b9a",
   "metadata": {},
   "outputs": [],
   "source": []
  }
 ],
 "metadata": {
  "kernelspec": {
   "display_name": "Python 3 (ipykernel)",
   "language": "python",
   "name": "python3"
  },
  "language_info": {
   "codemirror_mode": {
    "name": "ipython",
    "version": 3
   },
   "file_extension": ".py",
   "mimetype": "text/x-python",
   "name": "python",
   "nbconvert_exporter": "python",
   "pygments_lexer": "ipython3",
   "version": "3.10.9"
  }
 },
 "nbformat": 4,
 "nbformat_minor": 5
}
